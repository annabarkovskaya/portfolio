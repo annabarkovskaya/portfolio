{
 "cells": [
  {
   "cell_type": "markdown",
   "metadata": {},
   "source": [
    " ## Model creating for Telecom Company"
   ]
  },
  {
   "cell_type": "markdown",
   "metadata": {},
   "source": [
    "This project was completed during Yandex.Practicum Data Science professional program.\n",
    "\n"
   ]
  },
  {
   "cell_type": "markdown",
   "metadata": {},
   "source": [
    "### Project's goal : prediction of customer churn\n",
    "\n"
   ]
  },
  {
   "cell_type": "markdown",
   "metadata": {},
   "source": [
    "### Content"
   ]
  },
  {
   "cell_type": "markdown",
   "metadata": {},
   "source": [
    "1. [General information about data](#start)\n",
    "2. [Data Preprocessing and Analysis](#1)\n",
    "3. [Models training](#2)\n",
    "4. [Testing](#3)\n",
    "5. [Results](#4)\n",
    "6. [Conclusion](#4)"
   ]
  },
  {
   "cell_type": "markdown",
   "metadata": {},
   "source": [
    "### Data information:\n",
    "- 4 datasets (contract, internet,personal,phone).\n",
    "- Target: Column 'EndDate' is 'No'.\n",
    "- Data were downloaded 2020-02-01 "
   ]
  },
  {
   "cell_type": "markdown",
   "metadata": {},
   "source": [
    " <a id=\"start\"></a>\n",
    "### *General information about data*"
   ]
  },
  {
   "cell_type": "code",
   "execution_count": 1,
   "metadata": {},
   "outputs": [],
   "source": [
    "import pandas as pd\n",
    "import plotly.express as px\n",
    "from sklearn.metrics import accuracy_score,f1_score, precision_score, recall_score, roc_curve, roc_auc_score,mean_squared_error, mean_absolute_error \n",
    "from sklearn.model_selection import train_test_split, RandomizedSearchCV\n",
    "from sklearn.linear_model import LogisticRegression\n",
    "import numpy as np\n",
    "from sklearn.preprocessing import StandardScaler\n",
    "from sklearn.utils import shuffle\n",
    "from sklearn.tree import DecisionTreeClassifier\n",
    "from sklearn.model_selection import RandomizedSearchCV\n",
    "from sklearn.metrics import make_scorer\n",
    "from sklearn.utils import shuffle\n",
    "import warnings\n",
    "import sklearn.exceptions\n",
    "warnings.filterwarnings('ignore')\n",
    "from sklearn.linear_model import LinearRegression\n",
    "from sklearn.metrics import mean_squared_error\n",
    "from scipy import stats as st\n",
    "from math import ceil\n",
    "from numpy.random import RandomState\n",
    "from sklearn.model_selection import cross_val_score\n",
    "import matplotlib.pyplot as plt\n",
    "from sklearn.ensemble import RandomForestClassifier\n",
    "from catboost import CatBoostClassifier\n",
    "import lightgbm as lgb\n",
    "import xgboost as xgb\n",
    "from xgboost import XGBClassifier"
   ]
  },
  {
   "cell_type": "markdown",
   "metadata": {},
   "source": [
    "\n"
   ]
  },
  {
   "cell_type": "code",
   "execution_count": 2,
   "metadata": {},
   "outputs": [],
   "source": [
    "contract=pd.read_csv('contract.csv')\n",
    "internet=pd.read_csv('internet.csv')\n",
    "personal=pd.read_csv('personal.csv')\n",
    "phone=pd.read_csv('phone.csv')"
   ]
  },
  {
   "cell_type": "code",
   "execution_count": 3,
   "metadata": {},
   "outputs": [
    {
     "data": {
      "text/html": [
       "<div>\n",
       "<style scoped>\n",
       "    .dataframe tbody tr th:only-of-type {\n",
       "        vertical-align: middle;\n",
       "    }\n",
       "\n",
       "    .dataframe tbody tr th {\n",
       "        vertical-align: top;\n",
       "    }\n",
       "\n",
       "    .dataframe thead th {\n",
       "        text-align: right;\n",
       "    }\n",
       "</style>\n",
       "<table border=\"1\" class=\"dataframe\">\n",
       "  <thead>\n",
       "    <tr style=\"text-align: right;\">\n",
       "      <th></th>\n",
       "      <th>customerID</th>\n",
       "      <th>BeginDate</th>\n",
       "      <th>EndDate</th>\n",
       "      <th>Type</th>\n",
       "      <th>PaperlessBilling</th>\n",
       "      <th>PaymentMethod</th>\n",
       "      <th>MonthlyCharges</th>\n",
       "      <th>TotalCharges</th>\n",
       "    </tr>\n",
       "  </thead>\n",
       "  <tbody>\n",
       "    <tr>\n",
       "      <th>0</th>\n",
       "      <td>7590-VHVEG</td>\n",
       "      <td>2020-01-01</td>\n",
       "      <td>No</td>\n",
       "      <td>Month-to-month</td>\n",
       "      <td>Yes</td>\n",
       "      <td>Electronic check</td>\n",
       "      <td>29.85</td>\n",
       "      <td>29.85</td>\n",
       "    </tr>\n",
       "    <tr>\n",
       "      <th>1</th>\n",
       "      <td>5575-GNVDE</td>\n",
       "      <td>2017-04-01</td>\n",
       "      <td>No</td>\n",
       "      <td>One year</td>\n",
       "      <td>No</td>\n",
       "      <td>Mailed check</td>\n",
       "      <td>56.95</td>\n",
       "      <td>1889.5</td>\n",
       "    </tr>\n",
       "    <tr>\n",
       "      <th>2</th>\n",
       "      <td>3668-QPYBK</td>\n",
       "      <td>2019-10-01</td>\n",
       "      <td>2019-12-01 00:00:00</td>\n",
       "      <td>Month-to-month</td>\n",
       "      <td>Yes</td>\n",
       "      <td>Mailed check</td>\n",
       "      <td>53.85</td>\n",
       "      <td>108.15</td>\n",
       "    </tr>\n",
       "    <tr>\n",
       "      <th>3</th>\n",
       "      <td>7795-CFOCW</td>\n",
       "      <td>2016-05-01</td>\n",
       "      <td>No</td>\n",
       "      <td>One year</td>\n",
       "      <td>No</td>\n",
       "      <td>Bank transfer (automatic)</td>\n",
       "      <td>42.30</td>\n",
       "      <td>1840.75</td>\n",
       "    </tr>\n",
       "    <tr>\n",
       "      <th>4</th>\n",
       "      <td>9237-HQITU</td>\n",
       "      <td>2019-09-01</td>\n",
       "      <td>2019-11-01 00:00:00</td>\n",
       "      <td>Month-to-month</td>\n",
       "      <td>Yes</td>\n",
       "      <td>Electronic check</td>\n",
       "      <td>70.70</td>\n",
       "      <td>151.65</td>\n",
       "    </tr>\n",
       "  </tbody>\n",
       "</table>\n",
       "</div>"
      ],
      "text/plain": [
       "   customerID   BeginDate              EndDate            Type  \\\n",
       "0  7590-VHVEG  2020-01-01                   No  Month-to-month   \n",
       "1  5575-GNVDE  2017-04-01                   No        One year   \n",
       "2  3668-QPYBK  2019-10-01  2019-12-01 00:00:00  Month-to-month   \n",
       "3  7795-CFOCW  2016-05-01                   No        One year   \n",
       "4  9237-HQITU  2019-09-01  2019-11-01 00:00:00  Month-to-month   \n",
       "\n",
       "  PaperlessBilling              PaymentMethod  MonthlyCharges TotalCharges  \n",
       "0              Yes           Electronic check           29.85        29.85  \n",
       "1               No               Mailed check           56.95       1889.5  \n",
       "2              Yes               Mailed check           53.85       108.15  \n",
       "3               No  Bank transfer (automatic)           42.30      1840.75  \n",
       "4              Yes           Electronic check           70.70       151.65  "
      ]
     },
     "metadata": {},
     "output_type": "display_data"
    },
    {
     "data": {
      "text/html": [
       "<div>\n",
       "<style scoped>\n",
       "    .dataframe tbody tr th:only-of-type {\n",
       "        vertical-align: middle;\n",
       "    }\n",
       "\n",
       "    .dataframe tbody tr th {\n",
       "        vertical-align: top;\n",
       "    }\n",
       "\n",
       "    .dataframe thead th {\n",
       "        text-align: right;\n",
       "    }\n",
       "</style>\n",
       "<table border=\"1\" class=\"dataframe\">\n",
       "  <thead>\n",
       "    <tr style=\"text-align: right;\">\n",
       "      <th></th>\n",
       "      <th>MonthlyCharges</th>\n",
       "    </tr>\n",
       "  </thead>\n",
       "  <tbody>\n",
       "    <tr>\n",
       "      <th>count</th>\n",
       "      <td>7043.000000</td>\n",
       "    </tr>\n",
       "    <tr>\n",
       "      <th>mean</th>\n",
       "      <td>64.761692</td>\n",
       "    </tr>\n",
       "    <tr>\n",
       "      <th>std</th>\n",
       "      <td>30.090047</td>\n",
       "    </tr>\n",
       "    <tr>\n",
       "      <th>min</th>\n",
       "      <td>18.250000</td>\n",
       "    </tr>\n",
       "    <tr>\n",
       "      <th>25%</th>\n",
       "      <td>35.500000</td>\n",
       "    </tr>\n",
       "    <tr>\n",
       "      <th>50%</th>\n",
       "      <td>70.350000</td>\n",
       "    </tr>\n",
       "    <tr>\n",
       "      <th>75%</th>\n",
       "      <td>89.850000</td>\n",
       "    </tr>\n",
       "    <tr>\n",
       "      <th>max</th>\n",
       "      <td>118.750000</td>\n",
       "    </tr>\n",
       "  </tbody>\n",
       "</table>\n",
       "</div>"
      ],
      "text/plain": [
       "       MonthlyCharges\n",
       "count     7043.000000\n",
       "mean        64.761692\n",
       "std         30.090047\n",
       "min         18.250000\n",
       "25%         35.500000\n",
       "50%         70.350000\n",
       "75%         89.850000\n",
       "max        118.750000"
      ]
     },
     "metadata": {},
     "output_type": "display_data"
    },
    {
     "name": "stdout",
     "output_type": "stream",
     "text": [
      "<class 'pandas.core.frame.DataFrame'>\n",
      "RangeIndex: 7043 entries, 0 to 7042\n",
      "Data columns (total 8 columns):\n",
      " #   Column            Non-Null Count  Dtype  \n",
      "---  ------            --------------  -----  \n",
      " 0   customerID        7043 non-null   object \n",
      " 1   BeginDate         7043 non-null   object \n",
      " 2   EndDate           7043 non-null   object \n",
      " 3   Type              7043 non-null   object \n",
      " 4   PaperlessBilling  7043 non-null   object \n",
      " 5   PaymentMethod     7043 non-null   object \n",
      " 6   MonthlyCharges    7043 non-null   float64\n",
      " 7   TotalCharges      7043 non-null   object \n",
      "dtypes: float64(1), object(7)\n",
      "memory usage: 440.3+ KB\n"
     ]
    },
    {
     "data": {
      "text/plain": [
       "None"
      ]
     },
     "metadata": {},
     "output_type": "display_data"
    },
    {
     "data": {
      "text/plain": [
       "customerID          0.0\n",
       "BeginDate           0.0\n",
       "EndDate             0.0\n",
       "Type                0.0\n",
       "PaperlessBilling    0.0\n",
       "PaymentMethod       0.0\n",
       "MonthlyCharges      0.0\n",
       "TotalCharges        0.0\n",
       "dtype: float64"
      ]
     },
     "metadata": {},
     "output_type": "display_data"
    }
   ],
   "source": [
    "display(contract.head(5), contract.describe())\n",
    "display(contract.info())\n",
    "display(contract.isna().mean())  "
   ]
  },
  {
   "cell_type": "code",
   "execution_count": 4,
   "metadata": {},
   "outputs": [
    {
     "data": {
      "text/html": [
       "<div>\n",
       "<style scoped>\n",
       "    .dataframe tbody tr th:only-of-type {\n",
       "        vertical-align: middle;\n",
       "    }\n",
       "\n",
       "    .dataframe tbody tr th {\n",
       "        vertical-align: top;\n",
       "    }\n",
       "\n",
       "    .dataframe thead th {\n",
       "        text-align: right;\n",
       "    }\n",
       "</style>\n",
       "<table border=\"1\" class=\"dataframe\">\n",
       "  <thead>\n",
       "    <tr style=\"text-align: right;\">\n",
       "      <th></th>\n",
       "      <th>customerID</th>\n",
       "      <th>InternetService</th>\n",
       "      <th>OnlineSecurity</th>\n",
       "      <th>OnlineBackup</th>\n",
       "      <th>DeviceProtection</th>\n",
       "      <th>TechSupport</th>\n",
       "      <th>StreamingTV</th>\n",
       "      <th>StreamingMovies</th>\n",
       "    </tr>\n",
       "  </thead>\n",
       "  <tbody>\n",
       "    <tr>\n",
       "      <th>0</th>\n",
       "      <td>7590-VHVEG</td>\n",
       "      <td>DSL</td>\n",
       "      <td>No</td>\n",
       "      <td>Yes</td>\n",
       "      <td>No</td>\n",
       "      <td>No</td>\n",
       "      <td>No</td>\n",
       "      <td>No</td>\n",
       "    </tr>\n",
       "    <tr>\n",
       "      <th>1</th>\n",
       "      <td>5575-GNVDE</td>\n",
       "      <td>DSL</td>\n",
       "      <td>Yes</td>\n",
       "      <td>No</td>\n",
       "      <td>Yes</td>\n",
       "      <td>No</td>\n",
       "      <td>No</td>\n",
       "      <td>No</td>\n",
       "    </tr>\n",
       "    <tr>\n",
       "      <th>2</th>\n",
       "      <td>3668-QPYBK</td>\n",
       "      <td>DSL</td>\n",
       "      <td>Yes</td>\n",
       "      <td>Yes</td>\n",
       "      <td>No</td>\n",
       "      <td>No</td>\n",
       "      <td>No</td>\n",
       "      <td>No</td>\n",
       "    </tr>\n",
       "    <tr>\n",
       "      <th>3</th>\n",
       "      <td>7795-CFOCW</td>\n",
       "      <td>DSL</td>\n",
       "      <td>Yes</td>\n",
       "      <td>No</td>\n",
       "      <td>Yes</td>\n",
       "      <td>Yes</td>\n",
       "      <td>No</td>\n",
       "      <td>No</td>\n",
       "    </tr>\n",
       "    <tr>\n",
       "      <th>4</th>\n",
       "      <td>9237-HQITU</td>\n",
       "      <td>Fiber optic</td>\n",
       "      <td>No</td>\n",
       "      <td>No</td>\n",
       "      <td>No</td>\n",
       "      <td>No</td>\n",
       "      <td>No</td>\n",
       "      <td>No</td>\n",
       "    </tr>\n",
       "  </tbody>\n",
       "</table>\n",
       "</div>"
      ],
      "text/plain": [
       "   customerID InternetService OnlineSecurity OnlineBackup DeviceProtection  \\\n",
       "0  7590-VHVEG             DSL             No          Yes               No   \n",
       "1  5575-GNVDE             DSL            Yes           No              Yes   \n",
       "2  3668-QPYBK             DSL            Yes          Yes               No   \n",
       "3  7795-CFOCW             DSL            Yes           No              Yes   \n",
       "4  9237-HQITU     Fiber optic             No           No               No   \n",
       "\n",
       "  TechSupport StreamingTV StreamingMovies  \n",
       "0          No          No              No  \n",
       "1          No          No              No  \n",
       "2          No          No              No  \n",
       "3         Yes          No              No  \n",
       "4          No          No              No  "
      ]
     },
     "metadata": {},
     "output_type": "display_data"
    },
    {
     "data": {
      "text/html": [
       "<div>\n",
       "<style scoped>\n",
       "    .dataframe tbody tr th:only-of-type {\n",
       "        vertical-align: middle;\n",
       "    }\n",
       "\n",
       "    .dataframe tbody tr th {\n",
       "        vertical-align: top;\n",
       "    }\n",
       "\n",
       "    .dataframe thead th {\n",
       "        text-align: right;\n",
       "    }\n",
       "</style>\n",
       "<table border=\"1\" class=\"dataframe\">\n",
       "  <thead>\n",
       "    <tr style=\"text-align: right;\">\n",
       "      <th></th>\n",
       "      <th>customerID</th>\n",
       "      <th>InternetService</th>\n",
       "      <th>OnlineSecurity</th>\n",
       "      <th>OnlineBackup</th>\n",
       "      <th>DeviceProtection</th>\n",
       "      <th>TechSupport</th>\n",
       "      <th>StreamingTV</th>\n",
       "      <th>StreamingMovies</th>\n",
       "    </tr>\n",
       "  </thead>\n",
       "  <tbody>\n",
       "    <tr>\n",
       "      <th>count</th>\n",
       "      <td>5517</td>\n",
       "      <td>5517</td>\n",
       "      <td>5517</td>\n",
       "      <td>5517</td>\n",
       "      <td>5517</td>\n",
       "      <td>5517</td>\n",
       "      <td>5517</td>\n",
       "      <td>5517</td>\n",
       "    </tr>\n",
       "    <tr>\n",
       "      <th>unique</th>\n",
       "      <td>5517</td>\n",
       "      <td>2</td>\n",
       "      <td>2</td>\n",
       "      <td>2</td>\n",
       "      <td>2</td>\n",
       "      <td>2</td>\n",
       "      <td>2</td>\n",
       "      <td>2</td>\n",
       "    </tr>\n",
       "    <tr>\n",
       "      <th>top</th>\n",
       "      <td>2773-MADBQ</td>\n",
       "      <td>Fiber optic</td>\n",
       "      <td>No</td>\n",
       "      <td>No</td>\n",
       "      <td>No</td>\n",
       "      <td>No</td>\n",
       "      <td>No</td>\n",
       "      <td>No</td>\n",
       "    </tr>\n",
       "    <tr>\n",
       "      <th>freq</th>\n",
       "      <td>1</td>\n",
       "      <td>3096</td>\n",
       "      <td>3498</td>\n",
       "      <td>3088</td>\n",
       "      <td>3095</td>\n",
       "      <td>3473</td>\n",
       "      <td>2810</td>\n",
       "      <td>2785</td>\n",
       "    </tr>\n",
       "  </tbody>\n",
       "</table>\n",
       "</div>"
      ],
      "text/plain": [
       "        customerID InternetService OnlineSecurity OnlineBackup  \\\n",
       "count         5517            5517           5517         5517   \n",
       "unique        5517               2              2            2   \n",
       "top     2773-MADBQ     Fiber optic             No           No   \n",
       "freq             1            3096           3498         3088   \n",
       "\n",
       "       DeviceProtection TechSupport StreamingTV StreamingMovies  \n",
       "count              5517        5517        5517            5517  \n",
       "unique                2           2           2               2  \n",
       "top                  No          No          No              No  \n",
       "freq               3095        3473        2810            2785  "
      ]
     },
     "metadata": {},
     "output_type": "display_data"
    },
    {
     "name": "stdout",
     "output_type": "stream",
     "text": [
      "<class 'pandas.core.frame.DataFrame'>\n",
      "RangeIndex: 5517 entries, 0 to 5516\n",
      "Data columns (total 8 columns):\n",
      " #   Column            Non-Null Count  Dtype \n",
      "---  ------            --------------  ----- \n",
      " 0   customerID        5517 non-null   object\n",
      " 1   InternetService   5517 non-null   object\n",
      " 2   OnlineSecurity    5517 non-null   object\n",
      " 3   OnlineBackup      5517 non-null   object\n",
      " 4   DeviceProtection  5517 non-null   object\n",
      " 5   TechSupport       5517 non-null   object\n",
      " 6   StreamingTV       5517 non-null   object\n",
      " 7   StreamingMovies   5517 non-null   object\n",
      "dtypes: object(8)\n",
      "memory usage: 344.9+ KB\n"
     ]
    },
    {
     "data": {
      "text/plain": [
       "None"
      ]
     },
     "metadata": {},
     "output_type": "display_data"
    },
    {
     "data": {
      "text/plain": [
       "customerID          0.0\n",
       "InternetService     0.0\n",
       "OnlineSecurity      0.0\n",
       "OnlineBackup        0.0\n",
       "DeviceProtection    0.0\n",
       "TechSupport         0.0\n",
       "StreamingTV         0.0\n",
       "StreamingMovies     0.0\n",
       "dtype: float64"
      ]
     },
     "metadata": {},
     "output_type": "display_data"
    }
   ],
   "source": [
    "display(internet.head(5), internet.describe())\n",
    "display(internet.info())\n",
    "display(internet.isna().mean())  "
   ]
  },
  {
   "cell_type": "code",
   "execution_count": 5,
   "metadata": {},
   "outputs": [
    {
     "data": {
      "text/html": [
       "<div>\n",
       "<style scoped>\n",
       "    .dataframe tbody tr th:only-of-type {\n",
       "        vertical-align: middle;\n",
       "    }\n",
       "\n",
       "    .dataframe tbody tr th {\n",
       "        vertical-align: top;\n",
       "    }\n",
       "\n",
       "    .dataframe thead th {\n",
       "        text-align: right;\n",
       "    }\n",
       "</style>\n",
       "<table border=\"1\" class=\"dataframe\">\n",
       "  <thead>\n",
       "    <tr style=\"text-align: right;\">\n",
       "      <th></th>\n",
       "      <th>customerID</th>\n",
       "      <th>gender</th>\n",
       "      <th>SeniorCitizen</th>\n",
       "      <th>Partner</th>\n",
       "      <th>Dependents</th>\n",
       "    </tr>\n",
       "  </thead>\n",
       "  <tbody>\n",
       "    <tr>\n",
       "      <th>0</th>\n",
       "      <td>7590-VHVEG</td>\n",
       "      <td>Female</td>\n",
       "      <td>0</td>\n",
       "      <td>Yes</td>\n",
       "      <td>No</td>\n",
       "    </tr>\n",
       "    <tr>\n",
       "      <th>1</th>\n",
       "      <td>5575-GNVDE</td>\n",
       "      <td>Male</td>\n",
       "      <td>0</td>\n",
       "      <td>No</td>\n",
       "      <td>No</td>\n",
       "    </tr>\n",
       "    <tr>\n",
       "      <th>2</th>\n",
       "      <td>3668-QPYBK</td>\n",
       "      <td>Male</td>\n",
       "      <td>0</td>\n",
       "      <td>No</td>\n",
       "      <td>No</td>\n",
       "    </tr>\n",
       "    <tr>\n",
       "      <th>3</th>\n",
       "      <td>7795-CFOCW</td>\n",
       "      <td>Male</td>\n",
       "      <td>0</td>\n",
       "      <td>No</td>\n",
       "      <td>No</td>\n",
       "    </tr>\n",
       "    <tr>\n",
       "      <th>4</th>\n",
       "      <td>9237-HQITU</td>\n",
       "      <td>Female</td>\n",
       "      <td>0</td>\n",
       "      <td>No</td>\n",
       "      <td>No</td>\n",
       "    </tr>\n",
       "  </tbody>\n",
       "</table>\n",
       "</div>"
      ],
      "text/plain": [
       "   customerID  gender  SeniorCitizen Partner Dependents\n",
       "0  7590-VHVEG  Female              0     Yes         No\n",
       "1  5575-GNVDE    Male              0      No         No\n",
       "2  3668-QPYBK    Male              0      No         No\n",
       "3  7795-CFOCW    Male              0      No         No\n",
       "4  9237-HQITU  Female              0      No         No"
      ]
     },
     "metadata": {},
     "output_type": "display_data"
    },
    {
     "data": {
      "text/html": [
       "<div>\n",
       "<style scoped>\n",
       "    .dataframe tbody tr th:only-of-type {\n",
       "        vertical-align: middle;\n",
       "    }\n",
       "\n",
       "    .dataframe tbody tr th {\n",
       "        vertical-align: top;\n",
       "    }\n",
       "\n",
       "    .dataframe thead th {\n",
       "        text-align: right;\n",
       "    }\n",
       "</style>\n",
       "<table border=\"1\" class=\"dataframe\">\n",
       "  <thead>\n",
       "    <tr style=\"text-align: right;\">\n",
       "      <th></th>\n",
       "      <th>SeniorCitizen</th>\n",
       "    </tr>\n",
       "  </thead>\n",
       "  <tbody>\n",
       "    <tr>\n",
       "      <th>count</th>\n",
       "      <td>7043.000000</td>\n",
       "    </tr>\n",
       "    <tr>\n",
       "      <th>mean</th>\n",
       "      <td>0.162147</td>\n",
       "    </tr>\n",
       "    <tr>\n",
       "      <th>std</th>\n",
       "      <td>0.368612</td>\n",
       "    </tr>\n",
       "    <tr>\n",
       "      <th>min</th>\n",
       "      <td>0.000000</td>\n",
       "    </tr>\n",
       "    <tr>\n",
       "      <th>25%</th>\n",
       "      <td>0.000000</td>\n",
       "    </tr>\n",
       "    <tr>\n",
       "      <th>50%</th>\n",
       "      <td>0.000000</td>\n",
       "    </tr>\n",
       "    <tr>\n",
       "      <th>75%</th>\n",
       "      <td>0.000000</td>\n",
       "    </tr>\n",
       "    <tr>\n",
       "      <th>max</th>\n",
       "      <td>1.000000</td>\n",
       "    </tr>\n",
       "  </tbody>\n",
       "</table>\n",
       "</div>"
      ],
      "text/plain": [
       "       SeniorCitizen\n",
       "count    7043.000000\n",
       "mean        0.162147\n",
       "std         0.368612\n",
       "min         0.000000\n",
       "25%         0.000000\n",
       "50%         0.000000\n",
       "75%         0.000000\n",
       "max         1.000000"
      ]
     },
     "metadata": {},
     "output_type": "display_data"
    },
    {
     "name": "stdout",
     "output_type": "stream",
     "text": [
      "<class 'pandas.core.frame.DataFrame'>\n",
      "RangeIndex: 7043 entries, 0 to 7042\n",
      "Data columns (total 5 columns):\n",
      " #   Column         Non-Null Count  Dtype \n",
      "---  ------         --------------  ----- \n",
      " 0   customerID     7043 non-null   object\n",
      " 1   gender         7043 non-null   object\n",
      " 2   SeniorCitizen  7043 non-null   int64 \n",
      " 3   Partner        7043 non-null   object\n",
      " 4   Dependents     7043 non-null   object\n",
      "dtypes: int64(1), object(4)\n",
      "memory usage: 275.2+ KB\n"
     ]
    },
    {
     "data": {
      "text/plain": [
       "None"
      ]
     },
     "metadata": {},
     "output_type": "display_data"
    },
    {
     "data": {
      "text/plain": [
       "customerID       0.0\n",
       "gender           0.0\n",
       "SeniorCitizen    0.0\n",
       "Partner          0.0\n",
       "Dependents       0.0\n",
       "dtype: float64"
      ]
     },
     "metadata": {},
     "output_type": "display_data"
    }
   ],
   "source": [
    "display(personal.head(5), personal.describe())\n",
    "display(personal.info())\n",
    "display(personal.isna().mean())  "
   ]
  },
  {
   "cell_type": "code",
   "execution_count": 6,
   "metadata": {},
   "outputs": [
    {
     "data": {
      "text/html": [
       "<div>\n",
       "<style scoped>\n",
       "    .dataframe tbody tr th:only-of-type {\n",
       "        vertical-align: middle;\n",
       "    }\n",
       "\n",
       "    .dataframe tbody tr th {\n",
       "        vertical-align: top;\n",
       "    }\n",
       "\n",
       "    .dataframe thead th {\n",
       "        text-align: right;\n",
       "    }\n",
       "</style>\n",
       "<table border=\"1\" class=\"dataframe\">\n",
       "  <thead>\n",
       "    <tr style=\"text-align: right;\">\n",
       "      <th></th>\n",
       "      <th>customerID</th>\n",
       "      <th>MultipleLines</th>\n",
       "    </tr>\n",
       "  </thead>\n",
       "  <tbody>\n",
       "    <tr>\n",
       "      <th>0</th>\n",
       "      <td>5575-GNVDE</td>\n",
       "      <td>No</td>\n",
       "    </tr>\n",
       "    <tr>\n",
       "      <th>1</th>\n",
       "      <td>3668-QPYBK</td>\n",
       "      <td>No</td>\n",
       "    </tr>\n",
       "    <tr>\n",
       "      <th>2</th>\n",
       "      <td>9237-HQITU</td>\n",
       "      <td>No</td>\n",
       "    </tr>\n",
       "    <tr>\n",
       "      <th>3</th>\n",
       "      <td>9305-CDSKC</td>\n",
       "      <td>Yes</td>\n",
       "    </tr>\n",
       "    <tr>\n",
       "      <th>4</th>\n",
       "      <td>1452-KIOVK</td>\n",
       "      <td>Yes</td>\n",
       "    </tr>\n",
       "  </tbody>\n",
       "</table>\n",
       "</div>"
      ],
      "text/plain": [
       "   customerID MultipleLines\n",
       "0  5575-GNVDE            No\n",
       "1  3668-QPYBK            No\n",
       "2  9237-HQITU            No\n",
       "3  9305-CDSKC           Yes\n",
       "4  1452-KIOVK           Yes"
      ]
     },
     "metadata": {},
     "output_type": "display_data"
    },
    {
     "data": {
      "text/html": [
       "<div>\n",
       "<style scoped>\n",
       "    .dataframe tbody tr th:only-of-type {\n",
       "        vertical-align: middle;\n",
       "    }\n",
       "\n",
       "    .dataframe tbody tr th {\n",
       "        vertical-align: top;\n",
       "    }\n",
       "\n",
       "    .dataframe thead th {\n",
       "        text-align: right;\n",
       "    }\n",
       "</style>\n",
       "<table border=\"1\" class=\"dataframe\">\n",
       "  <thead>\n",
       "    <tr style=\"text-align: right;\">\n",
       "      <th></th>\n",
       "      <th>customerID</th>\n",
       "      <th>MultipleLines</th>\n",
       "    </tr>\n",
       "  </thead>\n",
       "  <tbody>\n",
       "    <tr>\n",
       "      <th>count</th>\n",
       "      <td>6361</td>\n",
       "      <td>6361</td>\n",
       "    </tr>\n",
       "    <tr>\n",
       "      <th>unique</th>\n",
       "      <td>6361</td>\n",
       "      <td>2</td>\n",
       "    </tr>\n",
       "    <tr>\n",
       "      <th>top</th>\n",
       "      <td>6734-CKRSM</td>\n",
       "      <td>No</td>\n",
       "    </tr>\n",
       "    <tr>\n",
       "      <th>freq</th>\n",
       "      <td>1</td>\n",
       "      <td>3390</td>\n",
       "    </tr>\n",
       "  </tbody>\n",
       "</table>\n",
       "</div>"
      ],
      "text/plain": [
       "        customerID MultipleLines\n",
       "count         6361          6361\n",
       "unique        6361             2\n",
       "top     6734-CKRSM            No\n",
       "freq             1          3390"
      ]
     },
     "metadata": {},
     "output_type": "display_data"
    },
    {
     "name": "stdout",
     "output_type": "stream",
     "text": [
      "<class 'pandas.core.frame.DataFrame'>\n",
      "RangeIndex: 6361 entries, 0 to 6360\n",
      "Data columns (total 2 columns):\n",
      " #   Column         Non-Null Count  Dtype \n",
      "---  ------         --------------  ----- \n",
      " 0   customerID     6361 non-null   object\n",
      " 1   MultipleLines  6361 non-null   object\n",
      "dtypes: object(2)\n",
      "memory usage: 99.5+ KB\n"
     ]
    },
    {
     "data": {
      "text/plain": [
       "None"
      ]
     },
     "metadata": {},
     "output_type": "display_data"
    },
    {
     "data": {
      "text/plain": [
       "customerID       0.0\n",
       "MultipleLines    0.0\n",
       "dtype: float64"
      ]
     },
     "metadata": {},
     "output_type": "display_data"
    }
   ],
   "source": [
    "display(phone.head(5), phone.describe())\n",
    "display(phone.info())\n",
    "display(phone.isna().mean())  "
   ]
  },
  {
   "cell_type": "markdown",
   "metadata": {},
   "source": [
    "### Conclusion\n",
    " We've viewed data, it requires some preprocessing"
   ]
  },
  {
   "cell_type": "markdown",
   "metadata": {},
   "source": [
    "<a id=\"1\"></a>\n",
    "### *Data Preprocessing and Analysis*"
   ]
  },
  {
   "cell_type": "markdown",
   "metadata": {},
   "source": [
    "As we can see, some tables are shorter than others. Empty values may appear."
   ]
  },
  {
   "cell_type": "code",
   "execution_count": 7,
   "metadata": {},
   "outputs": [],
   "source": [
    "first = contract.merge(internet, on='customerID', how='outer') \n",
    "second=first.merge(personal, on='customerID', how='outer') \n",
    "df=second.merge(phone, on='customerID', how='outer') "
   ]
  },
  {
   "cell_type": "markdown",
   "metadata": {},
   "source": [
    "We have combined all tables in one."
   ]
  },
  {
   "cell_type": "code",
   "execution_count": 8,
   "metadata": {},
   "outputs": [
    {
     "data": {
      "text/html": [
       "<div>\n",
       "<style scoped>\n",
       "    .dataframe tbody tr th:only-of-type {\n",
       "        vertical-align: middle;\n",
       "    }\n",
       "\n",
       "    .dataframe tbody tr th {\n",
       "        vertical-align: top;\n",
       "    }\n",
       "\n",
       "    .dataframe thead th {\n",
       "        text-align: right;\n",
       "    }\n",
       "</style>\n",
       "<table border=\"1\" class=\"dataframe\">\n",
       "  <thead>\n",
       "    <tr style=\"text-align: right;\">\n",
       "      <th></th>\n",
       "      <th>customerID</th>\n",
       "      <th>BeginDate</th>\n",
       "      <th>EndDate</th>\n",
       "      <th>Type</th>\n",
       "      <th>PaperlessBilling</th>\n",
       "      <th>PaymentMethod</th>\n",
       "      <th>MonthlyCharges</th>\n",
       "      <th>TotalCharges</th>\n",
       "      <th>InternetService</th>\n",
       "      <th>OnlineSecurity</th>\n",
       "      <th>OnlineBackup</th>\n",
       "      <th>DeviceProtection</th>\n",
       "      <th>TechSupport</th>\n",
       "      <th>StreamingTV</th>\n",
       "      <th>StreamingMovies</th>\n",
       "      <th>gender</th>\n",
       "      <th>SeniorCitizen</th>\n",
       "      <th>Partner</th>\n",
       "      <th>Dependents</th>\n",
       "      <th>MultipleLines</th>\n",
       "    </tr>\n",
       "  </thead>\n",
       "  <tbody>\n",
       "    <tr>\n",
       "      <th>0</th>\n",
       "      <td>7590-VHVEG</td>\n",
       "      <td>2020-01-01</td>\n",
       "      <td>No</td>\n",
       "      <td>Month-to-month</td>\n",
       "      <td>Yes</td>\n",
       "      <td>Electronic check</td>\n",
       "      <td>29.85</td>\n",
       "      <td>29.85</td>\n",
       "      <td>DSL</td>\n",
       "      <td>No</td>\n",
       "      <td>Yes</td>\n",
       "      <td>No</td>\n",
       "      <td>No</td>\n",
       "      <td>No</td>\n",
       "      <td>No</td>\n",
       "      <td>Female</td>\n",
       "      <td>0</td>\n",
       "      <td>Yes</td>\n",
       "      <td>No</td>\n",
       "      <td>NaN</td>\n",
       "    </tr>\n",
       "    <tr>\n",
       "      <th>1</th>\n",
       "      <td>5575-GNVDE</td>\n",
       "      <td>2017-04-01</td>\n",
       "      <td>No</td>\n",
       "      <td>One year</td>\n",
       "      <td>No</td>\n",
       "      <td>Mailed check</td>\n",
       "      <td>56.95</td>\n",
       "      <td>1889.5</td>\n",
       "      <td>DSL</td>\n",
       "      <td>Yes</td>\n",
       "      <td>No</td>\n",
       "      <td>Yes</td>\n",
       "      <td>No</td>\n",
       "      <td>No</td>\n",
       "      <td>No</td>\n",
       "      <td>Male</td>\n",
       "      <td>0</td>\n",
       "      <td>No</td>\n",
       "      <td>No</td>\n",
       "      <td>No</td>\n",
       "    </tr>\n",
       "    <tr>\n",
       "      <th>2</th>\n",
       "      <td>3668-QPYBK</td>\n",
       "      <td>2019-10-01</td>\n",
       "      <td>2019-12-01 00:00:00</td>\n",
       "      <td>Month-to-month</td>\n",
       "      <td>Yes</td>\n",
       "      <td>Mailed check</td>\n",
       "      <td>53.85</td>\n",
       "      <td>108.15</td>\n",
       "      <td>DSL</td>\n",
       "      <td>Yes</td>\n",
       "      <td>Yes</td>\n",
       "      <td>No</td>\n",
       "      <td>No</td>\n",
       "      <td>No</td>\n",
       "      <td>No</td>\n",
       "      <td>Male</td>\n",
       "      <td>0</td>\n",
       "      <td>No</td>\n",
       "      <td>No</td>\n",
       "      <td>No</td>\n",
       "    </tr>\n",
       "    <tr>\n",
       "      <th>3</th>\n",
       "      <td>7795-CFOCW</td>\n",
       "      <td>2016-05-01</td>\n",
       "      <td>No</td>\n",
       "      <td>One year</td>\n",
       "      <td>No</td>\n",
       "      <td>Bank transfer (automatic)</td>\n",
       "      <td>42.30</td>\n",
       "      <td>1840.75</td>\n",
       "      <td>DSL</td>\n",
       "      <td>Yes</td>\n",
       "      <td>No</td>\n",
       "      <td>Yes</td>\n",
       "      <td>Yes</td>\n",
       "      <td>No</td>\n",
       "      <td>No</td>\n",
       "      <td>Male</td>\n",
       "      <td>0</td>\n",
       "      <td>No</td>\n",
       "      <td>No</td>\n",
       "      <td>NaN</td>\n",
       "    </tr>\n",
       "    <tr>\n",
       "      <th>4</th>\n",
       "      <td>9237-HQITU</td>\n",
       "      <td>2019-09-01</td>\n",
       "      <td>2019-11-01 00:00:00</td>\n",
       "      <td>Month-to-month</td>\n",
       "      <td>Yes</td>\n",
       "      <td>Electronic check</td>\n",
       "      <td>70.70</td>\n",
       "      <td>151.65</td>\n",
       "      <td>Fiber optic</td>\n",
       "      <td>No</td>\n",
       "      <td>No</td>\n",
       "      <td>No</td>\n",
       "      <td>No</td>\n",
       "      <td>No</td>\n",
       "      <td>No</td>\n",
       "      <td>Female</td>\n",
       "      <td>0</td>\n",
       "      <td>No</td>\n",
       "      <td>No</td>\n",
       "      <td>No</td>\n",
       "    </tr>\n",
       "    <tr>\n",
       "      <th>...</th>\n",
       "      <td>...</td>\n",
       "      <td>...</td>\n",
       "      <td>...</td>\n",
       "      <td>...</td>\n",
       "      <td>...</td>\n",
       "      <td>...</td>\n",
       "      <td>...</td>\n",
       "      <td>...</td>\n",
       "      <td>...</td>\n",
       "      <td>...</td>\n",
       "      <td>...</td>\n",
       "      <td>...</td>\n",
       "      <td>...</td>\n",
       "      <td>...</td>\n",
       "      <td>...</td>\n",
       "      <td>...</td>\n",
       "      <td>...</td>\n",
       "      <td>...</td>\n",
       "      <td>...</td>\n",
       "      <td>...</td>\n",
       "    </tr>\n",
       "    <tr>\n",
       "      <th>7038</th>\n",
       "      <td>6840-RESVB</td>\n",
       "      <td>2018-02-01</td>\n",
       "      <td>No</td>\n",
       "      <td>One year</td>\n",
       "      <td>Yes</td>\n",
       "      <td>Mailed check</td>\n",
       "      <td>84.80</td>\n",
       "      <td>1990.5</td>\n",
       "      <td>DSL</td>\n",
       "      <td>Yes</td>\n",
       "      <td>No</td>\n",
       "      <td>Yes</td>\n",
       "      <td>Yes</td>\n",
       "      <td>Yes</td>\n",
       "      <td>Yes</td>\n",
       "      <td>Male</td>\n",
       "      <td>0</td>\n",
       "      <td>Yes</td>\n",
       "      <td>Yes</td>\n",
       "      <td>Yes</td>\n",
       "    </tr>\n",
       "    <tr>\n",
       "      <th>7039</th>\n",
       "      <td>2234-XADUH</td>\n",
       "      <td>2014-02-01</td>\n",
       "      <td>No</td>\n",
       "      <td>One year</td>\n",
       "      <td>Yes</td>\n",
       "      <td>Credit card (automatic)</td>\n",
       "      <td>103.20</td>\n",
       "      <td>7362.9</td>\n",
       "      <td>Fiber optic</td>\n",
       "      <td>No</td>\n",
       "      <td>Yes</td>\n",
       "      <td>Yes</td>\n",
       "      <td>No</td>\n",
       "      <td>Yes</td>\n",
       "      <td>Yes</td>\n",
       "      <td>Female</td>\n",
       "      <td>0</td>\n",
       "      <td>Yes</td>\n",
       "      <td>Yes</td>\n",
       "      <td>Yes</td>\n",
       "    </tr>\n",
       "    <tr>\n",
       "      <th>7040</th>\n",
       "      <td>4801-JZAZL</td>\n",
       "      <td>2019-03-01</td>\n",
       "      <td>No</td>\n",
       "      <td>Month-to-month</td>\n",
       "      <td>Yes</td>\n",
       "      <td>Electronic check</td>\n",
       "      <td>29.60</td>\n",
       "      <td>346.45</td>\n",
       "      <td>DSL</td>\n",
       "      <td>Yes</td>\n",
       "      <td>No</td>\n",
       "      <td>No</td>\n",
       "      <td>No</td>\n",
       "      <td>No</td>\n",
       "      <td>No</td>\n",
       "      <td>Female</td>\n",
       "      <td>0</td>\n",
       "      <td>Yes</td>\n",
       "      <td>Yes</td>\n",
       "      <td>NaN</td>\n",
       "    </tr>\n",
       "    <tr>\n",
       "      <th>7041</th>\n",
       "      <td>8361-LTMKD</td>\n",
       "      <td>2019-07-01</td>\n",
       "      <td>2019-11-01 00:00:00</td>\n",
       "      <td>Month-to-month</td>\n",
       "      <td>Yes</td>\n",
       "      <td>Mailed check</td>\n",
       "      <td>74.40</td>\n",
       "      <td>306.6</td>\n",
       "      <td>Fiber optic</td>\n",
       "      <td>No</td>\n",
       "      <td>No</td>\n",
       "      <td>No</td>\n",
       "      <td>No</td>\n",
       "      <td>No</td>\n",
       "      <td>No</td>\n",
       "      <td>Male</td>\n",
       "      <td>1</td>\n",
       "      <td>Yes</td>\n",
       "      <td>No</td>\n",
       "      <td>Yes</td>\n",
       "    </tr>\n",
       "    <tr>\n",
       "      <th>7042</th>\n",
       "      <td>3186-AJIEK</td>\n",
       "      <td>2014-08-01</td>\n",
       "      <td>No</td>\n",
       "      <td>Two year</td>\n",
       "      <td>Yes</td>\n",
       "      <td>Bank transfer (automatic)</td>\n",
       "      <td>105.65</td>\n",
       "      <td>6844.5</td>\n",
       "      <td>Fiber optic</td>\n",
       "      <td>Yes</td>\n",
       "      <td>No</td>\n",
       "      <td>Yes</td>\n",
       "      <td>Yes</td>\n",
       "      <td>Yes</td>\n",
       "      <td>Yes</td>\n",
       "      <td>Male</td>\n",
       "      <td>0</td>\n",
       "      <td>No</td>\n",
       "      <td>No</td>\n",
       "      <td>No</td>\n",
       "    </tr>\n",
       "  </tbody>\n",
       "</table>\n",
       "<p>7043 rows × 20 columns</p>\n",
       "</div>"
      ],
      "text/plain": [
       "      customerID   BeginDate              EndDate            Type  \\\n",
       "0     7590-VHVEG  2020-01-01                   No  Month-to-month   \n",
       "1     5575-GNVDE  2017-04-01                   No        One year   \n",
       "2     3668-QPYBK  2019-10-01  2019-12-01 00:00:00  Month-to-month   \n",
       "3     7795-CFOCW  2016-05-01                   No        One year   \n",
       "4     9237-HQITU  2019-09-01  2019-11-01 00:00:00  Month-to-month   \n",
       "...          ...         ...                  ...             ...   \n",
       "7038  6840-RESVB  2018-02-01                   No        One year   \n",
       "7039  2234-XADUH  2014-02-01                   No        One year   \n",
       "7040  4801-JZAZL  2019-03-01                   No  Month-to-month   \n",
       "7041  8361-LTMKD  2019-07-01  2019-11-01 00:00:00  Month-to-month   \n",
       "7042  3186-AJIEK  2014-08-01                   No        Two year   \n",
       "\n",
       "     PaperlessBilling              PaymentMethod  MonthlyCharges TotalCharges  \\\n",
       "0                 Yes           Electronic check           29.85        29.85   \n",
       "1                  No               Mailed check           56.95       1889.5   \n",
       "2                 Yes               Mailed check           53.85       108.15   \n",
       "3                  No  Bank transfer (automatic)           42.30      1840.75   \n",
       "4                 Yes           Electronic check           70.70       151.65   \n",
       "...               ...                        ...             ...          ...   \n",
       "7038              Yes               Mailed check           84.80       1990.5   \n",
       "7039              Yes    Credit card (automatic)          103.20       7362.9   \n",
       "7040              Yes           Electronic check           29.60       346.45   \n",
       "7041              Yes               Mailed check           74.40        306.6   \n",
       "7042              Yes  Bank transfer (automatic)          105.65       6844.5   \n",
       "\n",
       "     InternetService OnlineSecurity OnlineBackup DeviceProtection TechSupport  \\\n",
       "0                DSL             No          Yes               No          No   \n",
       "1                DSL            Yes           No              Yes          No   \n",
       "2                DSL            Yes          Yes               No          No   \n",
       "3                DSL            Yes           No              Yes         Yes   \n",
       "4        Fiber optic             No           No               No          No   \n",
       "...              ...            ...          ...              ...         ...   \n",
       "7038             DSL            Yes           No              Yes         Yes   \n",
       "7039     Fiber optic             No          Yes              Yes          No   \n",
       "7040             DSL            Yes           No               No          No   \n",
       "7041     Fiber optic             No           No               No          No   \n",
       "7042     Fiber optic            Yes           No              Yes         Yes   \n",
       "\n",
       "     StreamingTV StreamingMovies  gender  SeniorCitizen Partner Dependents  \\\n",
       "0             No              No  Female              0     Yes         No   \n",
       "1             No              No    Male              0      No         No   \n",
       "2             No              No    Male              0      No         No   \n",
       "3             No              No    Male              0      No         No   \n",
       "4             No              No  Female              0      No         No   \n",
       "...          ...             ...     ...            ...     ...        ...   \n",
       "7038         Yes             Yes    Male              0     Yes        Yes   \n",
       "7039         Yes             Yes  Female              0     Yes        Yes   \n",
       "7040          No              No  Female              0     Yes        Yes   \n",
       "7041          No              No    Male              1     Yes         No   \n",
       "7042         Yes             Yes    Male              0      No         No   \n",
       "\n",
       "     MultipleLines  \n",
       "0              NaN  \n",
       "1               No  \n",
       "2               No  \n",
       "3              NaN  \n",
       "4               No  \n",
       "...            ...  \n",
       "7038           Yes  \n",
       "7039           Yes  \n",
       "7040           NaN  \n",
       "7041           Yes  \n",
       "7042            No  \n",
       "\n",
       "[7043 rows x 20 columns]"
      ]
     },
     "execution_count": 8,
     "metadata": {},
     "output_type": "execute_result"
    }
   ],
   "source": [
    "df"
   ]
  },
  {
   "cell_type": "markdown",
   "metadata": {},
   "source": [
    "Lets see 'MonthlyCharges' graph "
   ]
  },
  {
   "cell_type": "code",
   "execution_count": 9,
   "metadata": {},
   "outputs": [
    {
     "data": {
      "text/plain": [
       "<AxesSubplot:>"
      ]
     },
     "execution_count": 9,
     "metadata": {},
     "output_type": "execute_result"
    },
    {
     "data": {
      "image/png": "[encoded data removed]",
      "text/plain": [
       "<Figure size 432x288 with 1 Axes>"
      ]
     },
     "metadata": {
      "needs_background": "light"
     },
     "output_type": "display_data"
    }
   ],
   "source": [
    "contract.boxplot(column='MonthlyCharges')"
   ]
  },
  {
   "attachments": {
    "image.png": {
     "image/png": "[encoded data removed]"
    }
   },
   "cell_type": "markdown",
   "metadata": {},
   "source": [
    "![image.png](attachment:image.png)"
   ]
  },
  {
   "cell_type": "code",
   "execution_count": 10,
   "metadata": {},
   "outputs": [
    {
     "data": {
      "image/png": "[encoded data removed]",
      "text/plain": [
       "<Figure size 432x288 with 1 Axes>"
      ]
     },
     "metadata": {
      "needs_background": "light"
     },
     "output_type": "display_data"
    }
   ],
   "source": [
    "contract.plot(kind='hist', y='MonthlyCharges', bins=10,label='MonthlyCharges', grid=True, legend=True)\n",
    "plt.show()"
   ]
  },
  {
   "attachments": {
    "image.png": {
     "image/png": "[encoded data removed]"
    }
   },
   "cell_type": "markdown",
   "metadata": {},
   "source": [
    "![image.png](attachment:image.png)"
   ]
  },
  {
   "cell_type": "markdown",
   "metadata": {},
   "source": [
    "Lets see 'TotalCharges' graph. Before this, we should transform the type of data on numeric. "
   ]
  },
  {
   "cell_type": "code",
   "execution_count": 11,
   "metadata": {},
   "outputs": [
    {
     "data": {
      "text/html": [
       "<div>\n",
       "<style scoped>\n",
       "    .dataframe tbody tr th:only-of-type {\n",
       "        vertical-align: middle;\n",
       "    }\n",
       "\n",
       "    .dataframe tbody tr th {\n",
       "        vertical-align: top;\n",
       "    }\n",
       "\n",
       "    .dataframe thead th {\n",
       "        text-align: right;\n",
       "    }\n",
       "</style>\n",
       "<table border=\"1\" class=\"dataframe\">\n",
       "  <thead>\n",
       "    <tr style=\"text-align: right;\">\n",
       "      <th></th>\n",
       "      <th>customerID</th>\n",
       "      <th>BeginDate</th>\n",
       "      <th>EndDate</th>\n",
       "      <th>Type</th>\n",
       "      <th>PaperlessBilling</th>\n",
       "      <th>PaymentMethod</th>\n",
       "      <th>MonthlyCharges</th>\n",
       "      <th>TotalCharges</th>\n",
       "      <th>InternetService</th>\n",
       "      <th>OnlineSecurity</th>\n",
       "      <th>OnlineBackup</th>\n",
       "      <th>DeviceProtection</th>\n",
       "      <th>TechSupport</th>\n",
       "      <th>StreamingTV</th>\n",
       "      <th>StreamingMovies</th>\n",
       "      <th>gender</th>\n",
       "      <th>SeniorCitizen</th>\n",
       "      <th>Partner</th>\n",
       "      <th>Dependents</th>\n",
       "      <th>MultipleLines</th>\n",
       "    </tr>\n",
       "  </thead>\n",
       "  <tbody>\n",
       "  </tbody>\n",
       "</table>\n",
       "</div>"
      ],
      "text/plain": [
       "Empty DataFrame\n",
       "Columns: [customerID, BeginDate, EndDate, Type, PaperlessBilling, PaymentMethod, MonthlyCharges, TotalCharges, InternetService, OnlineSecurity, OnlineBackup, DeviceProtection, TechSupport, StreamingTV, StreamingMovies, gender, SeniorCitizen, Partner, Dependents, MultipleLines]\n",
       "Index: []"
      ]
     },
     "execution_count": 11,
     "metadata": {},
     "output_type": "execute_result"
    }
   ],
   "source": [
    "df[df['TotalCharges'] == '0']"
   ]
  },
  {
   "cell_type": "code",
   "execution_count": 12,
   "metadata": {},
   "outputs": [],
   "source": [
    "def change_type(data):\n",
    "    try:\n",
    "        data= pd.to_numeric(data)\n",
    "    except:\n",
    "        data=0\n",
    "    return data"
   ]
  },
  {
   "cell_type": "code",
   "execution_count": 13,
   "metadata": {},
   "outputs": [],
   "source": [
    "contract['TotalCharges'] = contract['TotalCharges'].apply(change_type)"
   ]
  },
  {
   "cell_type": "code",
   "execution_count": 14,
   "metadata": {
    "scrolled": true
   },
   "outputs": [
    {
     "data": {
      "image/png": "[encoded data removed]",
      "text/plain": [
       "<Figure size 432x288 with 1 Axes>"
      ]
     },
     "metadata": {
      "needs_background": "light"
     },
     "output_type": "display_data"
    }
   ],
   "source": [
    "contract.plot(kind='hist', y='TotalCharges', bins=100,label='TotalCharges', grid=True, legend=True)\n",
    "plt.show()"
   ]
  },
  {
   "attachments": {
    "image.png": {
     "image/png": "[encoded data removed]"
    }
   },
   "cell_type": "markdown",
   "metadata": {},
   "source": [
    "![image.png](attachment:image.png)\n"
   ]
  },
  {
   "cell_type": "code",
   "execution_count": 15,
   "metadata": {},
   "outputs": [
    {
     "data": {
      "text/plain": [
       "<AxesSubplot:>"
      ]
     },
     "execution_count": 15,
     "metadata": {},
     "output_type": "execute_result"
    },
    {
     "data": {
      "image/png": "[encoded data removed]",
      "text/plain": [
       "<Figure size 432x288 with 1 Axes>"
      ]
     },
     "metadata": {
      "needs_background": "light"
     },
     "output_type": "display_data"
    }
   ],
   "source": [
    "contract.boxplot(column='TotalCharges')"
   ]
  },
  {
   "attachments": {
    "image.png": {
     "image/png": "[encoded data removed]"
    }
   },
   "cell_type": "markdown",
   "metadata": {},
   "source": [
    "![image.png](attachment:image.png)"
   ]
  },
  {
   "cell_type": "code",
   "execution_count": 16,
   "metadata": {},
   "outputs": [
    {
     "data": {
      "text/plain": [
       "(0, 0, 0, 0)"
      ]
     },
     "execution_count": 16,
     "metadata": {},
     "output_type": "execute_result"
    }
   ],
   "source": [
    "contract.duplicated().sum(),personal.duplicated().sum(), internet.duplicated().sum(),phone.duplicated().sum()\n"
   ]
  },
  {
   "cell_type": "markdown",
   "metadata": {},
   "source": [
    "Duplicates are not found"
   ]
  },
  {
   "cell_type": "markdown",
   "metadata": {},
   "source": [
    "Let's check the information about  table."
   ]
  },
  {
   "cell_type": "code",
   "execution_count": 17,
   "metadata": {},
   "outputs": [
    {
     "data": {
      "text/html": [
       "<div>\n",
       "<style scoped>\n",
       "    .dataframe tbody tr th:only-of-type {\n",
       "        vertical-align: middle;\n",
       "    }\n",
       "\n",
       "    .dataframe tbody tr th {\n",
       "        vertical-align: top;\n",
       "    }\n",
       "\n",
       "    .dataframe thead th {\n",
       "        text-align: right;\n",
       "    }\n",
       "</style>\n",
       "<table border=\"1\" class=\"dataframe\">\n",
       "  <thead>\n",
       "    <tr style=\"text-align: right;\">\n",
       "      <th></th>\n",
       "      <th>customerID</th>\n",
       "      <th>BeginDate</th>\n",
       "      <th>EndDate</th>\n",
       "      <th>Type</th>\n",
       "      <th>PaperlessBilling</th>\n",
       "      <th>PaymentMethod</th>\n",
       "      <th>MonthlyCharges</th>\n",
       "      <th>TotalCharges</th>\n",
       "      <th>InternetService</th>\n",
       "      <th>OnlineSecurity</th>\n",
       "      <th>OnlineBackup</th>\n",
       "      <th>DeviceProtection</th>\n",
       "      <th>TechSupport</th>\n",
       "      <th>StreamingTV</th>\n",
       "      <th>StreamingMovies</th>\n",
       "      <th>gender</th>\n",
       "      <th>SeniorCitizen</th>\n",
       "      <th>Partner</th>\n",
       "      <th>Dependents</th>\n",
       "      <th>MultipleLines</th>\n",
       "    </tr>\n",
       "  </thead>\n",
       "  <tbody>\n",
       "    <tr>\n",
       "      <th>0</th>\n",
       "      <td>7590-VHVEG</td>\n",
       "      <td>2020-01-01</td>\n",
       "      <td>No</td>\n",
       "      <td>Month-to-month</td>\n",
       "      <td>Yes</td>\n",
       "      <td>Electronic check</td>\n",
       "      <td>29.85</td>\n",
       "      <td>29.85</td>\n",
       "      <td>DSL</td>\n",
       "      <td>No</td>\n",
       "      <td>Yes</td>\n",
       "      <td>No</td>\n",
       "      <td>No</td>\n",
       "      <td>No</td>\n",
       "      <td>No</td>\n",
       "      <td>Female</td>\n",
       "      <td>0</td>\n",
       "      <td>Yes</td>\n",
       "      <td>No</td>\n",
       "      <td>NaN</td>\n",
       "    </tr>\n",
       "    <tr>\n",
       "      <th>1</th>\n",
       "      <td>5575-GNVDE</td>\n",
       "      <td>2017-04-01</td>\n",
       "      <td>No</td>\n",
       "      <td>One year</td>\n",
       "      <td>No</td>\n",
       "      <td>Mailed check</td>\n",
       "      <td>56.95</td>\n",
       "      <td>1889.5</td>\n",
       "      <td>DSL</td>\n",
       "      <td>Yes</td>\n",
       "      <td>No</td>\n",
       "      <td>Yes</td>\n",
       "      <td>No</td>\n",
       "      <td>No</td>\n",
       "      <td>No</td>\n",
       "      <td>Male</td>\n",
       "      <td>0</td>\n",
       "      <td>No</td>\n",
       "      <td>No</td>\n",
       "      <td>No</td>\n",
       "    </tr>\n",
       "    <tr>\n",
       "      <th>2</th>\n",
       "      <td>3668-QPYBK</td>\n",
       "      <td>2019-10-01</td>\n",
       "      <td>2019-12-01 00:00:00</td>\n",
       "      <td>Month-to-month</td>\n",
       "      <td>Yes</td>\n",
       "      <td>Mailed check</td>\n",
       "      <td>53.85</td>\n",
       "      <td>108.15</td>\n",
       "      <td>DSL</td>\n",
       "      <td>Yes</td>\n",
       "      <td>Yes</td>\n",
       "      <td>No</td>\n",
       "      <td>No</td>\n",
       "      <td>No</td>\n",
       "      <td>No</td>\n",
       "      <td>Male</td>\n",
       "      <td>0</td>\n",
       "      <td>No</td>\n",
       "      <td>No</td>\n",
       "      <td>No</td>\n",
       "    </tr>\n",
       "    <tr>\n",
       "      <th>3</th>\n",
       "      <td>7795-CFOCW</td>\n",
       "      <td>2016-05-01</td>\n",
       "      <td>No</td>\n",
       "      <td>One year</td>\n",
       "      <td>No</td>\n",
       "      <td>Bank transfer (automatic)</td>\n",
       "      <td>42.30</td>\n",
       "      <td>1840.75</td>\n",
       "      <td>DSL</td>\n",
       "      <td>Yes</td>\n",
       "      <td>No</td>\n",
       "      <td>Yes</td>\n",
       "      <td>Yes</td>\n",
       "      <td>No</td>\n",
       "      <td>No</td>\n",
       "      <td>Male</td>\n",
       "      <td>0</td>\n",
       "      <td>No</td>\n",
       "      <td>No</td>\n",
       "      <td>NaN</td>\n",
       "    </tr>\n",
       "    <tr>\n",
       "      <th>4</th>\n",
       "      <td>9237-HQITU</td>\n",
       "      <td>2019-09-01</td>\n",
       "      <td>2019-11-01 00:00:00</td>\n",
       "      <td>Month-to-month</td>\n",
       "      <td>Yes</td>\n",
       "      <td>Electronic check</td>\n",
       "      <td>70.70</td>\n",
       "      <td>151.65</td>\n",
       "      <td>Fiber optic</td>\n",
       "      <td>No</td>\n",
       "      <td>No</td>\n",
       "      <td>No</td>\n",
       "      <td>No</td>\n",
       "      <td>No</td>\n",
       "      <td>No</td>\n",
       "      <td>Female</td>\n",
       "      <td>0</td>\n",
       "      <td>No</td>\n",
       "      <td>No</td>\n",
       "      <td>No</td>\n",
       "    </tr>\n",
       "  </tbody>\n",
       "</table>\n",
       "</div>"
      ],
      "text/plain": [
       "   customerID   BeginDate              EndDate            Type  \\\n",
       "0  7590-VHVEG  2020-01-01                   No  Month-to-month   \n",
       "1  5575-GNVDE  2017-04-01                   No        One year   \n",
       "2  3668-QPYBK  2019-10-01  2019-12-01 00:00:00  Month-to-month   \n",
       "3  7795-CFOCW  2016-05-01                   No        One year   \n",
       "4  9237-HQITU  2019-09-01  2019-11-01 00:00:00  Month-to-month   \n",
       "\n",
       "  PaperlessBilling              PaymentMethod  MonthlyCharges TotalCharges  \\\n",
       "0              Yes           Electronic check           29.85        29.85   \n",
       "1               No               Mailed check           56.95       1889.5   \n",
       "2              Yes               Mailed check           53.85       108.15   \n",
       "3               No  Bank transfer (automatic)           42.30      1840.75   \n",
       "4              Yes           Electronic check           70.70       151.65   \n",
       "\n",
       "  InternetService OnlineSecurity OnlineBackup DeviceProtection TechSupport  \\\n",
       "0             DSL             No          Yes               No          No   \n",
       "1             DSL            Yes           No              Yes          No   \n",
       "2             DSL            Yes          Yes               No          No   \n",
       "3             DSL            Yes           No              Yes         Yes   \n",
       "4     Fiber optic             No           No               No          No   \n",
       "\n",
       "  StreamingTV StreamingMovies  gender  SeniorCitizen Partner Dependents  \\\n",
       "0          No              No  Female              0     Yes         No   \n",
       "1          No              No    Male              0      No         No   \n",
       "2          No              No    Male              0      No         No   \n",
       "3          No              No    Male              0      No         No   \n",
       "4          No              No  Female              0      No         No   \n",
       "\n",
       "  MultipleLines  \n",
       "0           NaN  \n",
       "1            No  \n",
       "2            No  \n",
       "3           NaN  \n",
       "4            No  "
      ]
     },
     "metadata": {},
     "output_type": "display_data"
    },
    {
     "data": {
      "text/html": [
       "<div>\n",
       "<style scoped>\n",
       "    .dataframe tbody tr th:only-of-type {\n",
       "        vertical-align: middle;\n",
       "    }\n",
       "\n",
       "    .dataframe tbody tr th {\n",
       "        vertical-align: top;\n",
       "    }\n",
       "\n",
       "    .dataframe thead th {\n",
       "        text-align: right;\n",
       "    }\n",
       "</style>\n",
       "<table border=\"1\" class=\"dataframe\">\n",
       "  <thead>\n",
       "    <tr style=\"text-align: right;\">\n",
       "      <th></th>\n",
       "      <th>MonthlyCharges</th>\n",
       "      <th>SeniorCitizen</th>\n",
       "    </tr>\n",
       "  </thead>\n",
       "  <tbody>\n",
       "    <tr>\n",
       "      <th>count</th>\n",
       "      <td>7043.000000</td>\n",
       "      <td>7043.000000</td>\n",
       "    </tr>\n",
       "    <tr>\n",
       "      <th>mean</th>\n",
       "      <td>64.761692</td>\n",
       "      <td>0.162147</td>\n",
       "    </tr>\n",
       "    <tr>\n",
       "      <th>std</th>\n",
       "      <td>30.090047</td>\n",
       "      <td>0.368612</td>\n",
       "    </tr>\n",
       "    <tr>\n",
       "      <th>min</th>\n",
       "      <td>18.250000</td>\n",
       "      <td>0.000000</td>\n",
       "    </tr>\n",
       "    <tr>\n",
       "      <th>25%</th>\n",
       "      <td>35.500000</td>\n",
       "      <td>0.000000</td>\n",
       "    </tr>\n",
       "    <tr>\n",
       "      <th>50%</th>\n",
       "      <td>70.350000</td>\n",
       "      <td>0.000000</td>\n",
       "    </tr>\n",
       "    <tr>\n",
       "      <th>75%</th>\n",
       "      <td>89.850000</td>\n",
       "      <td>0.000000</td>\n",
       "    </tr>\n",
       "    <tr>\n",
       "      <th>max</th>\n",
       "      <td>118.750000</td>\n",
       "      <td>1.000000</td>\n",
       "    </tr>\n",
       "  </tbody>\n",
       "</table>\n",
       "</div>"
      ],
      "text/plain": [
       "       MonthlyCharges  SeniorCitizen\n",
       "count     7043.000000    7043.000000\n",
       "mean        64.761692       0.162147\n",
       "std         30.090047       0.368612\n",
       "min         18.250000       0.000000\n",
       "25%         35.500000       0.000000\n",
       "50%         70.350000       0.000000\n",
       "75%         89.850000       0.000000\n",
       "max        118.750000       1.000000"
      ]
     },
     "metadata": {},
     "output_type": "display_data"
    },
    {
     "name": "stdout",
     "output_type": "stream",
     "text": [
      "<class 'pandas.core.frame.DataFrame'>\n",
      "Int64Index: 7043 entries, 0 to 7042\n",
      "Data columns (total 20 columns):\n",
      " #   Column            Non-Null Count  Dtype  \n",
      "---  ------            --------------  -----  \n",
      " 0   customerID        7043 non-null   object \n",
      " 1   BeginDate         7043 non-null   object \n",
      " 2   EndDate           7043 non-null   object \n",
      " 3   Type              7043 non-null   object \n",
      " 4   PaperlessBilling  7043 non-null   object \n",
      " 5   PaymentMethod     7043 non-null   object \n",
      " 6   MonthlyCharges    7043 non-null   float64\n",
      " 7   TotalCharges      7043 non-null   object \n",
      " 8   InternetService   5517 non-null   object \n",
      " 9   OnlineSecurity    5517 non-null   object \n",
      " 10  OnlineBackup      5517 non-null   object \n",
      " 11  DeviceProtection  5517 non-null   object \n",
      " 12  TechSupport       5517 non-null   object \n",
      " 13  StreamingTV       5517 non-null   object \n",
      " 14  StreamingMovies   5517 non-null   object \n",
      " 15  gender            7043 non-null   object \n",
      " 16  SeniorCitizen     7043 non-null   int64  \n",
      " 17  Partner           7043 non-null   object \n",
      " 18  Dependents        7043 non-null   object \n",
      " 19  MultipleLines     6361 non-null   object \n",
      "dtypes: float64(1), int64(1), object(18)\n",
      "memory usage: 1.1+ MB\n"
     ]
    },
    {
     "data": {
      "text/plain": [
       "None"
      ]
     },
     "metadata": {},
     "output_type": "display_data"
    },
    {
     "data": {
      "text/plain": [
       "customerID          0.000000\n",
       "BeginDate           0.000000\n",
       "EndDate             0.000000\n",
       "Type                0.000000\n",
       "PaperlessBilling    0.000000\n",
       "PaymentMethod       0.000000\n",
       "MonthlyCharges      0.000000\n",
       "TotalCharges        0.000000\n",
       "InternetService     0.216669\n",
       "OnlineSecurity      0.216669\n",
       "OnlineBackup        0.216669\n",
       "DeviceProtection    0.216669\n",
       "TechSupport         0.216669\n",
       "StreamingTV         0.216669\n",
       "StreamingMovies     0.216669\n",
       "gender              0.000000\n",
       "SeniorCitizen       0.000000\n",
       "Partner             0.000000\n",
       "Dependents          0.000000\n",
       "MultipleLines       0.096834\n",
       "dtype: float64"
      ]
     },
     "metadata": {},
     "output_type": "display_data"
    }
   ],
   "source": [
    "display(df.head(5), df.describe())\n",
    "display(df.info())\n",
    "display(df.isna().mean())  "
   ]
  },
  {
   "cell_type": "markdown",
   "metadata": {},
   "source": [
    "Conclusion: we see some columns exist empties and incorrect type of data. "
   ]
  },
  {
   "cell_type": "code",
   "execution_count": 18,
   "metadata": {},
   "outputs": [
    {
     "data": {
      "text/plain": [
       "No                     5174\n",
       "2019-11-01 00:00:00     485\n",
       "2019-12-01 00:00:00     466\n",
       "2020-01-01 00:00:00     460\n",
       "2019-10-01 00:00:00     458\n",
       "Name: EndDate, dtype: int64"
      ]
     },
     "execution_count": 18,
     "metadata": {},
     "output_type": "execute_result"
    }
   ],
   "source": [
    "df['EndDate'].value_counts()"
   ]
  },
  {
   "cell_type": "markdown",
   "metadata": {},
   "source": [
    "Let's check 'EndDate' column. As we see, there are 4 dates. Likely, these are dates when data were downloaded.Data were taken for the last 4 months: from October 2019 to January 2020."
   ]
  },
  {
   "cell_type": "code",
   "execution_count": 19,
   "metadata": {},
   "outputs": [],
   "source": [
    "df['TotalCharges'] = df['TotalCharges'].apply(change_type)"
   ]
  },
  {
   "cell_type": "markdown",
   "metadata": {},
   "source": [
    "Let's change 'TotalCharges' column type to numeric."
   ]
  },
  {
   "cell_type": "code",
   "execution_count": 20,
   "metadata": {},
   "outputs": [],
   "source": [
    "def target(data):\n",
    "    if data == 'No':\n",
    "        data = 1\n",
    "    else:\n",
    "        data=0\n",
    "    return data"
   ]
  },
  {
   "cell_type": "code",
   "execution_count": 21,
   "metadata": {},
   "outputs": [],
   "source": [
    "df['target'] = df['EndDate'].apply(target)"
   ]
  },
  {
   "cell_type": "markdown",
   "metadata": {},
   "source": [
    "Create a new column 'target' using 'End Date'. If 'EndDate' is 'No', the contract has not ended."
   ]
  },
  {
   "cell_type": "code",
   "execution_count": 22,
   "metadata": {},
   "outputs": [
    {
     "name": "stdout",
     "output_type": "stream",
     "text": [
      "<class 'pandas.core.frame.DataFrame'>\n",
      "Int64Index: 7043 entries, 0 to 7042\n",
      "Data columns (total 21 columns):\n",
      " #   Column            Non-Null Count  Dtype  \n",
      "---  ------            --------------  -----  \n",
      " 0   customerID        7043 non-null   object \n",
      " 1   BeginDate         7043 non-null   object \n",
      " 2   EndDate           7043 non-null   object \n",
      " 3   Type              7043 non-null   object \n",
      " 4   PaperlessBilling  7043 non-null   object \n",
      " 5   PaymentMethod     7043 non-null   object \n",
      " 6   MonthlyCharges    7043 non-null   float64\n",
      " 7   TotalCharges      7043 non-null   float64\n",
      " 8   InternetService   5517 non-null   object \n",
      " 9   OnlineSecurity    5517 non-null   object \n",
      " 10  OnlineBackup      5517 non-null   object \n",
      " 11  DeviceProtection  5517 non-null   object \n",
      " 12  TechSupport       5517 non-null   object \n",
      " 13  StreamingTV       5517 non-null   object \n",
      " 14  StreamingMovies   5517 non-null   object \n",
      " 15  gender            7043 non-null   object \n",
      " 16  SeniorCitizen     7043 non-null   int64  \n",
      " 17  Partner           7043 non-null   object \n",
      " 18  Dependents        7043 non-null   object \n",
      " 19  MultipleLines     6361 non-null   object \n",
      " 20  target            7043 non-null   int64  \n",
      "dtypes: float64(2), int64(2), object(17)\n",
      "memory usage: 1.2+ MB\n"
     ]
    },
    {
     "data": {
      "text/plain": [
       "None"
      ]
     },
     "metadata": {},
     "output_type": "display_data"
    },
    {
     "data": {
      "text/html": [
       "<div>\n",
       "<style scoped>\n",
       "    .dataframe tbody tr th:only-of-type {\n",
       "        vertical-align: middle;\n",
       "    }\n",
       "\n",
       "    .dataframe tbody tr th {\n",
       "        vertical-align: top;\n",
       "    }\n",
       "\n",
       "    .dataframe thead th {\n",
       "        text-align: right;\n",
       "    }\n",
       "</style>\n",
       "<table border=\"1\" class=\"dataframe\">\n",
       "  <thead>\n",
       "    <tr style=\"text-align: right;\">\n",
       "      <th></th>\n",
       "      <th>customerID</th>\n",
       "      <th>BeginDate</th>\n",
       "      <th>EndDate</th>\n",
       "      <th>Type</th>\n",
       "      <th>PaperlessBilling</th>\n",
       "      <th>PaymentMethod</th>\n",
       "      <th>MonthlyCharges</th>\n",
       "      <th>TotalCharges</th>\n",
       "      <th>InternetService</th>\n",
       "      <th>OnlineSecurity</th>\n",
       "      <th>...</th>\n",
       "      <th>DeviceProtection</th>\n",
       "      <th>TechSupport</th>\n",
       "      <th>StreamingTV</th>\n",
       "      <th>StreamingMovies</th>\n",
       "      <th>gender</th>\n",
       "      <th>SeniorCitizen</th>\n",
       "      <th>Partner</th>\n",
       "      <th>Dependents</th>\n",
       "      <th>MultipleLines</th>\n",
       "      <th>target</th>\n",
       "    </tr>\n",
       "  </thead>\n",
       "  <tbody>\n",
       "    <tr>\n",
       "      <th>0</th>\n",
       "      <td>7590-VHVEG</td>\n",
       "      <td>2020-01-01</td>\n",
       "      <td>No</td>\n",
       "      <td>Month-to-month</td>\n",
       "      <td>Yes</td>\n",
       "      <td>Electronic check</td>\n",
       "      <td>29.85</td>\n",
       "      <td>29.85</td>\n",
       "      <td>DSL</td>\n",
       "      <td>No</td>\n",
       "      <td>...</td>\n",
       "      <td>No</td>\n",
       "      <td>No</td>\n",
       "      <td>No</td>\n",
       "      <td>No</td>\n",
       "      <td>Female</td>\n",
       "      <td>0</td>\n",
       "      <td>Yes</td>\n",
       "      <td>No</td>\n",
       "      <td>NaN</td>\n",
       "      <td>1</td>\n",
       "    </tr>\n",
       "    <tr>\n",
       "      <th>1</th>\n",
       "      <td>5575-GNVDE</td>\n",
       "      <td>2017-04-01</td>\n",
       "      <td>No</td>\n",
       "      <td>One year</td>\n",
       "      <td>No</td>\n",
       "      <td>Mailed check</td>\n",
       "      <td>56.95</td>\n",
       "      <td>1889.50</td>\n",
       "      <td>DSL</td>\n",
       "      <td>Yes</td>\n",
       "      <td>...</td>\n",
       "      <td>Yes</td>\n",
       "      <td>No</td>\n",
       "      <td>No</td>\n",
       "      <td>No</td>\n",
       "      <td>Male</td>\n",
       "      <td>0</td>\n",
       "      <td>No</td>\n",
       "      <td>No</td>\n",
       "      <td>No</td>\n",
       "      <td>1</td>\n",
       "    </tr>\n",
       "    <tr>\n",
       "      <th>2</th>\n",
       "      <td>3668-QPYBK</td>\n",
       "      <td>2019-10-01</td>\n",
       "      <td>2019-12-01 00:00:00</td>\n",
       "      <td>Month-to-month</td>\n",
       "      <td>Yes</td>\n",
       "      <td>Mailed check</td>\n",
       "      <td>53.85</td>\n",
       "      <td>108.15</td>\n",
       "      <td>DSL</td>\n",
       "      <td>Yes</td>\n",
       "      <td>...</td>\n",
       "      <td>No</td>\n",
       "      <td>No</td>\n",
       "      <td>No</td>\n",
       "      <td>No</td>\n",
       "      <td>Male</td>\n",
       "      <td>0</td>\n",
       "      <td>No</td>\n",
       "      <td>No</td>\n",
       "      <td>No</td>\n",
       "      <td>0</td>\n",
       "    </tr>\n",
       "    <tr>\n",
       "      <th>3</th>\n",
       "      <td>7795-CFOCW</td>\n",
       "      <td>2016-05-01</td>\n",
       "      <td>No</td>\n",
       "      <td>One year</td>\n",
       "      <td>No</td>\n",
       "      <td>Bank transfer (automatic)</td>\n",
       "      <td>42.30</td>\n",
       "      <td>1840.75</td>\n",
       "      <td>DSL</td>\n",
       "      <td>Yes</td>\n",
       "      <td>...</td>\n",
       "      <td>Yes</td>\n",
       "      <td>Yes</td>\n",
       "      <td>No</td>\n",
       "      <td>No</td>\n",
       "      <td>Male</td>\n",
       "      <td>0</td>\n",
       "      <td>No</td>\n",
       "      <td>No</td>\n",
       "      <td>NaN</td>\n",
       "      <td>1</td>\n",
       "    </tr>\n",
       "    <tr>\n",
       "      <th>4</th>\n",
       "      <td>9237-HQITU</td>\n",
       "      <td>2019-09-01</td>\n",
       "      <td>2019-11-01 00:00:00</td>\n",
       "      <td>Month-to-month</td>\n",
       "      <td>Yes</td>\n",
       "      <td>Electronic check</td>\n",
       "      <td>70.70</td>\n",
       "      <td>151.65</td>\n",
       "      <td>Fiber optic</td>\n",
       "      <td>No</td>\n",
       "      <td>...</td>\n",
       "      <td>No</td>\n",
       "      <td>No</td>\n",
       "      <td>No</td>\n",
       "      <td>No</td>\n",
       "      <td>Female</td>\n",
       "      <td>0</td>\n",
       "      <td>No</td>\n",
       "      <td>No</td>\n",
       "      <td>No</td>\n",
       "      <td>0</td>\n",
       "    </tr>\n",
       "  </tbody>\n",
       "</table>\n",
       "<p>5 rows × 21 columns</p>\n",
       "</div>"
      ],
      "text/plain": [
       "   customerID   BeginDate              EndDate            Type  \\\n",
       "0  7590-VHVEG  2020-01-01                   No  Month-to-month   \n",
       "1  5575-GNVDE  2017-04-01                   No        One year   \n",
       "2  3668-QPYBK  2019-10-01  2019-12-01 00:00:00  Month-to-month   \n",
       "3  7795-CFOCW  2016-05-01                   No        One year   \n",
       "4  9237-HQITU  2019-09-01  2019-11-01 00:00:00  Month-to-month   \n",
       "\n",
       "  PaperlessBilling              PaymentMethod  MonthlyCharges  TotalCharges  \\\n",
       "0              Yes           Electronic check           29.85         29.85   \n",
       "1               No               Mailed check           56.95       1889.50   \n",
       "2              Yes               Mailed check           53.85        108.15   \n",
       "3               No  Bank transfer (automatic)           42.30       1840.75   \n",
       "4              Yes           Electronic check           70.70        151.65   \n",
       "\n",
       "  InternetService OnlineSecurity  ... DeviceProtection TechSupport  \\\n",
       "0             DSL             No  ...               No          No   \n",
       "1             DSL            Yes  ...              Yes          No   \n",
       "2             DSL            Yes  ...               No          No   \n",
       "3             DSL            Yes  ...              Yes         Yes   \n",
       "4     Fiber optic             No  ...               No          No   \n",
       "\n",
       "  StreamingTV StreamingMovies  gender SeniorCitizen  Partner Dependents  \\\n",
       "0          No              No  Female             0      Yes         No   \n",
       "1          No              No    Male             0       No         No   \n",
       "2          No              No    Male             0       No         No   \n",
       "3          No              No    Male             0       No         No   \n",
       "4          No              No  Female             0       No         No   \n",
       "\n",
       "  MultipleLines target  \n",
       "0           NaN      1  \n",
       "1            No      1  \n",
       "2            No      0  \n",
       "3           NaN      1  \n",
       "4            No      0  \n",
       "\n",
       "[5 rows x 21 columns]"
      ]
     },
     "metadata": {},
     "output_type": "display_data"
    }
   ],
   "source": [
    "display(df.info(), df.head())"
   ]
  },
  {
   "cell_type": "markdown",
   "metadata": {},
   "source": [
    "Let's transform the column with dates in datetime format."
   ]
  },
  {
   "cell_type": "code",
   "execution_count": 23,
   "metadata": {},
   "outputs": [],
   "source": [
    "df['BeginDate'] = pd.to_datetime(df['BeginDate'],format='%Y-%m-%d %H:%M:%S')\n"
   ]
  },
  {
   "cell_type": "markdown",
   "metadata": {},
   "source": [
    "The \"EndDate\" column contains 'No' values that may interfere with the conversion. Let's replace them with the date of unloading the database are known - `2020-02-01 00: 00: 00`."
   ]
  },
  {
   "cell_type": "code",
   "execution_count": 24,
   "metadata": {},
   "outputs": [],
   "source": [
    "def time_end(data):\n",
    "    if data == 'No':\n",
    "        data = '2020-02-01 00:00:00'\n",
    "    return data"
   ]
  },
  {
   "cell_type": "code",
   "execution_count": 25,
   "metadata": {},
   "outputs": [],
   "source": [
    "df['EndDate']  = df['EndDate'].apply(time_end) "
   ]
  },
  {
   "cell_type": "code",
   "execution_count": 26,
   "metadata": {},
   "outputs": [
    {
     "data": {
      "text/plain": [
       "array(['2020-02-01 00:00:00', '2019-12-01 00:00:00',\n",
       "       '2019-11-01 00:00:00', '2019-10-01 00:00:00',\n",
       "       '2020-01-01 00:00:00'], dtype=object)"
      ]
     },
     "execution_count": 26,
     "metadata": {},
     "output_type": "execute_result"
    }
   ],
   "source": [
    "df['EndDate'].unique()"
   ]
  },
  {
   "cell_type": "code",
   "execution_count": 27,
   "metadata": {},
   "outputs": [],
   "source": [
    "df['EndDate'] = pd.to_datetime(df['EndDate'],format='%Y-%m-%d %H:%M:%S')\n"
   ]
  },
  {
   "cell_type": "markdown",
   "metadata": {},
   "source": [
    "Let's count the contract time interval from the start date to finish  using unix timestamp format."
   ]
  },
  {
   "cell_type": "code",
   "execution_count": 28,
   "metadata": {
    "scrolled": true
   },
   "outputs": [],
   "source": [
    "def utc(data):\n",
    "    data = (data - pd.Timestamp(\"1970-01-01\")) // pd.Timedelta('1s')\n",
    "    data = data // 86400\n",
    "    return data"
   ]
  },
  {
   "cell_type": "code",
   "execution_count": 29,
   "metadata": {},
   "outputs": [],
   "source": [
    "df['end_int'] = df['EndDate'].apply(utc)\n",
    "df['start_int'] = df['BeginDate'].apply(utc)"
   ]
  },
  {
   "cell_type": "code",
   "execution_count": 30,
   "metadata": {},
   "outputs": [
    {
     "data": {
      "text/plain": [
       "18293"
      ]
     },
     "execution_count": 30,
     "metadata": {},
     "output_type": "execute_result"
    }
   ],
   "source": [
    "df['end_int'].unique()\n",
    "df['start_int'].max()"
   ]
  },
  {
   "cell_type": "markdown",
   "metadata": {},
   "source": [
    "Let's create a new data column with the contracts time interval. "
   ]
  },
  {
   "cell_type": "code",
   "execution_count": 31,
   "metadata": {},
   "outputs": [],
   "source": [
    "df['contract_time'] = df['end_int'] - df['start_int']"
   ]
  },
  {
   "cell_type": "code",
   "execution_count": 32,
   "metadata": {},
   "outputs": [
    {
     "data": {
      "text/plain": [
       "(0, 2191)"
      ]
     },
     "execution_count": 32,
     "metadata": {},
     "output_type": "execute_result"
    }
   ],
   "source": [
    "df['contract_time'].min(),df['contract_time'].max()"
   ]
  },
  {
   "cell_type": "code",
   "execution_count": 33,
   "metadata": {},
   "outputs": [
    {
     "data": {
      "text/html": [
       "<div>\n",
       "<style scoped>\n",
       "    .dataframe tbody tr th:only-of-type {\n",
       "        vertical-align: middle;\n",
       "    }\n",
       "\n",
       "    .dataframe tbody tr th {\n",
       "        vertical-align: top;\n",
       "    }\n",
       "\n",
       "    .dataframe thead th {\n",
       "        text-align: right;\n",
       "    }\n",
       "</style>\n",
       "<table border=\"1\" class=\"dataframe\">\n",
       "  <thead>\n",
       "    <tr style=\"text-align: right;\">\n",
       "      <th></th>\n",
       "      <th>MonthlyCharges</th>\n",
       "      <th>TotalCharges</th>\n",
       "      <th>SeniorCitizen</th>\n",
       "      <th>target</th>\n",
       "      <th>end_int</th>\n",
       "      <th>start_int</th>\n",
       "      <th>contract_time</th>\n",
       "    </tr>\n",
       "  </thead>\n",
       "  <tbody>\n",
       "    <tr>\n",
       "      <th>MonthlyCharges</th>\n",
       "      <td>1.000000</td>\n",
       "      <td>0.651174</td>\n",
       "      <td>0.220173</td>\n",
       "      <td>-0.193356</td>\n",
       "      <td>-0.181052</td>\n",
       "      <td>-0.260860</td>\n",
       "      <td>0.247754</td>\n",
       "    </tr>\n",
       "    <tr>\n",
       "      <th>TotalCharges</th>\n",
       "      <td>0.651174</td>\n",
       "      <td>1.000000</td>\n",
       "      <td>0.103006</td>\n",
       "      <td>0.198324</td>\n",
       "      <td>0.173531</td>\n",
       "      <td>-0.829418</td>\n",
       "      <td>0.826109</td>\n",
       "    </tr>\n",
       "    <tr>\n",
       "      <th>SeniorCitizen</th>\n",
       "      <td>0.220173</td>\n",
       "      <td>0.103006</td>\n",
       "      <td>1.000000</td>\n",
       "      <td>-0.150889</td>\n",
       "      <td>-0.128794</td>\n",
       "      <td>-0.023454</td>\n",
       "      <td>0.016514</td>\n",
       "    </tr>\n",
       "    <tr>\n",
       "      <th>target</th>\n",
       "      <td>-0.193356</td>\n",
       "      <td>0.198324</td>\n",
       "      <td>-0.150889</td>\n",
       "      <td>1.000000</td>\n",
       "      <td>0.889394</td>\n",
       "      <td>-0.311715</td>\n",
       "      <td>0.352673</td>\n",
       "    </tr>\n",
       "    <tr>\n",
       "      <th>end_int</th>\n",
       "      <td>-0.181052</td>\n",
       "      <td>0.173531</td>\n",
       "      <td>-0.128794</td>\n",
       "      <td>0.889394</td>\n",
       "      <td>1.000000</td>\n",
       "      <td>-0.263292</td>\n",
       "      <td>0.310625</td>\n",
       "    </tr>\n",
       "    <tr>\n",
       "      <th>start_int</th>\n",
       "      <td>-0.260860</td>\n",
       "      <td>-0.829418</td>\n",
       "      <td>-0.023454</td>\n",
       "      <td>-0.311715</td>\n",
       "      <td>-0.263292</td>\n",
       "      <td>1.000000</td>\n",
       "      <td>-0.998779</td>\n",
       "    </tr>\n",
       "    <tr>\n",
       "      <th>contract_time</th>\n",
       "      <td>0.247754</td>\n",
       "      <td>0.826109</td>\n",
       "      <td>0.016514</td>\n",
       "      <td>0.352673</td>\n",
       "      <td>0.310625</td>\n",
       "      <td>-0.998779</td>\n",
       "      <td>1.000000</td>\n",
       "    </tr>\n",
       "  </tbody>\n",
       "</table>\n",
       "</div>"
      ],
      "text/plain": [
       "                MonthlyCharges  TotalCharges  SeniorCitizen    target  \\\n",
       "MonthlyCharges        1.000000      0.651174       0.220173 -0.193356   \n",
       "TotalCharges          0.651174      1.000000       0.103006  0.198324   \n",
       "SeniorCitizen         0.220173      0.103006       1.000000 -0.150889   \n",
       "target               -0.193356      0.198324      -0.150889  1.000000   \n",
       "end_int              -0.181052      0.173531      -0.128794  0.889394   \n",
       "start_int            -0.260860     -0.829418      -0.023454 -0.311715   \n",
       "contract_time         0.247754      0.826109       0.016514  0.352673   \n",
       "\n",
       "                 end_int  start_int  contract_time  \n",
       "MonthlyCharges -0.181052  -0.260860       0.247754  \n",
       "TotalCharges    0.173531  -0.829418       0.826109  \n",
       "SeniorCitizen  -0.128794  -0.023454       0.016514  \n",
       "target          0.889394  -0.311715       0.352673  \n",
       "end_int         1.000000  -0.263292       0.310625  \n",
       "start_int      -0.263292   1.000000      -0.998779  \n",
       "contract_time   0.310625  -0.998779       1.000000  "
      ]
     },
     "execution_count": 33,
     "metadata": {},
     "output_type": "execute_result"
    }
   ],
   "source": [
    "df.corr()"
   ]
  },
  {
   "cell_type": "markdown",
   "metadata": {},
   "source": [
    "Let's see a correlation."
   ]
  },
  {
   "cell_type": "code",
   "execution_count": 34,
   "metadata": {},
   "outputs": [
    {
     "name": "stdout",
     "output_type": "stream",
     "text": [
      "<class 'pandas.core.frame.DataFrame'>\n",
      "Int64Index: 7043 entries, 0 to 7042\n",
      "Data columns (total 24 columns):\n",
      " #   Column            Non-Null Count  Dtype         \n",
      "---  ------            --------------  -----         \n",
      " 0   customerID        7043 non-null   object        \n",
      " 1   BeginDate         7043 non-null   datetime64[ns]\n",
      " 2   EndDate           7043 non-null   datetime64[ns]\n",
      " 3   Type              7043 non-null   object        \n",
      " 4   PaperlessBilling  7043 non-null   object        \n",
      " 5   PaymentMethod     7043 non-null   object        \n",
      " 6   MonthlyCharges    7043 non-null   float64       \n",
      " 7   TotalCharges      7043 non-null   float64       \n",
      " 8   InternetService   5517 non-null   object        \n",
      " 9   OnlineSecurity    5517 non-null   object        \n",
      " 10  OnlineBackup      5517 non-null   object        \n",
      " 11  DeviceProtection  5517 non-null   object        \n",
      " 12  TechSupport       5517 non-null   object        \n",
      " 13  StreamingTV       5517 non-null   object        \n",
      " 14  StreamingMovies   5517 non-null   object        \n",
      " 15  gender            7043 non-null   object        \n",
      " 16  SeniorCitizen     7043 non-null   int64         \n",
      " 17  Partner           7043 non-null   object        \n",
      " 18  Dependents        7043 non-null   object        \n",
      " 19  MultipleLines     6361 non-null   object        \n",
      " 20  target            7043 non-null   int64         \n",
      " 21  end_int           7043 non-null   int64         \n",
      " 22  start_int         7043 non-null   int64         \n",
      " 23  contract_time     7043 non-null   int64         \n",
      "dtypes: datetime64[ns](2), float64(2), int64(5), object(15)\n",
      "memory usage: 1.3+ MB\n"
     ]
    }
   ],
   "source": [
    "df.info()"
   ]
  },
  {
   "cell_type": "markdown",
   "metadata": {},
   "source": [
    "Drop unnecessary features."
   ]
  },
  {
   "cell_type": "code",
   "execution_count": 35,
   "metadata": {},
   "outputs": [],
   "source": [
    "df= df.drop(columns=['BeginDate','EndDate','customerID','start_int','end_int','PaperlessBilling','PaymentMethod','TotalCharges'],axis=1)"
   ]
  },
  {
   "cell_type": "code",
   "execution_count": 36,
   "metadata": {},
   "outputs": [
    {
     "name": "stdout",
     "output_type": "stream",
     "text": [
      "<class 'pandas.core.frame.DataFrame'>\n",
      "Int64Index: 7043 entries, 0 to 7042\n",
      "Data columns (total 16 columns):\n",
      " #   Column            Non-Null Count  Dtype  \n",
      "---  ------            --------------  -----  \n",
      " 0   Type              7043 non-null   object \n",
      " 1   MonthlyCharges    7043 non-null   float64\n",
      " 2   InternetService   5517 non-null   object \n",
      " 3   OnlineSecurity    5517 non-null   object \n",
      " 4   OnlineBackup      5517 non-null   object \n",
      " 5   DeviceProtection  5517 non-null   object \n",
      " 6   TechSupport       5517 non-null   object \n",
      " 7   StreamingTV       5517 non-null   object \n",
      " 8   StreamingMovies   5517 non-null   object \n",
      " 9   gender            7043 non-null   object \n",
      " 10  SeniorCitizen     7043 non-null   int64  \n",
      " 11  Partner           7043 non-null   object \n",
      " 12  Dependents        7043 non-null   object \n",
      " 13  MultipleLines     6361 non-null   object \n",
      " 14  target            7043 non-null   int64  \n",
      " 15  contract_time     7043 non-null   int64  \n",
      "dtypes: float64(1), int64(3), object(12)\n",
      "memory usage: 935.4+ KB\n"
     ]
    }
   ],
   "source": [
    "df.info()"
   ]
  },
  {
   "cell_type": "markdown",
   "metadata": {},
   "source": [
    "Some columns contain 'Nan'. Lets fill them."
   ]
  },
  {
   "cell_type": "code",
   "execution_count": 37,
   "metadata": {},
   "outputs": [
    {
     "data": {
      "text/html": [
       "<div>\n",
       "<style scoped>\n",
       "    .dataframe tbody tr th:only-of-type {\n",
       "        vertical-align: middle;\n",
       "    }\n",
       "\n",
       "    .dataframe tbody tr th {\n",
       "        vertical-align: top;\n",
       "    }\n",
       "\n",
       "    .dataframe thead th {\n",
       "        text-align: right;\n",
       "    }\n",
       "</style>\n",
       "<table border=\"1\" class=\"dataframe\">\n",
       "  <thead>\n",
       "    <tr style=\"text-align: right;\">\n",
       "      <th></th>\n",
       "      <th>Type</th>\n",
       "      <th>MonthlyCharges</th>\n",
       "      <th>InternetService</th>\n",
       "      <th>OnlineSecurity</th>\n",
       "      <th>OnlineBackup</th>\n",
       "      <th>DeviceProtection</th>\n",
       "      <th>TechSupport</th>\n",
       "      <th>StreamingTV</th>\n",
       "      <th>StreamingMovies</th>\n",
       "      <th>gender</th>\n",
       "      <th>SeniorCitizen</th>\n",
       "      <th>Partner</th>\n",
       "      <th>Dependents</th>\n",
       "      <th>MultipleLines</th>\n",
       "      <th>target</th>\n",
       "      <th>contract_time</th>\n",
       "    </tr>\n",
       "  </thead>\n",
       "  <tbody>\n",
       "    <tr>\n",
       "      <th>0</th>\n",
       "      <td>Month-to-month</td>\n",
       "      <td>29.85</td>\n",
       "      <td>DSL</td>\n",
       "      <td>No</td>\n",
       "      <td>Yes</td>\n",
       "      <td>No</td>\n",
       "      <td>No</td>\n",
       "      <td>No</td>\n",
       "      <td>No</td>\n",
       "      <td>Female</td>\n",
       "      <td>0</td>\n",
       "      <td>Yes</td>\n",
       "      <td>No</td>\n",
       "      <td>NaN</td>\n",
       "      <td>1</td>\n",
       "      <td>31</td>\n",
       "    </tr>\n",
       "    <tr>\n",
       "      <th>1</th>\n",
       "      <td>One year</td>\n",
       "      <td>56.95</td>\n",
       "      <td>DSL</td>\n",
       "      <td>Yes</td>\n",
       "      <td>No</td>\n",
       "      <td>Yes</td>\n",
       "      <td>No</td>\n",
       "      <td>No</td>\n",
       "      <td>No</td>\n",
       "      <td>Male</td>\n",
       "      <td>0</td>\n",
       "      <td>No</td>\n",
       "      <td>No</td>\n",
       "      <td>No</td>\n",
       "      <td>1</td>\n",
       "      <td>1036</td>\n",
       "    </tr>\n",
       "    <tr>\n",
       "      <th>2</th>\n",
       "      <td>Month-to-month</td>\n",
       "      <td>53.85</td>\n",
       "      <td>DSL</td>\n",
       "      <td>Yes</td>\n",
       "      <td>Yes</td>\n",
       "      <td>No</td>\n",
       "      <td>No</td>\n",
       "      <td>No</td>\n",
       "      <td>No</td>\n",
       "      <td>Male</td>\n",
       "      <td>0</td>\n",
       "      <td>No</td>\n",
       "      <td>No</td>\n",
       "      <td>No</td>\n",
       "      <td>0</td>\n",
       "      <td>61</td>\n",
       "    </tr>\n",
       "    <tr>\n",
       "      <th>3</th>\n",
       "      <td>One year</td>\n",
       "      <td>42.30</td>\n",
       "      <td>DSL</td>\n",
       "      <td>Yes</td>\n",
       "      <td>No</td>\n",
       "      <td>Yes</td>\n",
       "      <td>Yes</td>\n",
       "      <td>No</td>\n",
       "      <td>No</td>\n",
       "      <td>Male</td>\n",
       "      <td>0</td>\n",
       "      <td>No</td>\n",
       "      <td>No</td>\n",
       "      <td>NaN</td>\n",
       "      <td>1</td>\n",
       "      <td>1371</td>\n",
       "    </tr>\n",
       "    <tr>\n",
       "      <th>4</th>\n",
       "      <td>Month-to-month</td>\n",
       "      <td>70.70</td>\n",
       "      <td>Fiber optic</td>\n",
       "      <td>No</td>\n",
       "      <td>No</td>\n",
       "      <td>No</td>\n",
       "      <td>No</td>\n",
       "      <td>No</td>\n",
       "      <td>No</td>\n",
       "      <td>Female</td>\n",
       "      <td>0</td>\n",
       "      <td>No</td>\n",
       "      <td>No</td>\n",
       "      <td>No</td>\n",
       "      <td>0</td>\n",
       "      <td>61</td>\n",
       "    </tr>\n",
       "  </tbody>\n",
       "</table>\n",
       "</div>"
      ],
      "text/plain": [
       "             Type  MonthlyCharges InternetService OnlineSecurity OnlineBackup  \\\n",
       "0  Month-to-month           29.85             DSL             No          Yes   \n",
       "1        One year           56.95             DSL            Yes           No   \n",
       "2  Month-to-month           53.85             DSL            Yes          Yes   \n",
       "3        One year           42.30             DSL            Yes           No   \n",
       "4  Month-to-month           70.70     Fiber optic             No           No   \n",
       "\n",
       "  DeviceProtection TechSupport StreamingTV StreamingMovies  gender  \\\n",
       "0               No          No          No              No  Female   \n",
       "1              Yes          No          No              No    Male   \n",
       "2               No          No          No              No    Male   \n",
       "3              Yes         Yes          No              No    Male   \n",
       "4               No          No          No              No  Female   \n",
       "\n",
       "   SeniorCitizen Partner Dependents MultipleLines  target  contract_time  \n",
       "0              0     Yes         No           NaN       1             31  \n",
       "1              0      No         No            No       1           1036  \n",
       "2              0      No         No            No       0             61  \n",
       "3              0      No         No           NaN       1           1371  \n",
       "4              0      No         No            No       0             61  "
      ]
     },
     "execution_count": 37,
     "metadata": {},
     "output_type": "execute_result"
    }
   ],
   "source": [
    "df.head()"
   ]
  },
  {
   "cell_type": "code",
   "execution_count": 38,
   "metadata": {},
   "outputs": [
    {
     "data": {
      "text/plain": [
       "array(['DSL', 'Fiber optic', nan], dtype=object)"
      ]
     },
     "execution_count": 38,
     "metadata": {},
     "output_type": "execute_result"
    }
   ],
   "source": [
    "df['InternetService'].unique()"
   ]
  },
  {
   "cell_type": "markdown",
   "metadata": {},
   "source": [
    "array(['DSL', 'Fiber optic', nan], dtype=object)\n"
   ]
  },
  {
   "cell_type": "code",
   "execution_count": 39,
   "metadata": {},
   "outputs": [
    {
     "data": {
      "text/plain": [
       "array(['No', 'Yes', nan], dtype=object)"
      ]
     },
     "execution_count": 39,
     "metadata": {},
     "output_type": "execute_result"
    }
   ],
   "source": [
    "df['OnlineSecurity'].unique()"
   ]
  },
  {
   "cell_type": "markdown",
   "metadata": {},
   "source": [
    "array(['No', 'Yes', nan], dtype=object)\n"
   ]
  },
  {
   "cell_type": "code",
   "execution_count": 40,
   "metadata": {},
   "outputs": [
    {
     "data": {
      "text/plain": [
       "array([nan, 'No', 'Yes'], dtype=object)"
      ]
     },
     "execution_count": 40,
     "metadata": {},
     "output_type": "execute_result"
    }
   ],
   "source": [
    "df['MultipleLines'].unique()"
   ]
  },
  {
   "cell_type": "markdown",
   "metadata": {},
   "source": [
    "array([nan, 'No', 'Yes'], dtype=object)\n"
   ]
  },
  {
   "cell_type": "code",
   "execution_count": 41,
   "metadata": {},
   "outputs": [],
   "source": [
    "df['InternetService'] = df['InternetService'].fillna('No')\n",
    "df['OnlineSecurity'] = df['OnlineSecurity'].fillna('No')\n",
    "df['OnlineBackup'] = df['OnlineBackup'].fillna('No')\n",
    "df['DeviceProtection'] = df['DeviceProtection'].fillna('No')\n",
    "df['TechSupport'] = df['TechSupport'].fillna('No')\n",
    "df['StreamingTV'] = df['StreamingTV'].fillna('No')\n",
    "df['StreamingMovies'] = df['StreamingMovies'].fillna('No')\n",
    "df['MultipleLines'] = df['MultipleLines'].fillna('No')\n"
   ]
  },
  {
   "cell_type": "code",
   "execution_count": 42,
   "metadata": {},
   "outputs": [
    {
     "name": "stdout",
     "output_type": "stream",
     "text": [
      "<class 'pandas.core.frame.DataFrame'>\n",
      "Int64Index: 7043 entries, 0 to 7042\n",
      "Data columns (total 16 columns):\n",
      " #   Column            Non-Null Count  Dtype  \n",
      "---  ------            --------------  -----  \n",
      " 0   Type              7043 non-null   object \n",
      " 1   MonthlyCharges    7043 non-null   float64\n",
      " 2   InternetService   7043 non-null   object \n",
      " 3   OnlineSecurity    7043 non-null   object \n",
      " 4   OnlineBackup      7043 non-null   object \n",
      " 5   DeviceProtection  7043 non-null   object \n",
      " 6   TechSupport       7043 non-null   object \n",
      " 7   StreamingTV       7043 non-null   object \n",
      " 8   StreamingMovies   7043 non-null   object \n",
      " 9   gender            7043 non-null   object \n",
      " 10  SeniorCitizen     7043 non-null   int64  \n",
      " 11  Partner           7043 non-null   object \n",
      " 12  Dependents        7043 non-null   object \n",
      " 13  MultipleLines     7043 non-null   object \n",
      " 14  target            7043 non-null   int64  \n",
      " 15  contract_time     7043 non-null   int64  \n",
      "dtypes: float64(1), int64(3), object(12)\n",
      "memory usage: 935.4+ KB\n"
     ]
    }
   ],
   "source": [
    "df.info()"
   ]
  },
  {
   "cell_type": "markdown",
   "metadata": {},
   "source": [
    "Transform text and categorical data using OHE."
   ]
  },
  {
   "cell_type": "code",
   "execution_count": 43,
   "metadata": {},
   "outputs": [],
   "source": [
    "df = pd.get_dummies(df, drop_first = True)"
   ]
  },
  {
   "cell_type": "code",
   "execution_count": 44,
   "metadata": {},
   "outputs": [
    {
     "name": "stdout",
     "output_type": "stream",
     "text": [
      "<class 'pandas.core.frame.DataFrame'>\n",
      "Int64Index: 7043 entries, 0 to 7042\n",
      "Data columns (total 18 columns):\n",
      " #   Column                       Non-Null Count  Dtype  \n",
      "---  ------                       --------------  -----  \n",
      " 0   MonthlyCharges               7043 non-null   float64\n",
      " 1   SeniorCitizen                7043 non-null   int64  \n",
      " 2   target                       7043 non-null   int64  \n",
      " 3   contract_time                7043 non-null   int64  \n",
      " 4   Type_One year                7043 non-null   uint8  \n",
      " 5   Type_Two year                7043 non-null   uint8  \n",
      " 6   InternetService_Fiber optic  7043 non-null   uint8  \n",
      " 7   InternetService_No           7043 non-null   uint8  \n",
      " 8   OnlineSecurity_Yes           7043 non-null   uint8  \n",
      " 9   OnlineBackup_Yes             7043 non-null   uint8  \n",
      " 10  DeviceProtection_Yes         7043 non-null   uint8  \n",
      " 11  TechSupport_Yes              7043 non-null   uint8  \n",
      " 12  StreamingTV_Yes              7043 non-null   uint8  \n",
      " 13  StreamingMovies_Yes          7043 non-null   uint8  \n",
      " 14  gender_Male                  7043 non-null   uint8  \n",
      " 15  Partner_Yes                  7043 non-null   uint8  \n",
      " 16  Dependents_Yes               7043 non-null   uint8  \n",
      " 17  MultipleLines_Yes            7043 non-null   uint8  \n",
      "dtypes: float64(1), int64(3), uint8(14)\n",
      "memory usage: 371.4 KB\n"
     ]
    }
   ],
   "source": [
    "df.info()"
   ]
  },
  {
   "cell_type": "raw",
   "metadata": {},
   "source": [
    "<class 'pandas.core.frame.DataFrame'>\n",
    "Int64Index: 7043 entries, 0 to 7042\n",
    "Data columns (total 18 columns):\n",
    " #   Column                       Non-Null Count  Dtype  \n",
    "---  ------                       --------------  -----  \n",
    " 0   MonthlyCharges               7043 non-null   float64\n",
    " 1   SeniorCitizen                7043 non-null   int64  \n",
    " 2   target                       7043 non-null   int64  \n",
    " 3   contract_time                7043 non-null   int64  \n",
    " 4   Type_One year                7043 non-null   uint8  \n",
    " 5   Type_Two year                7043 non-null   uint8  \n",
    " 6   InternetService_Fiber optic  7043 non-null   uint8  \n",
    " 7   InternetService_No           7043 non-null   uint8  \n",
    " 8   OnlineSecurity_Yes           7043 non-null   uint8  \n",
    " 9   OnlineBackup_Yes             7043 non-null   uint8  \n",
    " 10  DeviceProtection_Yes         7043 non-null   uint8  \n",
    " 11  TechSupport_Yes              7043 non-null   uint8  \n",
    " 12  StreamingTV_Yes              7043 non-null   uint8  \n",
    " 13  StreamingMovies_Yes          7043 non-null   uint8  \n",
    " 14  gender_Male                  7043 non-null   uint8  \n",
    " 15  Partner_Yes                  7043 non-null   uint8  \n",
    " 16  Dependents_Yes               7043 non-null   uint8  \n",
    " 17  MultipleLines_Yes            7043 non-null   uint8  \n",
    "dtypes: float64(1), int64(3), uint8(14)\n",
    "memory usage: 371.4 KB"
   ]
  },
  {
   "cell_type": "code",
   "execution_count": 45,
   "metadata": {},
   "outputs": [
    {
     "data": {
      "text/html": [
       "<div>\n",
       "<style scoped>\n",
       "    .dataframe tbody tr th:only-of-type {\n",
       "        vertical-align: middle;\n",
       "    }\n",
       "\n",
       "    .dataframe tbody tr th {\n",
       "        vertical-align: top;\n",
       "    }\n",
       "\n",
       "    .dataframe thead th {\n",
       "        text-align: right;\n",
       "    }\n",
       "</style>\n",
       "<table border=\"1\" class=\"dataframe\">\n",
       "  <thead>\n",
       "    <tr style=\"text-align: right;\">\n",
       "      <th></th>\n",
       "      <th>MonthlyCharges</th>\n",
       "      <th>SeniorCitizen</th>\n",
       "      <th>target</th>\n",
       "      <th>contract_time</th>\n",
       "      <th>Type_One year</th>\n",
       "      <th>Type_Two year</th>\n",
       "      <th>InternetService_Fiber optic</th>\n",
       "      <th>InternetService_No</th>\n",
       "      <th>OnlineSecurity_Yes</th>\n",
       "      <th>OnlineBackup_Yes</th>\n",
       "      <th>DeviceProtection_Yes</th>\n",
       "      <th>TechSupport_Yes</th>\n",
       "      <th>StreamingTV_Yes</th>\n",
       "      <th>StreamingMovies_Yes</th>\n",
       "      <th>gender_Male</th>\n",
       "      <th>Partner_Yes</th>\n",
       "      <th>Dependents_Yes</th>\n",
       "      <th>MultipleLines_Yes</th>\n",
       "    </tr>\n",
       "  </thead>\n",
       "  <tbody>\n",
       "    <tr>\n",
       "      <th>0</th>\n",
       "      <td>29.85</td>\n",
       "      <td>0</td>\n",
       "      <td>1</td>\n",
       "      <td>31</td>\n",
       "      <td>0</td>\n",
       "      <td>0</td>\n",
       "      <td>0</td>\n",
       "      <td>0</td>\n",
       "      <td>0</td>\n",
       "      <td>1</td>\n",
       "      <td>0</td>\n",
       "      <td>0</td>\n",
       "      <td>0</td>\n",
       "      <td>0</td>\n",
       "      <td>0</td>\n",
       "      <td>1</td>\n",
       "      <td>0</td>\n",
       "      <td>0</td>\n",
       "    </tr>\n",
       "    <tr>\n",
       "      <th>1</th>\n",
       "      <td>56.95</td>\n",
       "      <td>0</td>\n",
       "      <td>1</td>\n",
       "      <td>1036</td>\n",
       "      <td>1</td>\n",
       "      <td>0</td>\n",
       "      <td>0</td>\n",
       "      <td>0</td>\n",
       "      <td>1</td>\n",
       "      <td>0</td>\n",
       "      <td>1</td>\n",
       "      <td>0</td>\n",
       "      <td>0</td>\n",
       "      <td>0</td>\n",
       "      <td>1</td>\n",
       "      <td>0</td>\n",
       "      <td>0</td>\n",
       "      <td>0</td>\n",
       "    </tr>\n",
       "    <tr>\n",
       "      <th>2</th>\n",
       "      <td>53.85</td>\n",
       "      <td>0</td>\n",
       "      <td>0</td>\n",
       "      <td>61</td>\n",
       "      <td>0</td>\n",
       "      <td>0</td>\n",
       "      <td>0</td>\n",
       "      <td>0</td>\n",
       "      <td>1</td>\n",
       "      <td>1</td>\n",
       "      <td>0</td>\n",
       "      <td>0</td>\n",
       "      <td>0</td>\n",
       "      <td>0</td>\n",
       "      <td>1</td>\n",
       "      <td>0</td>\n",
       "      <td>0</td>\n",
       "      <td>0</td>\n",
       "    </tr>\n",
       "    <tr>\n",
       "      <th>3</th>\n",
       "      <td>42.30</td>\n",
       "      <td>0</td>\n",
       "      <td>1</td>\n",
       "      <td>1371</td>\n",
       "      <td>1</td>\n",
       "      <td>0</td>\n",
       "      <td>0</td>\n",
       "      <td>0</td>\n",
       "      <td>1</td>\n",
       "      <td>0</td>\n",
       "      <td>1</td>\n",
       "      <td>1</td>\n",
       "      <td>0</td>\n",
       "      <td>0</td>\n",
       "      <td>1</td>\n",
       "      <td>0</td>\n",
       "      <td>0</td>\n",
       "      <td>0</td>\n",
       "    </tr>\n",
       "    <tr>\n",
       "      <th>4</th>\n",
       "      <td>70.70</td>\n",
       "      <td>0</td>\n",
       "      <td>0</td>\n",
       "      <td>61</td>\n",
       "      <td>0</td>\n",
       "      <td>0</td>\n",
       "      <td>1</td>\n",
       "      <td>0</td>\n",
       "      <td>0</td>\n",
       "      <td>0</td>\n",
       "      <td>0</td>\n",
       "      <td>0</td>\n",
       "      <td>0</td>\n",
       "      <td>0</td>\n",
       "      <td>0</td>\n",
       "      <td>0</td>\n",
       "      <td>0</td>\n",
       "      <td>0</td>\n",
       "    </tr>\n",
       "    <tr>\n",
       "      <th>...</th>\n",
       "      <td>...</td>\n",
       "      <td>...</td>\n",
       "      <td>...</td>\n",
       "      <td>...</td>\n",
       "      <td>...</td>\n",
       "      <td>...</td>\n",
       "      <td>...</td>\n",
       "      <td>...</td>\n",
       "      <td>...</td>\n",
       "      <td>...</td>\n",
       "      <td>...</td>\n",
       "      <td>...</td>\n",
       "      <td>...</td>\n",
       "      <td>...</td>\n",
       "      <td>...</td>\n",
       "      <td>...</td>\n",
       "      <td>...</td>\n",
       "      <td>...</td>\n",
       "    </tr>\n",
       "    <tr>\n",
       "      <th>7038</th>\n",
       "      <td>84.80</td>\n",
       "      <td>0</td>\n",
       "      <td>1</td>\n",
       "      <td>730</td>\n",
       "      <td>1</td>\n",
       "      <td>0</td>\n",
       "      <td>0</td>\n",
       "      <td>0</td>\n",
       "      <td>1</td>\n",
       "      <td>0</td>\n",
       "      <td>1</td>\n",
       "      <td>1</td>\n",
       "      <td>1</td>\n",
       "      <td>1</td>\n",
       "      <td>1</td>\n",
       "      <td>1</td>\n",
       "      <td>1</td>\n",
       "      <td>1</td>\n",
       "    </tr>\n",
       "    <tr>\n",
       "      <th>7039</th>\n",
       "      <td>103.20</td>\n",
       "      <td>0</td>\n",
       "      <td>1</td>\n",
       "      <td>2191</td>\n",
       "      <td>1</td>\n",
       "      <td>0</td>\n",
       "      <td>1</td>\n",
       "      <td>0</td>\n",
       "      <td>0</td>\n",
       "      <td>1</td>\n",
       "      <td>1</td>\n",
       "      <td>0</td>\n",
       "      <td>1</td>\n",
       "      <td>1</td>\n",
       "      <td>0</td>\n",
       "      <td>1</td>\n",
       "      <td>1</td>\n",
       "      <td>1</td>\n",
       "    </tr>\n",
       "    <tr>\n",
       "      <th>7040</th>\n",
       "      <td>29.60</td>\n",
       "      <td>0</td>\n",
       "      <td>1</td>\n",
       "      <td>337</td>\n",
       "      <td>0</td>\n",
       "      <td>0</td>\n",
       "      <td>0</td>\n",
       "      <td>0</td>\n",
       "      <td>1</td>\n",
       "      <td>0</td>\n",
       "      <td>0</td>\n",
       "      <td>0</td>\n",
       "      <td>0</td>\n",
       "      <td>0</td>\n",
       "      <td>0</td>\n",
       "      <td>1</td>\n",
       "      <td>1</td>\n",
       "      <td>0</td>\n",
       "    </tr>\n",
       "    <tr>\n",
       "      <th>7041</th>\n",
       "      <td>74.40</td>\n",
       "      <td>1</td>\n",
       "      <td>0</td>\n",
       "      <td>123</td>\n",
       "      <td>0</td>\n",
       "      <td>0</td>\n",
       "      <td>1</td>\n",
       "      <td>0</td>\n",
       "      <td>0</td>\n",
       "      <td>0</td>\n",
       "      <td>0</td>\n",
       "      <td>0</td>\n",
       "      <td>0</td>\n",
       "      <td>0</td>\n",
       "      <td>1</td>\n",
       "      <td>1</td>\n",
       "      <td>0</td>\n",
       "      <td>1</td>\n",
       "    </tr>\n",
       "    <tr>\n",
       "      <th>7042</th>\n",
       "      <td>105.65</td>\n",
       "      <td>0</td>\n",
       "      <td>1</td>\n",
       "      <td>2010</td>\n",
       "      <td>0</td>\n",
       "      <td>1</td>\n",
       "      <td>1</td>\n",
       "      <td>0</td>\n",
       "      <td>1</td>\n",
       "      <td>0</td>\n",
       "      <td>1</td>\n",
       "      <td>1</td>\n",
       "      <td>1</td>\n",
       "      <td>1</td>\n",
       "      <td>1</td>\n",
       "      <td>0</td>\n",
       "      <td>0</td>\n",
       "      <td>0</td>\n",
       "    </tr>\n",
       "  </tbody>\n",
       "</table>\n",
       "<p>7043 rows × 18 columns</p>\n",
       "</div>"
      ],
      "text/plain": [
       "      MonthlyCharges  SeniorCitizen  target  contract_time  Type_One year  \\\n",
       "0              29.85              0       1             31              0   \n",
       "1              56.95              0       1           1036              1   \n",
       "2              53.85              0       0             61              0   \n",
       "3              42.30              0       1           1371              1   \n",
       "4              70.70              0       0             61              0   \n",
       "...              ...            ...     ...            ...            ...   \n",
       "7038           84.80              0       1            730              1   \n",
       "7039          103.20              0       1           2191              1   \n",
       "7040           29.60              0       1            337              0   \n",
       "7041           74.40              1       0            123              0   \n",
       "7042          105.65              0       1           2010              0   \n",
       "\n",
       "      Type_Two year  InternetService_Fiber optic  InternetService_No  \\\n",
       "0                 0                            0                   0   \n",
       "1                 0                            0                   0   \n",
       "2                 0                            0                   0   \n",
       "3                 0                            0                   0   \n",
       "4                 0                            1                   0   \n",
       "...             ...                          ...                 ...   \n",
       "7038              0                            0                   0   \n",
       "7039              0                            1                   0   \n",
       "7040              0                            0                   0   \n",
       "7041              0                            1                   0   \n",
       "7042              1                            1                   0   \n",
       "\n",
       "      OnlineSecurity_Yes  OnlineBackup_Yes  DeviceProtection_Yes  \\\n",
       "0                      0                 1                     0   \n",
       "1                      1                 0                     1   \n",
       "2                      1                 1                     0   \n",
       "3                      1                 0                     1   \n",
       "4                      0                 0                     0   \n",
       "...                  ...               ...                   ...   \n",
       "7038                   1                 0                     1   \n",
       "7039                   0                 1                     1   \n",
       "7040                   1                 0                     0   \n",
       "7041                   0                 0                     0   \n",
       "7042                   1                 0                     1   \n",
       "\n",
       "      TechSupport_Yes  StreamingTV_Yes  StreamingMovies_Yes  gender_Male  \\\n",
       "0                   0                0                    0            0   \n",
       "1                   0                0                    0            1   \n",
       "2                   0                0                    0            1   \n",
       "3                   1                0                    0            1   \n",
       "4                   0                0                    0            0   \n",
       "...               ...              ...                  ...          ...   \n",
       "7038                1                1                    1            1   \n",
       "7039                0                1                    1            0   \n",
       "7040                0                0                    0            0   \n",
       "7041                0                0                    0            1   \n",
       "7042                1                1                    1            1   \n",
       "\n",
       "      Partner_Yes  Dependents_Yes  MultipleLines_Yes  \n",
       "0               1               0                  0  \n",
       "1               0               0                  0  \n",
       "2               0               0                  0  \n",
       "3               0               0                  0  \n",
       "4               0               0                  0  \n",
       "...           ...             ...                ...  \n",
       "7038            1               1                  1  \n",
       "7039            1               1                  1  \n",
       "7040            1               1                  0  \n",
       "7041            1               0                  1  \n",
       "7042            0               0                  0  \n",
       "\n",
       "[7043 rows x 18 columns]"
      ]
     },
     "execution_count": 45,
     "metadata": {},
     "output_type": "execute_result"
    }
   ],
   "source": [
    "df"
   ]
  },
  {
   "cell_type": "raw",
   "metadata": {},
   "source": [
    "df= df.drop(columns=['SeniorCitizen', 'InternetService_Fiber optic',\n",
    "       'InternetService_No', 'OnlineSecurity_Yes', 'OnlineBackup_Yes',\n",
    "       'DeviceProtection_Yes', 'TechSupport_Yes', 'StreamingTV_Yes',\n",
    "       'StreamingMovies_Yes', 'gender_Male', 'Partner_Yes', 'Dependents_Yes',\n",
    "       'MultipleLines_Yes'])"
   ]
  },
  {
   "cell_type": "code",
   "execution_count": 46,
   "metadata": {},
   "outputs": [
    {
     "data": {
      "text/plain": [
       "Index(['MonthlyCharges', 'SeniorCitizen', 'target', 'contract_time',\n",
       "       'Type_One year', 'Type_Two year', 'InternetService_Fiber optic',\n",
       "       'InternetService_No', 'OnlineSecurity_Yes', 'OnlineBackup_Yes',\n",
       "       'DeviceProtection_Yes', 'TechSupport_Yes', 'StreamingTV_Yes',\n",
       "       'StreamingMovies_Yes', 'gender_Male', 'Partner_Yes', 'Dependents_Yes',\n",
       "       'MultipleLines_Yes'],\n",
       "      dtype='object')"
      ]
     },
     "execution_count": 46,
     "metadata": {},
     "output_type": "execute_result"
    }
   ],
   "source": [
    "df.columns"
   ]
  },
  {
   "cell_type": "raw",
   "metadata": {},
   "source": [
    "Index(['MonthlyCharges', 'SeniorCitizen', 'target', 'contract_time',\n",
    "       'Type_One year', 'Type_Two year', 'InternetService_Fiber optic',\n",
    "       'InternetService_No', 'OnlineSecurity_Yes', 'OnlineBackup_Yes',\n",
    "       'DeviceProtection_Yes', 'TechSupport_Yes', 'StreamingTV_Yes',\n",
    "       'StreamingMovies_Yes', 'gender_Male', 'Partner_Yes', 'Dependents_Yes',\n",
    "       'MultipleLines_Yes'],\n",
    "      dtype='object')"
   ]
  },
  {
   "cell_type": "markdown",
   "metadata": {},
   "source": [
    "Let's divide the data into 3 samples."
   ]
  },
  {
   "cell_type": "code",
   "execution_count": 47,
   "metadata": {},
   "outputs": [],
   "source": [
    "\n",
    "df_all, df_test = train_test_split(df, test_size=0.2, random_state=12345)   \n",
    "\n",
    "df_all_new = df_all.copy()\n",
    "\n",
    "target_all = df_all['target']\n",
    "features_all = df_all.drop('target', axis=1)\n",
    "\n",
    "features_train, features_valid, target_train, target_valid = train_test_split(\n",
    "    features_all, target_all, test_size=0.2, random_state=12345, stratify=target_all)"
   ]
  },
  {
   "cell_type": "code",
   "execution_count": 48,
   "metadata": {},
   "outputs": [],
   "source": [
    "target_test = df_test['target']\n",
    "features_test = df_test.drop('target', axis=1)"
   ]
  },
  {
   "cell_type": "code",
   "execution_count": 49,
   "metadata": {},
   "outputs": [],
   "source": [
    "numeric = ['MonthlyCharges','contract_time']"
   ]
  },
  {
   "cell_type": "code",
   "execution_count": 50,
   "metadata": {},
   "outputs": [],
   "source": [
    "scaler = StandardScaler()\n",
    "scaler.fit(features_train[numeric])\n",
    "features_train[numeric] = scaler.transform(features_train[numeric])\n",
    "features_all[numeric] = scaler.transform(features_all[numeric])\n",
    "features_valid[numeric] = scaler.transform(features_valid[numeric]) \n",
    "features_test[numeric] = scaler.transform(features_test[numeric])"
   ]
  },
  {
   "cell_type": "markdown",
   "metadata": {},
   "source": [
    "Scaling data"
   ]
  },
  {
   "cell_type": "markdown",
   "metadata": {},
   "source": [
    "Let's Look at the 'target'."
   ]
  },
  {
   "cell_type": "code",
   "execution_count": 51,
   "metadata": {},
   "outputs": [
    {
     "data": {
      "text/plain": [
       "1    5174\n",
       "0    1869\n",
       "Name: target, dtype: int64"
      ]
     },
     "execution_count": 51,
     "metadata": {},
     "output_type": "execute_result"
    }
   ],
   "source": [
    "df['target'].value_counts()"
   ]
  },
  {
   "cell_type": "raw",
   "metadata": {},
   "source": [
    "1    5174\n",
    "0    1869\n",
    "Name: target, dtype: int64"
   ]
  },
  {
   "cell_type": "code",
   "execution_count": 52,
   "metadata": {},
   "outputs": [
    {
     "data": {
      "image/png": "[encoded data removed]",
      "text/plain": [
       "<Figure size 432x288 with 1 Axes>"
      ]
     },
     "metadata": {
      "needs_background": "light"
     },
     "output_type": "display_data"
    }
   ],
   "source": [
    "df.plot(kind='hist', y='target', bins=10,label='target', grid=True, legend=True)\n",
    "plt.show()"
   ]
  },
  {
   "attachments": {
    "image.png": {
     "image/png": "[encoded data removed]"
    }
   },
   "cell_type": "markdown",
   "metadata": {},
   "source": [
    "![image.png](attachment:image.png)"
   ]
  },
  {
   "cell_type": "markdown",
   "metadata": {},
   "source": [
    "Graph shows imbalance."
   ]
  },
  {
   "cell_type": "markdown",
   "metadata": {},
   "source": [
    "<a id=\"2\"></a>\n",
    "\n",
    "### Models training"
   ]
  },
  {
   "cell_type": "markdown",
   "metadata": {},
   "source": [
    "#### 1. LogicalRegression"
   ]
  },
  {
   "cell_type": "code",
   "execution_count": 53,
   "metadata": {},
   "outputs": [
    {
     "data": {
      "text/plain": [
       "0.8132969292670882"
      ]
     },
     "execution_count": 53,
     "metadata": {},
     "output_type": "execute_result"
    }
   ],
   "source": [
    "model_log_balance = LogisticRegression(random_state=12345, solver='liblinear', class_weight ='balanced')\n",
    "\n",
    "model_log_balance.fit(features_train, target_train)\n",
    "probabilities_valid = model_log_balance.predict_proba(features_valid)[:,1]\n",
    "auc_roc_log1 = roc_auc_score(target_valid,probabilities_valid)\n",
    "auc_roc_log1"
   ]
  },
  {
   "cell_type": "markdown",
   "metadata": {},
   "source": [
    " ##### `roc-auc =  0.81`\n"
   ]
  },
  {
   "cell_type": "code",
   "execution_count": 54,
   "metadata": {},
   "outputs": [],
   "source": [
    "fpr, tpr, thresholds = roc_curve(target_valid, probabilities_valid)"
   ]
  },
  {
   "cell_type": "code",
   "execution_count": 55,
   "metadata": {},
   "outputs": [
    {
     "data": {
      "image/png": "[encoded data removed]",
      "text/plain": [
       "<Figure size 432x288 with 1 Axes>"
      ]
     },
     "metadata": {
      "needs_background": "light"
     },
     "output_type": "display_data"
    }
   ],
   "source": [
    "plt.figure()\n",
    "plt.plot(fpr,tpr)\n",
    "plt.plot([0, 1], [0, 1], linestyle='--')\n",
    "plt.xlim([0.0, 1.0])\n",
    "plt.ylim([0.0, 1.0])\n",
    "plt.xlabel('False Positive Rate')\n",
    "plt.ylabel('True Positive Rate')\n",
    "plt.title('ROC-кривая')\n",
    "plt.show()"
   ]
  },
  {
   "cell_type": "markdown",
   "metadata": {},
   "source": [
    "### Upsampling"
   ]
  },
  {
   "cell_type": "code",
   "execution_count": 56,
   "metadata": {},
   "outputs": [],
   "source": [
    "def upsamp(features_first,target_first,repeat):\n",
    "    features_zeros = features_first[target_first == 0]\n",
    "    features_ones = features_first[target_first == 1]\n",
    "    target_zeros = target_first[target_first == 0]\n",
    "    target_ones = target_first[target_first == 1]\n",
    "\n",
    "    features_upsampled = pd.concat([features_ones] + [features_zeros] * repeat)\n",
    "    target_upsampled = pd.concat([target_ones] + [target_zeros] * repeat)\n",
    "    \n",
    "    features_upsampled, target_upsampled = shuffle(\n",
    "        features_upsampled, target_upsampled, random_state=12345)\n",
    "    return features_upsampled, target_upsampled"
   ]
  },
  {
   "cell_type": "code",
   "execution_count": 57,
   "metadata": {},
   "outputs": [],
   "source": [
    "features_upsampled, target_upsampled = upsamp(features_train, target_train,3)"
   ]
  },
  {
   "cell_type": "code",
   "execution_count": 58,
   "metadata": {},
   "outputs": [
    {
     "data": {
      "text/plain": [
       "0    3576\n",
       "1    3315\n",
       "Name: target, dtype: int64"
      ]
     },
     "execution_count": 58,
     "metadata": {},
     "output_type": "execute_result"
    }
   ],
   "source": [
    "target_upsampled.value_counts()"
   ]
  },
  {
   "cell_type": "markdown",
   "metadata": {},
   "source": [
    "Increasing the missing class and train the model."
   ]
  },
  {
   "cell_type": "code",
   "execution_count": 59,
   "metadata": {},
   "outputs": [
    {
     "data": {
      "image/png": "[encoded data removed]",
      "text/plain": [
       "<Figure size 432x288 with 1 Axes>"
      ]
     },
     "metadata": {
      "needs_background": "light"
     },
     "output_type": "display_data"
    },
    {
     "data": {
      "text/plain": [
       "0.8132645461095684"
      ]
     },
     "execution_count": 59,
     "metadata": {},
     "output_type": "execute_result"
    }
   ],
   "source": [
    "model_log_up = LogisticRegression(random_state=12345, solver='liblinear')\n",
    "\n",
    "model_log_up.fit(features_upsampled, target_upsampled)\n",
    "probabilities_valid_log_up = model_log_up.predict_proba(features_valid)[:,1]\n",
    "auc_roc_log_up = roc_auc_score(target_valid,probabilities_valid_log_up)\n",
    "\n",
    "fpr_up, tpr_up, thresholds_up = roc_curve(target_valid, probabilities_valid_log_up)\n",
    "\n",
    "plt.figure()\n",
    "plt.plot(fpr_up,tpr_up)\n",
    "plt.plot([0, 1], [0, 1], linestyle='--')\n",
    "plt.xlim([0.0, 1.0])\n",
    "plt.ylim([0.0, 1.0])\n",
    "plt.xlabel('False Positive Rate')\n",
    "plt.ylabel('True Positive Rate')\n",
    "plt.title('ROC-кривая')\n",
    "plt.show()\n",
    "\n",
    "\n",
    "auc_roc_log_up"
   ]
  },
  {
   "cell_type": "markdown",
   "metadata": {},
   "source": [
    " ##### `roc-auc =  0.81`"
   ]
  },
  {
   "cell_type": "markdown",
   "metadata": {},
   "source": [
    "### Downsample"
   ]
  },
  {
   "cell_type": "code",
   "execution_count": 60,
   "metadata": {},
   "outputs": [],
   "source": [
    "def downsampl(features_first,target_first,fraction):\n",
    "    features_zeros = features_first[target_first == 0]\n",
    "    features_ones = features_first[target_first == 1]\n",
    "    target_zeros = target_first[target_first == 0]\n",
    "    target_ones = target_first[target_first == 1]\n",
    "\n",
    "    features_downsampled = pd.concat(\n",
    "        [features_ones.sample(frac=fraction, random_state=12345)] + [features_zeros])\n",
    "    target_downsampled = pd.concat(\n",
    "        [target_ones.sample(frac=fraction, random_state=12345)] + [target_zeros])\n",
    "    \n",
    "    features_downsampled, target_downsampled = shuffle(\n",
    "        features_downsampled, target_downsampled, random_state=12345)\n",
    "    return features_downsampled, target_downsampled"
   ]
  },
  {
   "cell_type": "code",
   "execution_count": 61,
   "metadata": {},
   "outputs": [],
   "source": [
    "features_downsampled, target_downsampled = downsampl(features_train, target_train,0.35)"
   ]
  },
  {
   "cell_type": "code",
   "execution_count": 62,
   "metadata": {},
   "outputs": [
    {
     "data": {
      "text/plain": [
       "0    1192\n",
       "1    1160\n",
       "Name: target, dtype: int64"
      ]
     },
     "execution_count": 62,
     "metadata": {},
     "output_type": "execute_result"
    }
   ],
   "source": [
    "target_downsampled.value_counts()"
   ]
  },
  {
   "cell_type": "markdown",
   "metadata": {},
   "source": [
    "Обучим модель после уменьшения класса"
   ]
  },
  {
   "cell_type": "code",
   "execution_count": 63,
   "metadata": {},
   "outputs": [
    {
     "data": {
      "image/png": "[encoded data removed]",
      "text/plain": [
       "<Figure size 432x288 with 1 Axes>"
      ]
     },
     "metadata": {
      "needs_background": "light"
     },
     "output_type": "display_data"
    },
    {
     "data": {
      "text/plain": [
       "0.811754681390209"
      ]
     },
     "execution_count": 63,
     "metadata": {},
     "output_type": "execute_result"
    }
   ],
   "source": [
    "model_log_down = LogisticRegression(random_state=12345, solver='liblinear')\n",
    "\n",
    "model_log_down.fit(features_downsampled,target_downsampled)\n",
    "probabilities_valid_log_down = model_log_down.predict_proba(features_valid)[:,1]\n",
    "auc_roc_log_down = roc_auc_score(target_valid,probabilities_valid_log_down)\n",
    "\n",
    "fpr_down, tpr_down, thresholds_down = roc_curve(target_valid, probabilities_valid_log_down)\n",
    "\n",
    "plt.figure()\n",
    "plt.plot(fpr_down,tpr_down)\n",
    "plt.plot([0, 1], [0, 1], linestyle='--')\n",
    "plt.xlim([0.0, 1.0])\n",
    "plt.ylim([0.0, 1.0])\n",
    "plt.xlabel('False Positive Rate')\n",
    "plt.ylabel('True Positive Rate')\n",
    "plt.title('ROC-кривая')\n",
    "plt.show()\n",
    "\n",
    "\n",
    "auc_roc_log_down"
   ]
  },
  {
   "cell_type": "markdown",
   "metadata": {},
   "source": [
    " ##### `roc-auc = 0.81`"
   ]
  },
  {
   "cell_type": "markdown",
   "metadata": {},
   "source": [
    "### 2 DecisionTree"
   ]
  },
  {
   "cell_type": "markdown",
   "metadata": {},
   "source": [
    "#### Balanced"
   ]
  },
  {
   "cell_type": "code",
   "execution_count": 64,
   "metadata": {},
   "outputs": [
    {
     "name": "stdout",
     "output_type": "stream",
     "text": [
      "{'min_samples_split': 0.1, 'min_samples_leaf': 2, 'max_features': 0.6, 'max_depth': 43}\n"
     ]
    }
   ],
   "source": [
    "tree_b = DecisionTreeClassifier(random_state=12345,class_weight = 'balanced')\n",
    "grid = {'max_depth': range (1, 50, 1),\n",
    "       'min_samples_leaf': range(2, 10, 1),\n",
    "        'max_features' : np.arange (.1,1,.1),\n",
    "        'min_samples_split': np.arange (.1,1,.1)\n",
    "       }\n",
    "tree_rs = RandomizedSearchCV(tree_b, n_jobs=4, n_iter=50, cv=5,\n",
    "                                 param_distributions=grid, random_state=12345, scoring='roc_auc')\n",
    "tree_rs.fit(features_train, target_train)\n",
    "print(tree_rs.best_params_)"
   ]
  },
  {
   "cell_type": "code",
   "execution_count": 65,
   "metadata": {},
   "outputs": [
    {
     "data": {
      "image/png": "[encoded data removed]",
      "text/plain": [
       "<Figure size 432x288 with 1 Axes>"
      ]
     },
     "metadata": {
      "needs_background": "light"
     },
     "output_type": "display_data"
    },
    {
     "data": {
      "text/plain": [
       "0.7985929518057658"
      ]
     },
     "execution_count": 65,
     "metadata": {},
     "output_type": "execute_result"
    }
   ],
   "source": [
    "tree_balanced = DecisionTreeClassifier(random_state=12345, max_depth=45, class_weight = 'balanced',\n",
    "                                min_samples_leaf=3, max_features=0.8, min_samples_split=0.1)\n",
    "\n",
    "tree_balanced.fit(features_train, target_train)\n",
    "probabilities_valid_dec = tree_balanced.predict_proba(features_valid)[:,1]\n",
    "auc_roc_dec = roc_auc_score(target_valid,probabilities_valid_dec)\n",
    "\n",
    "fpr_dec, tpr_dec, thresholds_down = roc_curve(target_valid, probabilities_valid_dec)\n",
    "\n",
    "plt.figure()\n",
    "plt.plot(fpr_dec,tpr_dec)\n",
    "plt.plot([0, 1], [0, 1], linestyle='--')\n",
    "plt.xlim([0.0, 1.0])\n",
    "plt.ylim([0.0, 1.0])\n",
    "plt.xlabel('False Positive Rate')\n",
    "plt.ylabel('True Positive Rate')\n",
    "plt.title('ROC-кривая')\n",
    "plt.show()\n",
    "\n",
    "\n",
    "auc_roc_dec"
   ]
  },
  {
   "cell_type": "markdown",
   "metadata": {},
   "source": [
    " ##### `roc-auc =  0.80`"
   ]
  },
  {
   "cell_type": "markdown",
   "metadata": {},
   "source": [
    "#### Upsample"
   ]
  },
  {
   "cell_type": "code",
   "execution_count": 66,
   "metadata": {},
   "outputs": [],
   "source": [
    "def dec_up_down(features, target):\n",
    "    \n",
    "    tree_new = DecisionTreeClassifier()\n",
    "    grid_1 = {'max_depth': range (1, 50, 1),\n",
    "       'min_samples_leaf': range(2, 10, 1),\n",
    "        'max_features' : np.arange (.1,1,.1),\n",
    "        'min_samples_split': np.arange (.1,1,.1)\n",
    "       }\n",
    "    tree_find = RandomizedSearchCV(tree_new, n_jobs=4, n_iter=50,cv=5,\n",
    "                                 param_distributions=grid_1, random_state=12345, scoring='roc_auc')\n",
    "    tree_find.fit(features, target)\n",
    "    return tree_find.best_params_ , \n"
   ]
  },
  {
   "cell_type": "code",
   "execution_count": 67,
   "metadata": {},
   "outputs": [
    {
     "data": {
      "text/plain": [
       "({'min_samples_split': 0.1,\n",
       "  'min_samples_leaf': 3,\n",
       "  'max_features': 0.8,\n",
       "  'max_depth': 45},)"
      ]
     },
     "execution_count": 67,
     "metadata": {},
     "output_type": "execute_result"
    }
   ],
   "source": [
    "dec_up_down(features_upsampled, target_upsampled )"
   ]
  },
  {
   "cell_type": "code",
   "execution_count": 68,
   "metadata": {},
   "outputs": [
    {
     "data": {
      "image/png": "[encoded data removed]",
      "text/plain": [
       "<Figure size 432x288 with 1 Axes>"
      ]
     },
     "metadata": {
      "needs_background": "light"
     },
     "output_type": "display_data"
    },
    {
     "data": {
      "text/plain": [
       "0.8084030245869124"
      ]
     },
     "execution_count": 68,
     "metadata": {},
     "output_type": "execute_result"
    }
   ],
   "source": [
    "tree_upsamp = DecisionTreeClassifier(random_state=12345, max_depth=45,\n",
    "                                min_samples_leaf=3, max_features=0.8, min_samples_split=0.1)\n",
    "tree_upsamp.fit(features_upsampled, target_upsampled )\n",
    "probabilities_valid_dec_ups = tree_upsamp.predict_proba(features_valid)[:,1]\n",
    "auc_roc_dec_up = roc_auc_score(target_valid,probabilities_valid_dec_ups)\n",
    "\n",
    "fpr_dec_up, tpr_dec_up, thresholds_down_up = roc_curve(target_valid, probabilities_valid_dec_ups)\n",
    "\n",
    "plt.figure()\n",
    "plt.plot(fpr_dec_up, tpr_dec_up)\n",
    "plt.plot([0, 1], [0, 1], linestyle='--')\n",
    "plt.xlim([0.0, 1.0])\n",
    "plt.ylim([0.0, 1.0])\n",
    "plt.xlabel('False Positive Rate')\n",
    "plt.ylabel('True Positive Rate')\n",
    "plt.title('ROC-кривая')\n",
    "plt.show()\n",
    "\n",
    "\n",
    "auc_roc_dec_up"
   ]
  },
  {
   "cell_type": "markdown",
   "metadata": {},
   "source": [
    " ##### `roc-auc =  0.81`"
   ]
  },
  {
   "cell_type": "markdown",
   "metadata": {},
   "source": [
    "### Downsample"
   ]
  },
  {
   "cell_type": "code",
   "execution_count": 69,
   "metadata": {},
   "outputs": [
    {
     "data": {
      "text/plain": [
       "({'min_samples_split': 0.1,\n",
       "  'min_samples_leaf': 3,\n",
       "  'max_features': 0.8,\n",
       "  'max_depth': 45},)"
      ]
     },
     "execution_count": 69,
     "metadata": {},
     "output_type": "execute_result"
    }
   ],
   "source": [
    "dec_up_down(features_downsampled, target_downsampled)"
   ]
  },
  {
   "cell_type": "code",
   "execution_count": 70,
   "metadata": {},
   "outputs": [
    {
     "data": {
      "image/png": "[encoded data removed]",
      "text/plain": [
       "<Figure size 432x288 with 1 Axes>"
      ]
     },
     "metadata": {
      "needs_background": "light"
     },
     "output_type": "display_data"
    },
    {
     "data": {
      "text/plain": [
       "0.8008982278317047"
      ]
     },
     "execution_count": 70,
     "metadata": {},
     "output_type": "execute_result"
    }
   ],
   "source": [
    "tree_down = DecisionTreeClassifier(random_state=12345, max_depth=45,\n",
    "                                min_samples_leaf=3, max_features=0.8, min_samples_split=0.1)\n",
    "tree_down.fit(features_downsampled, target_downsampled)\n",
    "probabilities_valid_dec_down = tree_down.predict_proba(features_valid)[:,1]\n",
    "auc_roc_dec_down = roc_auc_score(target_valid,probabilities_valid_dec_down)\n",
    "\n",
    "fpr_dec_down, tpr_dec_down, thresholds_down = roc_curve(target_valid, probabilities_valid_dec_down)\n",
    "\n",
    "plt.figure()\n",
    "plt.plot(fpr_dec_down, tpr_dec_down)\n",
    "plt.plot([0, 1], [0, 1], linestyle='--')\n",
    "plt.xlim([0.0, 1.0])\n",
    "plt.ylim([0.0, 1.0])\n",
    "plt.xlabel('False Positive Rate')\n",
    "plt.ylabel('True Positive Rate')\n",
    "plt.title('ROC-кривая')\n",
    "plt.show()\n",
    "\n",
    "\n",
    "auc_roc_dec_down"
   ]
  },
  {
   "cell_type": "markdown",
   "metadata": {},
   "source": [
    " ##### `roc-auc =  0.80`"
   ]
  },
  {
   "cell_type": "markdown",
   "metadata": {},
   "source": [
    "### Random Forest"
   ]
  },
  {
   "cell_type": "markdown",
   "metadata": {},
   "source": [
    "#### Balanced "
   ]
  },
  {
   "cell_type": "code",
   "execution_count": 71,
   "metadata": {},
   "outputs": [
    {
     "name": "stdout",
     "output_type": "stream",
     "text": [
      "{'n_estimators': 50, 'max_depth': 7}\n"
     ]
    }
   ],
   "source": [
    "clf = RandomForestClassifier(class_weight = 'balanced',random_state=12345)   \n",
    "parametrs = { 'n_estimators': range (10, 120, 10),\n",
    "        'max_depth': range (1, 50, 1)}\n",
    "forest_bal = RandomizedSearchCV(clf, n_jobs=4, n_iter=100,cv=5,\n",
    "                                 param_distributions=parametrs, random_state=12345, scoring='roc_auc')\n",
    "forest_bal.fit(features_train, target_train)\n",
    "print(forest_bal.best_params_)"
   ]
  },
  {
   "cell_type": "code",
   "execution_count": 72,
   "metadata": {},
   "outputs": [
    {
     "data": {
      "image/png": "[encoded data removed]",
      "text/plain": [
       "<Figure size 432x288 with 1 Axes>"
      ]
     },
     "metadata": {
      "needs_background": "light"
     },
     "output_type": "display_data"
    },
    {
     "data": {
      "text/plain": [
       "0.8226961407372027"
      ]
     },
     "execution_count": 72,
     "metadata": {},
     "output_type": "execute_result"
    }
   ],
   "source": [
    "forest_bal = RandomForestClassifier(class_weight = 'balanced',random_state=12345,n_estimators=110, max_depth=8 )   \n",
    "forest_bal.fit(features_train, target_train)\n",
    "\n",
    "probabilities_valid_for = forest_bal.predict_proba(features_valid)[:,1]\n",
    "auc_roc_dec_for = roc_auc_score(target_valid,probabilities_valid_for)\n",
    "\n",
    "fpr_dec_for, tpr_dec_for, thresholds_for = roc_curve(target_valid, probabilities_valid_for)\n",
    "\n",
    "plt.figure()\n",
    "plt.plot(fpr_dec_for, tpr_dec_for)\n",
    "plt.plot([0, 1], [0, 1], linestyle='--')\n",
    "plt.xlim([0.0, 1.0])\n",
    "plt.ylim([0.0, 1.0])\n",
    "plt.xlabel('False Positive Rate')\n",
    "plt.ylabel('True Positive Rate')\n",
    "plt.title('ROC-кривая')\n",
    "plt.show()\n",
    "\n",
    "\n",
    "auc_roc_dec_for"
   ]
  },
  {
   "cell_type": "markdown",
   "metadata": {},
   "source": [
    " #####  `roc-auc =  0.82`"
   ]
  },
  {
   "cell_type": "markdown",
   "metadata": {},
   "source": [
    "#### Upsample"
   ]
  },
  {
   "cell_type": "code",
   "execution_count": 73,
   "metadata": {},
   "outputs": [],
   "source": [
    "def random_forest_up_down(features, target):\n",
    "    \n",
    "    find = RandomForestClassifier(random_state=12345)   \n",
    "    parametrs = { 'n_estimators': range (10, 120, 10),\n",
    "        'max_depth': range (1, 50, 1),\n",
    "       'min_samples_leaf': range(2, 10, 1),\n",
    "       }\n",
    "    forest = RandomizedSearchCV(find, n_jobs=4, n_iter=50,cv=5,\n",
    "                                 param_distributions=parametrs, random_state=12345, scoring='roc_auc')\n",
    "    forest.fit(features, target)\n",
    "    return forest.best_params_ "
   ]
  },
  {
   "cell_type": "code",
   "execution_count": 74,
   "metadata": {},
   "outputs": [
    {
     "data": {
      "text/plain": [
       "{'n_estimators': 110, 'min_samples_leaf': 2, 'max_depth': 36}"
      ]
     },
     "execution_count": 74,
     "metadata": {},
     "output_type": "execute_result"
    }
   ],
   "source": [
    "random_forest_up_down(features_upsampled, target_upsampled)"
   ]
  },
  {
   "cell_type": "code",
   "execution_count": 75,
   "metadata": {},
   "outputs": [
    {
     "data": {
      "image/png": "[encoded data removed]",
      "text/plain": [
       "<Figure size 432x288 with 1 Axes>"
      ]
     },
     "metadata": {
      "needs_background": "light"
     },
     "output_type": "display_data"
    },
    {
     "data": {
      "text/plain": [
       "0.8253009609701993"
      ]
     },
     "execution_count": 75,
     "metadata": {},
     "output_type": "execute_result"
    }
   ],
   "source": [
    "forest_up = RandomForestClassifier(random_state=12345,n_estimators=110, max_depth= 36,min_samples_leaf=2)   \n",
    "forest_up.fit(features_upsampled, target_upsampled)\n",
    "\n",
    "probabilities_valid_for_up = forest_up.predict_proba(features_valid)[:,1]\n",
    "auc_roc_dec_for_up = roc_auc_score(target_valid,probabilities_valid_for_up)\n",
    "\n",
    "fpr_dec_for_up, tpr_dec_for_up, thresholds_for_up = roc_curve(target_valid, probabilities_valid_for_up)\n",
    "\n",
    "plt.figure()\n",
    "plt.plot(fpr_dec_for_up, tpr_dec_for_up)\n",
    "plt.plot([0, 1], [0, 1], linestyle='--')\n",
    "plt.xlim([0.0, 1.0])\n",
    "plt.ylim([0.0, 1.0])\n",
    "plt.xlabel('False Positive Rate')\n",
    "plt.ylabel('True Positive Rate')\n",
    "plt.title('ROC-кривая')\n",
    "plt.show()\n",
    "\n",
    "\n",
    "auc_roc_dec_for_up"
   ]
  },
  {
   "cell_type": "markdown",
   "metadata": {},
   "source": [
    " #####  `roc-auc =  0.82`"
   ]
  },
  {
   "cell_type": "markdown",
   "metadata": {},
   "source": [
    "### Downsample"
   ]
  },
  {
   "cell_type": "code",
   "execution_count": 76,
   "metadata": {},
   "outputs": [
    {
     "data": {
      "text/plain": [
       "{'n_estimators': 60, 'min_samples_leaf': 7, 'max_depth': 7}"
      ]
     },
     "execution_count": 76,
     "metadata": {},
     "output_type": "execute_result"
    }
   ],
   "source": [
    "random_forest_up_down(features_downsampled, target_downsampled)"
   ]
  },
  {
   "cell_type": "code",
   "execution_count": 77,
   "metadata": {},
   "outputs": [
    {
     "data": {
      "image/png": "[encoded data removed]",
      "text/plain": [
       "<Figure size 432x288 with 1 Axes>"
      ]
     },
     "metadata": {
      "needs_background": "light"
     },
     "output_type": "display_data"
    },
    {
     "data": {
      "text/plain": [
       "0.8193991305122206"
      ]
     },
     "execution_count": 77,
     "metadata": {},
     "output_type": "execute_result"
    }
   ],
   "source": [
    "model_for_down = RandomForestClassifier(random_state=12345,n_estimators=80, max_depth=16,min_samples_leaf = 7)\n",
    "model_for_down.fit(features_downsampled, target_downsampled)\n",
    "\n",
    "probabilities_valid_for_down = model_for_down.predict_proba(features_valid)[:,1]\n",
    "auc_roc_for_down = roc_auc_score(target_valid,probabilities_valid_for_down)\n",
    "\n",
    "fpr_dec_for_down, tpr_dec_for_down, thresholds_for_down = roc_curve(target_valid, probabilities_valid_for_down)\n",
    "\n",
    "plt.figure()\n",
    "plt.plot(fpr_dec_for_down, tpr_dec_for_down)\n",
    "plt.plot([0, 1], [0, 1], linestyle='--')\n",
    "plt.xlim([0.0, 1.0])\n",
    "plt.ylim([0.0, 1.0])\n",
    "plt.xlabel('False Positive Rate')\n",
    "plt.ylabel('True Positive Rate')\n",
    "plt.title('ROC-кривая')\n",
    "plt.show()\n",
    "\n",
    "\n",
    "auc_roc_for_down"
   ]
  },
  {
   "cell_type": "markdown",
   "metadata": {},
   "source": [
    " ##### `roc-auc =  0.82`"
   ]
  },
  {
   "cell_type": "markdown",
   "metadata": {},
   "source": [
    "## Lightgbm"
   ]
  },
  {
   "cell_type": "markdown",
   "metadata": {},
   "source": [
    "### Balanced"
   ]
  },
  {
   "cell_type": "code",
   "execution_count": 78,
   "metadata": {},
   "outputs": [
    {
     "data": {
      "text/plain": [
       "({'subsample': 0.9,\n",
       "  'num_leaves': 12,\n",
       "  'n_estimators': 100,\n",
       "  'max_depth': 60,\n",
       "  'learning_rate': 0.05,\n",
       "  'colsample_bytree': 0.9,\n",
       "  'boosting_type': 'gbdt'},\n",
       " 0.8869229692672238)"
      ]
     },
     "execution_count": 78,
     "metadata": {},
     "output_type": "execute_result"
    }
   ],
   "source": [
    "lgbm = lgb.LGBMClassifier(class_weight='balanced')\n",
    "\n",
    "params = {'learning_rate': [0.05,2,3],\n",
    "          'boosting_type' : ['gbdt'],\n",
    "          'n_estimators': [40, 60, 80, 100],\n",
    "          'num_leaves': [4, 6, 8, 12],\n",
    "          'colsample_bytree': [0.9],\n",
    "          'subsample': [0.9],\n",
    "         'max_depth':[20,40,60,80]}\n",
    "\n",
    "\n",
    "\n",
    "lgbm_first = RandomizedSearchCV(lgbm, n_jobs=4, n_iter=50,cv=5,\n",
    "                                 param_distributions=params, random_state=12345, scoring='roc_auc')\n",
    "\n",
    "lgbm_first.fit(X=features_train, y=target_train)\n",
    "\n",
    "lgbm_first.best_params_,lgbm_first.best_score_"
   ]
  },
  {
   "cell_type": "code",
   "execution_count": 79,
   "metadata": {},
   "outputs": [
    {
     "name": "stdout",
     "output_type": "stream",
     "text": [
      "[1]\tvalid_0's binary_logloss: 0.678964\n",
      "[2]\tvalid_0's binary_logloss: 0.666232\n",
      "[3]\tvalid_0's binary_logloss: 0.654849\n",
      "[4]\tvalid_0's binary_logloss: 0.644689\n",
      "[5]\tvalid_0's binary_logloss: 0.635469\n",
      "[6]\tvalid_0's binary_logloss: 0.627754\n",
      "[7]\tvalid_0's binary_logloss: 0.620335\n",
      "[8]\tvalid_0's binary_logloss: 0.613126\n",
      "[9]\tvalid_0's binary_logloss: 0.60673\n",
      "[10]\tvalid_0's binary_logloss: 0.601451\n",
      "[11]\tvalid_0's binary_logloss: 0.595496\n",
      "[12]\tvalid_0's binary_logloss: 0.590279\n",
      "[13]\tvalid_0's binary_logloss: 0.585708\n",
      "[14]\tvalid_0's binary_logloss: 0.581337\n",
      "[15]\tvalid_0's binary_logloss: 0.577048\n",
      "[16]\tvalid_0's binary_logloss: 0.572905\n",
      "[17]\tvalid_0's binary_logloss: 0.569648\n",
      "[18]\tvalid_0's binary_logloss: 0.566495\n",
      "[19]\tvalid_0's binary_logloss: 0.563759\n",
      "[20]\tvalid_0's binary_logloss: 0.560616\n",
      "[21]\tvalid_0's binary_logloss: 0.558133\n",
      "[22]\tvalid_0's binary_logloss: 0.555683\n",
      "[23]\tvalid_0's binary_logloss: 0.553028\n",
      "[24]\tvalid_0's binary_logloss: 0.551182\n",
      "[25]\tvalid_0's binary_logloss: 0.549038\n",
      "[26]\tvalid_0's binary_logloss: 0.547006\n",
      "[27]\tvalid_0's binary_logloss: 0.545088\n",
      "[28]\tvalid_0's binary_logloss: 0.543532\n",
      "[29]\tvalid_0's binary_logloss: 0.542134\n",
      "[30]\tvalid_0's binary_logloss: 0.540653\n",
      "[31]\tvalid_0's binary_logloss: 0.538963\n",
      "[32]\tvalid_0's binary_logloss: 0.537722\n",
      "[33]\tvalid_0's binary_logloss: 0.536046\n",
      "[34]\tvalid_0's binary_logloss: 0.534676\n",
      "[35]\tvalid_0's binary_logloss: 0.533363\n",
      "[36]\tvalid_0's binary_logloss: 0.532407\n",
      "[37]\tvalid_0's binary_logloss: 0.53158\n",
      "[38]\tvalid_0's binary_logloss: 0.530404\n",
      "[39]\tvalid_0's binary_logloss: 0.529283\n",
      "[40]\tvalid_0's binary_logloss: 0.528351\n",
      "[41]\tvalid_0's binary_logloss: 0.527746\n",
      "[42]\tvalid_0's binary_logloss: 0.527138\n",
      "[43]\tvalid_0's binary_logloss: 0.526562\n",
      "[44]\tvalid_0's binary_logloss: 0.525444\n",
      "[45]\tvalid_0's binary_logloss: 0.52479\n",
      "[46]\tvalid_0's binary_logloss: 0.524021\n",
      "[47]\tvalid_0's binary_logloss: 0.523205\n",
      "[48]\tvalid_0's binary_logloss: 0.522562\n",
      "[49]\tvalid_0's binary_logloss: 0.521659\n",
      "[50]\tvalid_0's binary_logloss: 0.520575\n",
      "[51]\tvalid_0's binary_logloss: 0.519664\n",
      "[52]\tvalid_0's binary_logloss: 0.518738\n",
      "[53]\tvalid_0's binary_logloss: 0.518538\n",
      "[54]\tvalid_0's binary_logloss: 0.517827\n",
      "[55]\tvalid_0's binary_logloss: 0.517433\n",
      "[56]\tvalid_0's binary_logloss: 0.51683\n",
      "[57]\tvalid_0's binary_logloss: 0.516282\n",
      "[58]\tvalid_0's binary_logloss: 0.515607\n",
      "[59]\tvalid_0's binary_logloss: 0.515126\n",
      "[60]\tvalid_0's binary_logloss: 0.514617\n",
      "[61]\tvalid_0's binary_logloss: 0.514028\n",
      "[62]\tvalid_0's binary_logloss: 0.513747\n",
      "[63]\tvalid_0's binary_logloss: 0.513415\n",
      "[64]\tvalid_0's binary_logloss: 0.513233\n",
      "[65]\tvalid_0's binary_logloss: 0.513017\n",
      "[66]\tvalid_0's binary_logloss: 0.512719\n",
      "[67]\tvalid_0's binary_logloss: 0.512193\n",
      "[68]\tvalid_0's binary_logloss: 0.51188\n",
      "[69]\tvalid_0's binary_logloss: 0.511391\n",
      "[70]\tvalid_0's binary_logloss: 0.510926\n",
      "[71]\tvalid_0's binary_logloss: 0.510184\n",
      "[72]\tvalid_0's binary_logloss: 0.510049\n",
      "[73]\tvalid_0's binary_logloss: 0.508911\n",
      "[74]\tvalid_0's binary_logloss: 0.508493\n",
      "[75]\tvalid_0's binary_logloss: 0.50824\n",
      "[76]\tvalid_0's binary_logloss: 0.508074\n",
      "[77]\tvalid_0's binary_logloss: 0.507411\n",
      "[78]\tvalid_0's binary_logloss: 0.507054\n",
      "[79]\tvalid_0's binary_logloss: 0.506886\n",
      "[80]\tvalid_0's binary_logloss: 0.506016\n",
      "[81]\tvalid_0's binary_logloss: 0.505837\n",
      "[82]\tvalid_0's binary_logloss: 0.505731\n",
      "[83]\tvalid_0's binary_logloss: 0.505642\n",
      "[84]\tvalid_0's binary_logloss: 0.505358\n",
      "[85]\tvalid_0's binary_logloss: 0.504762\n",
      "[86]\tvalid_0's binary_logloss: 0.503953\n",
      "[87]\tvalid_0's binary_logloss: 0.504062\n",
      "[88]\tvalid_0's binary_logloss: 0.503838\n",
      "[89]\tvalid_0's binary_logloss: 0.503798\n",
      "[90]\tvalid_0's binary_logloss: 0.503345\n",
      "[91]\tvalid_0's binary_logloss: 0.503333\n",
      "[92]\tvalid_0's binary_logloss: 0.503194\n",
      "[93]\tvalid_0's binary_logloss: 0.502997\n",
      "[94]\tvalid_0's binary_logloss: 0.502946\n",
      "[95]\tvalid_0's binary_logloss: 0.502186\n",
      "[96]\tvalid_0's binary_logloss: 0.5019\n",
      "[97]\tvalid_0's binary_logloss: 0.501832\n",
      "[98]\tvalid_0's binary_logloss: 0.501647\n",
      "[99]\tvalid_0's binary_logloss: 0.5014\n",
      "[100]\tvalid_0's binary_logloss: 0.501156\n"
     ]
    },
    {
     "data": {
      "image/png": "[encoded data removed]",
      "text/plain": [
       "<Figure size 432x288 with 1 Axes>"
      ]
     },
     "metadata": {
      "needs_background": "light"
     },
     "output_type": "display_data"
    },
    {
     "name": "stdout",
     "output_type": "stream",
     "text": [
      "CPU times: user 617 ms, sys: 44 ms, total: 661 ms\n",
      "Wall time: 352 ms\n"
     ]
    },
    {
     "data": {
      "text/plain": [
       "0.8307453793282114"
      ]
     },
     "execution_count": 79,
     "metadata": {},
     "output_type": "execute_result"
    }
   ],
   "source": [
    "%%time\n",
    "lgbm_bal = lgb.LGBMClassifier(class_weight='balanced',subsample= 0.9,num_leaves= 6,n_estimators=100,\n",
    "                              learning_rate=0.05,colsample_bytree=0.9,max_depth= 80,boosting_type='gbdt')\n",
    "\n",
    "\n",
    "\n",
    "lgbm_bal.fit(X=features_train, y=target_train,\n",
    "        eval_set=[(features_valid,target_valid)])\n",
    "\n",
    "probabilities_valid_ligh = lgbm_bal.predict_proba(features_valid)[:,1]\n",
    "auc_roc_ligh = roc_auc_score(target_valid,probabilities_valid_ligh)\n",
    "\n",
    "fpr_dec_ligh, tpr_dec_ligh, thresholds_ligh = roc_curve(target_valid, probabilities_valid_ligh)\n",
    "\n",
    "plt.figure()\n",
    "plt.plot(fpr_dec_ligh, tpr_dec_ligh)\n",
    "plt.plot([0, 1], [0, 1], linestyle='--')\n",
    "plt.xlim([0.0, 1.0])\n",
    "plt.ylim([0.0, 1.0])\n",
    "plt.xlabel('False Positive Rate')\n",
    "plt.ylabel('True Positive Rate')\n",
    "plt.title('ROC-кривая')\n",
    "plt.show()\n",
    "\n",
    "\n",
    "auc_roc_ligh"
   ]
  },
  {
   "cell_type": "markdown",
   "metadata": {},
   "source": [
    " #####  `roc-auc =  0.83`"
   ]
  },
  {
   "cell_type": "markdown",
   "metadata": {},
   "source": [
    "### Upsample"
   ]
  },
  {
   "cell_type": "code",
   "execution_count": 80,
   "metadata": {},
   "outputs": [
    {
     "data": {
      "text/plain": [
       "({'subsample': 0.9,\n",
       "  'num_leaves': 12,\n",
       "  'n_estimators': 100,\n",
       "  'max_depth': 60,\n",
       "  'learning_rate': 0.05,\n",
       "  'colsample_bytree': 0.9,\n",
       "  'boosting_type': 'gbdt'},\n",
       " 0.9023491210879669)"
      ]
     },
     "execution_count": 80,
     "metadata": {},
     "output_type": "execute_result"
    }
   ],
   "source": [
    "lgbm_up = lgb.LGBMClassifier()\n",
    "\n",
    "params = {'learning_rate': [0.05,2,3],\n",
    "          'boosting_type' : ['gbdt'],\n",
    "          'n_estimators': [40, 60, 80, 100],\n",
    "          'num_leaves': [4, 6, 8, 12],\n",
    "          'colsample_bytree': [0.9],\n",
    "          'subsample': [0.9],\n",
    "         'max_depth':[20,40,60,80]}\n",
    "\n",
    "\n",
    "\n",
    "lgbm_first_up = RandomizedSearchCV(lgbm, n_jobs=4, n_iter=50,cv=5,\n",
    "                                 param_distributions=params, random_state=12345, scoring='roc_auc')\n",
    "\n",
    "lgbm_first_up.fit(X=features_upsampled, y=target_upsampled)\n",
    "\n",
    "lgbm_first_up.best_params_,lgbm_first_up.best_score_"
   ]
  },
  {
   "cell_type": "code",
   "execution_count": 81,
   "metadata": {},
   "outputs": [
    {
     "name": "stdout",
     "output_type": "stream",
     "text": [
      "[1]\tvalid_0's binary_logloss: 0.563385\n",
      "[2]\tvalid_0's binary_logloss: 0.551166\n",
      "[3]\tvalid_0's binary_logloss: 0.540485\n",
      "[4]\tvalid_0's binary_logloss: 0.530832\n",
      "[5]\tvalid_0's binary_logloss: 0.522155\n",
      "[6]\tvalid_0's binary_logloss: 0.515254\n",
      "[7]\tvalid_0's binary_logloss: 0.508165\n",
      "[8]\tvalid_0's binary_logloss: 0.501828\n",
      "[9]\tvalid_0's binary_logloss: 0.495605\n",
      "[10]\tvalid_0's binary_logloss: 0.490835\n",
      "[11]\tvalid_0's binary_logloss: 0.485248\n",
      "[12]\tvalid_0's binary_logloss: 0.48031\n",
      "[13]\tvalid_0's binary_logloss: 0.475657\n",
      "[14]\tvalid_0's binary_logloss: 0.471557\n",
      "[15]\tvalid_0's binary_logloss: 0.467775\n",
      "[16]\tvalid_0's binary_logloss: 0.464262\n",
      "[17]\tvalid_0's binary_logloss: 0.461016\n",
      "[18]\tvalid_0's binary_logloss: 0.458191\n",
      "[19]\tvalid_0's binary_logloss: 0.455537\n",
      "[20]\tvalid_0's binary_logloss: 0.453002\n",
      "[21]\tvalid_0's binary_logloss: 0.450478\n",
      "[22]\tvalid_0's binary_logloss: 0.448487\n",
      "[23]\tvalid_0's binary_logloss: 0.446369\n",
      "[24]\tvalid_0's binary_logloss: 0.444379\n",
      "[25]\tvalid_0's binary_logloss: 0.442696\n",
      "[26]\tvalid_0's binary_logloss: 0.441069\n",
      "[27]\tvalid_0's binary_logloss: 0.439602\n",
      "[28]\tvalid_0's binary_logloss: 0.437913\n",
      "[29]\tvalid_0's binary_logloss: 0.436329\n",
      "[30]\tvalid_0's binary_logloss: 0.435064\n",
      "[31]\tvalid_0's binary_logloss: 0.433699\n",
      "[32]\tvalid_0's binary_logloss: 0.432319\n",
      "[33]\tvalid_0's binary_logloss: 0.430415\n",
      "[34]\tvalid_0's binary_logloss: 0.429284\n",
      "[35]\tvalid_0's binary_logloss: 0.428651\n",
      "[36]\tvalid_0's binary_logloss: 0.427428\n",
      "[37]\tvalid_0's binary_logloss: 0.426949\n",
      "[38]\tvalid_0's binary_logloss: 0.425844\n",
      "[39]\tvalid_0's binary_logloss: 0.424447\n",
      "[40]\tvalid_0's binary_logloss: 0.423751\n",
      "[41]\tvalid_0's binary_logloss: 0.422633\n",
      "[42]\tvalid_0's binary_logloss: 0.421802\n",
      "[43]\tvalid_0's binary_logloss: 0.421122\n",
      "[44]\tvalid_0's binary_logloss: 0.420301\n",
      "[45]\tvalid_0's binary_logloss: 0.420069\n",
      "[46]\tvalid_0's binary_logloss: 0.419608\n",
      "[47]\tvalid_0's binary_logloss: 0.419211\n",
      "[48]\tvalid_0's binary_logloss: 0.418891\n",
      "[49]\tvalid_0's binary_logloss: 0.418608\n",
      "[50]\tvalid_0's binary_logloss: 0.418248\n",
      "[51]\tvalid_0's binary_logloss: 0.418094\n",
      "[52]\tvalid_0's binary_logloss: 0.417775\n",
      "[53]\tvalid_0's binary_logloss: 0.417663\n",
      "[54]\tvalid_0's binary_logloss: 0.416809\n",
      "[55]\tvalid_0's binary_logloss: 0.416624\n",
      "[56]\tvalid_0's binary_logloss: 0.416674\n",
      "[57]\tvalid_0's binary_logloss: 0.416215\n",
      "[58]\tvalid_0's binary_logloss: 0.415869\n",
      "[59]\tvalid_0's binary_logloss: 0.415871\n",
      "[60]\tvalid_0's binary_logloss: 0.415548\n",
      "[61]\tvalid_0's binary_logloss: 0.414586\n",
      "[62]\tvalid_0's binary_logloss: 0.414647\n",
      "[63]\tvalid_0's binary_logloss: 0.414692\n",
      "[64]\tvalid_0's binary_logloss: 0.414432\n",
      "[65]\tvalid_0's binary_logloss: 0.414106\n",
      "[66]\tvalid_0's binary_logloss: 0.413784\n",
      "[67]\tvalid_0's binary_logloss: 0.412572\n",
      "[68]\tvalid_0's binary_logloss: 0.411686\n",
      "[69]\tvalid_0's binary_logloss: 0.411668\n",
      "[70]\tvalid_0's binary_logloss: 0.411473\n",
      "[71]\tvalid_0's binary_logloss: 0.41051\n",
      "[72]\tvalid_0's binary_logloss: 0.410393\n",
      "[73]\tvalid_0's binary_logloss: 0.410146\n",
      "[74]\tvalid_0's binary_logloss: 0.409963\n",
      "[75]\tvalid_0's binary_logloss: 0.409876\n",
      "[76]\tvalid_0's binary_logloss: 0.409733\n",
      "[77]\tvalid_0's binary_logloss: 0.409841\n",
      "[78]\tvalid_0's binary_logloss: 0.409812\n",
      "[79]\tvalid_0's binary_logloss: 0.409488\n",
      "[80]\tvalid_0's binary_logloss: 0.409418\n",
      "[81]\tvalid_0's binary_logloss: 0.409478\n",
      "[82]\tvalid_0's binary_logloss: 0.409553\n",
      "[83]\tvalid_0's binary_logloss: 0.409569\n",
      "[84]\tvalid_0's binary_logloss: 0.408473\n",
      "[85]\tvalid_0's binary_logloss: 0.408517\n",
      "[86]\tvalid_0's binary_logloss: 0.408526\n",
      "[87]\tvalid_0's binary_logloss: 0.408659\n",
      "[88]\tvalid_0's binary_logloss: 0.408552\n",
      "[89]\tvalid_0's binary_logloss: 0.408569\n",
      "[90]\tvalid_0's binary_logloss: 0.408638\n",
      "[91]\tvalid_0's binary_logloss: 0.408493\n",
      "[92]\tvalid_0's binary_logloss: 0.407573\n",
      "[93]\tvalid_0's binary_logloss: 0.407644\n",
      "[94]\tvalid_0's binary_logloss: 0.40768\n",
      "[95]\tvalid_0's binary_logloss: 0.407448\n",
      "[96]\tvalid_0's binary_logloss: 0.406913\n",
      "[97]\tvalid_0's binary_logloss: 0.406522\n",
      "[98]\tvalid_0's binary_logloss: 0.406134\n",
      "[99]\tvalid_0's binary_logloss: 0.40611\n",
      "[100]\tvalid_0's binary_logloss: 0.40605\n"
     ]
    },
    {
     "data": {
      "image/png": "[encoded data removed]",
      "text/plain": [
       "<Figure size 432x288 with 1 Axes>"
      ]
     },
     "metadata": {
      "needs_background": "light"
     },
     "output_type": "display_data"
    },
    {
     "name": "stdout",
     "output_type": "stream",
     "text": [
      "CPU times: user 721 ms, sys: 43.3 ms, total: 764 ms\n",
      "Wall time: 378 ms\n"
     ]
    },
    {
     "data": {
      "text/plain": [
       "0.8429963326074109"
      ]
     },
     "execution_count": 81,
     "metadata": {},
     "output_type": "execute_result"
    }
   ],
   "source": [
    "%%time\n",
    "lgbm_ups = lgb.LGBMClassifier(subsample= 0.9,num_leaves= 12,n_estimators=100,\n",
    "                              learning_rate=0.05,colsample_bytree=0.9,max_depth= 60,boosting_type='gbdt')\n",
    "\n",
    "\n",
    "\n",
    "lgbm_ups.fit(X=features_train, y=target_train,\n",
    "        eval_set=[(features_valid,target_valid)])\n",
    "\n",
    "probabilities_valid_ligh_up = lgbm_ups.predict_proba(features_valid)[:,1]\n",
    "auc_roc_ligh_up = roc_auc_score(target_valid,probabilities_valid_ligh_up)\n",
    "\n",
    "fprligh_up, tpr_ligh_up, thresholds_ligh_up = roc_curve(target_valid, probabilities_valid_ligh_up)\n",
    "\n",
    "plt.figure()\n",
    "plt.plot(fprligh_up, tpr_ligh_up)\n",
    "plt.plot([0, 1], [0, 1], linestyle='--')\n",
    "plt.xlim([0.0, 1.0])\n",
    "plt.ylim([0.0, 1.0])\n",
    "plt.xlabel('False Positive Rate')\n",
    "plt.ylabel('True Positive Rate')\n",
    "plt.title('ROC-кривая')\n",
    "plt.show()\n",
    "\n",
    "\n",
    "auc_roc_ligh_up"
   ]
  },
  {
   "cell_type": "markdown",
   "metadata": {},
   "source": [
    " #####  `roc-auc = 0.84`"
   ]
  },
  {
   "cell_type": "markdown",
   "metadata": {},
   "source": [
    "### Downsample"
   ]
  },
  {
   "cell_type": "code",
   "execution_count": 82,
   "metadata": {},
   "outputs": [
    {
     "data": {
      "text/plain": [
       "({'subsample': 0.9,\n",
       "  'num_leaves': 12,\n",
       "  'n_estimators': 100,\n",
       "  'max_depth': 60,\n",
       "  'learning_rate': 0.05,\n",
       "  'colsample_bytree': 0.9,\n",
       "  'boosting_type': 'gbdt'},\n",
       " 0.8794264048138372)"
      ]
     },
     "execution_count": 82,
     "metadata": {},
     "output_type": "execute_result"
    }
   ],
   "source": [
    "lgbm_down = lgb.LGBMClassifier()\n",
    "\n",
    "params = {'learning_rate': [0.05,2,3],\n",
    "          'boosting_type' : ['gbdt'],\n",
    "          'n_estimators': [40, 60, 80, 100],\n",
    "          'num_leaves': [4, 6, 8, 12],\n",
    "          'colsample_bytree': [0.9],\n",
    "          'subsample': [0.9],\n",
    "         'max_depth':[20,40,60,80]}\n",
    "\n",
    "\n",
    "\n",
    "lgbm_first_down = RandomizedSearchCV(lgbm_down, n_jobs=4,cv=5, n_iter=50,\n",
    "                                 param_distributions=params, random_state=12345, scoring='roc_auc')\n",
    "\n",
    "lgbm_first_down.fit(X=features_downsampled, y=target_downsampled)\n",
    "\n",
    "lgbm_first_down.best_params_,lgbm_first_down.best_score_"
   ]
  },
  {
   "cell_type": "code",
   "execution_count": 83,
   "metadata": {},
   "outputs": [
    {
     "name": "stdout",
     "output_type": "stream",
     "text": [
      "[1]\tvalid_0's binary_logloss: 0.685237\n",
      "[2]\tvalid_0's binary_logloss: 0.672375\n",
      "[3]\tvalid_0's binary_logloss: 0.660836\n",
      "[4]\tvalid_0's binary_logloss: 0.650692\n",
      "[5]\tvalid_0's binary_logloss: 0.641511\n",
      "[6]\tvalid_0's binary_logloss: 0.633518\n",
      "[7]\tvalid_0's binary_logloss: 0.626314\n",
      "[8]\tvalid_0's binary_logloss: 0.618924\n",
      "[9]\tvalid_0's binary_logloss: 0.612418\n",
      "[10]\tvalid_0's binary_logloss: 0.606786\n",
      "[11]\tvalid_0's binary_logloss: 0.601126\n",
      "[12]\tvalid_0's binary_logloss: 0.596138\n",
      "[13]\tvalid_0's binary_logloss: 0.591326\n",
      "[14]\tvalid_0's binary_logloss: 0.587275\n",
      "[15]\tvalid_0's binary_logloss: 0.583278\n",
      "[16]\tvalid_0's binary_logloss: 0.579586\n",
      "[17]\tvalid_0's binary_logloss: 0.576181\n",
      "[18]\tvalid_0's binary_logloss: 0.572642\n",
      "[19]\tvalid_0's binary_logloss: 0.569772\n",
      "[20]\tvalid_0's binary_logloss: 0.566855\n",
      "[21]\tvalid_0's binary_logloss: 0.564131\n",
      "[22]\tvalid_0's binary_logloss: 0.561702\n",
      "[23]\tvalid_0's binary_logloss: 0.559563\n",
      "[24]\tvalid_0's binary_logloss: 0.55725\n",
      "[25]\tvalid_0's binary_logloss: 0.555569\n",
      "[26]\tvalid_0's binary_logloss: 0.553959\n",
      "[27]\tvalid_0's binary_logloss: 0.552376\n",
      "[28]\tvalid_0's binary_logloss: 0.550502\n",
      "[29]\tvalid_0's binary_logloss: 0.548911\n",
      "[30]\tvalid_0's binary_logloss: 0.547835\n",
      "[31]\tvalid_0's binary_logloss: 0.547025\n",
      "[32]\tvalid_0's binary_logloss: 0.546162\n",
      "[33]\tvalid_0's binary_logloss: 0.544831\n",
      "[34]\tvalid_0's binary_logloss: 0.54312\n",
      "[35]\tvalid_0's binary_logloss: 0.541981\n",
      "[36]\tvalid_0's binary_logloss: 0.540922\n",
      "[37]\tvalid_0's binary_logloss: 0.540312\n",
      "[38]\tvalid_0's binary_logloss: 0.539835\n",
      "[39]\tvalid_0's binary_logloss: 0.539347\n",
      "[40]\tvalid_0's binary_logloss: 0.538575\n",
      "[41]\tvalid_0's binary_logloss: 0.537544\n",
      "[42]\tvalid_0's binary_logloss: 0.537245\n",
      "[43]\tvalid_0's binary_logloss: 0.536478\n",
      "[44]\tvalid_0's binary_logloss: 0.53594\n",
      "[45]\tvalid_0's binary_logloss: 0.535111\n",
      "[46]\tvalid_0's binary_logloss: 0.535036\n",
      "[47]\tvalid_0's binary_logloss: 0.534789\n",
      "[48]\tvalid_0's binary_logloss: 0.534496\n",
      "[49]\tvalid_0's binary_logloss: 0.533572\n",
      "[50]\tvalid_0's binary_logloss: 0.532534\n",
      "[51]\tvalid_0's binary_logloss: 0.531924\n",
      "[52]\tvalid_0's binary_logloss: 0.531231\n",
      "[53]\tvalid_0's binary_logloss: 0.530742\n",
      "[54]\tvalid_0's binary_logloss: 0.529943\n",
      "[55]\tvalid_0's binary_logloss: 0.52997\n",
      "[56]\tvalid_0's binary_logloss: 0.529697\n",
      "[57]\tvalid_0's binary_logloss: 0.529187\n",
      "[58]\tvalid_0's binary_logloss: 0.52861\n",
      "[59]\tvalid_0's binary_logloss: 0.527993\n",
      "[60]\tvalid_0's binary_logloss: 0.527886\n",
      "[61]\tvalid_0's binary_logloss: 0.527487\n",
      "[62]\tvalid_0's binary_logloss: 0.527156\n",
      "[63]\tvalid_0's binary_logloss: 0.527088\n",
      "[64]\tvalid_0's binary_logloss: 0.526936\n",
      "[65]\tvalid_0's binary_logloss: 0.526827\n",
      "[66]\tvalid_0's binary_logloss: 0.52654\n",
      "[67]\tvalid_0's binary_logloss: 0.525811\n",
      "[68]\tvalid_0's binary_logloss: 0.525245\n",
      "[69]\tvalid_0's binary_logloss: 0.524584\n",
      "[70]\tvalid_0's binary_logloss: 0.524404\n",
      "[71]\tvalid_0's binary_logloss: 0.523601\n",
      "[72]\tvalid_0's binary_logloss: 0.523535\n",
      "[73]\tvalid_0's binary_logloss: 0.523316\n",
      "[74]\tvalid_0's binary_logloss: 0.523256\n",
      "[75]\tvalid_0's binary_logloss: 0.523162\n",
      "[76]\tvalid_0's binary_logloss: 0.522452\n",
      "[77]\tvalid_0's binary_logloss: 0.522189\n",
      "[78]\tvalid_0's binary_logloss: 0.521356\n",
      "[79]\tvalid_0's binary_logloss: 0.521132\n",
      "[80]\tvalid_0's binary_logloss: 0.521167\n",
      "[81]\tvalid_0's binary_logloss: 0.520459\n",
      "[82]\tvalid_0's binary_logloss: 0.520274\n",
      "[83]\tvalid_0's binary_logloss: 0.52002\n",
      "[84]\tvalid_0's binary_logloss: 0.519734\n",
      "[85]\tvalid_0's binary_logloss: 0.519574\n",
      "[86]\tvalid_0's binary_logloss: 0.519058\n",
      "[87]\tvalid_0's binary_logloss: 0.518659\n",
      "[88]\tvalid_0's binary_logloss: 0.518829\n",
      "[89]\tvalid_0's binary_logloss: 0.518935\n",
      "[90]\tvalid_0's binary_logloss: 0.518753\n",
      "[91]\tvalid_0's binary_logloss: 0.518583\n",
      "[92]\tvalid_0's binary_logloss: 0.518365\n",
      "[93]\tvalid_0's binary_logloss: 0.517703\n",
      "[94]\tvalid_0's binary_logloss: 0.517401\n",
      "[95]\tvalid_0's binary_logloss: 0.517114\n",
      "[96]\tvalid_0's binary_logloss: 0.517136\n",
      "[97]\tvalid_0's binary_logloss: 0.517033\n",
      "[98]\tvalid_0's binary_logloss: 0.517004\n",
      "[99]\tvalid_0's binary_logloss: 0.516873\n",
      "[100]\tvalid_0's binary_logloss: 0.516583\n"
     ]
    },
    {
     "data": {
      "image/png": "[encoded data removed]",
      "text/plain": [
       "<Figure size 432x288 with 1 Axes>"
      ]
     },
     "metadata": {
      "needs_background": "light"
     },
     "output_type": "display_data"
    },
    {
     "name": "stdout",
     "output_type": "stream",
     "text": [
      "CPU times: user 562 ms, sys: 75.3 ms, total: 637 ms\n",
      "Wall time: 350 ms\n"
     ]
    },
    {
     "data": {
      "text/plain": [
       "0.8429963326074109"
      ]
     },
     "execution_count": 83,
     "metadata": {},
     "output_type": "execute_result"
    }
   ],
   "source": [
    "%%time\n",
    "lgbm_downs = lgb.LGBMClassifier(subsample= 0.9,num_leaves= 6,n_estimators=100,\n",
    "                              learning_rate=0.05,colsample_bytree=0.9,max_depth= 80,boosting_type='gbdt')\n",
    "\n",
    "\n",
    "\n",
    "lgbm_downs.fit(X=features_downsampled, y=target_downsampled,\n",
    "        eval_set=[(features_valid,target_valid)])\n",
    "\n",
    "probabilities_valid_ligh_down = lgbm_downs.predict_proba(features_valid)[:,1]\n",
    "auc_roc_ligh_down = roc_auc_score(target_valid,probabilities_valid_ligh_up)\n",
    "\n",
    "fprligh_down, tpr_ligh_down, thresholds_ligh_down = roc_curve(target_valid, probabilities_valid_ligh_down)\n",
    "\n",
    "plt.figure()\n",
    "plt.plot(fprligh_down, tpr_ligh_down)\n",
    "plt.plot([0, 1], [0, 1], linestyle='--')\n",
    "plt.xlim([0.0, 1.0])\n",
    "plt.ylim([0.0, 1.0])\n",
    "plt.xlabel('False Positive Rate')\n",
    "plt.ylabel('True Positive Rate')\n",
    "plt.title('ROC-кривая')\n",
    "plt.show()\n",
    "\n",
    "\n",
    "auc_roc_ligh_down"
   ]
  },
  {
   "cell_type": "markdown",
   "metadata": {},
   "source": [
    "\n",
    " ##### `roc-auc =  0.84`"
   ]
  },
  {
   "cell_type": "markdown",
   "metadata": {},
   "source": [
    "### Xgboosting"
   ]
  },
  {
   "cell_type": "markdown",
   "metadata": {},
   "source": [
    "#### Balanced"
   ]
  },
  {
   "cell_type": "code",
   "execution_count": 84,
   "metadata": {},
   "outputs": [
    {
     "data": {
      "text/plain": [
       "{'learning_rate': 0.4223262770998448,\n",
       " 'max_depth': 8,\n",
       " 'n_estimators': 18,\n",
       " 'objective': 'binary:logistic',\n",
       " 'scale_pos_weight': 0.36}"
      ]
     },
     "execution_count": 84,
     "metadata": {},
     "output_type": "execute_result"
    }
   ],
   "source": [
    "# Preconfigure estimator and parameters\n",
    "estimator = XGBClassifier()\n",
    "params = {  'scale_pos_weight' : [0.36],\n",
    "            \"n_estimators\": st.randint(3, 40),\n",
    "            \"max_depth\": st.randint(3, 40),\n",
    "            \"learning_rate\": st.uniform(0.05, 0.4),\n",
    "            'objective': ['binary:logistic']}\n",
    "\n",
    "clf = RandomizedSearchCV(estimator, params, cv=5,random_state=12345,\n",
    "                         n_jobs=1, n_iter=50,scoring='roc_auc') \n",
    "                              \n",
    "clf.fit(features_train,target_train)  \n",
    "clf.best_params_"
   ]
  },
  {
   "cell_type": "code",
   "execution_count": 85,
   "metadata": {},
   "outputs": [
    {
     "data": {
      "text/plain": [
       "1    5174\n",
       "0    1869\n",
       "Name: target, dtype: int64"
      ]
     },
     "execution_count": 85,
     "metadata": {},
     "output_type": "execute_result"
    }
   ],
   "source": [
    "df['target'].value_counts()"
   ]
  },
  {
   "cell_type": "code",
   "execution_count": 86,
   "metadata": {},
   "outputs": [],
   "source": [
    "total_negative_examples = 1869\n",
    "total_positive_examples = 5174"
   ]
  },
  {
   "cell_type": "code",
   "execution_count": 87,
   "metadata": {},
   "outputs": [
    {
     "data": {
      "text/plain": [
       "0.36122922303826827"
      ]
     },
     "execution_count": 87,
     "metadata": {},
     "output_type": "execute_result"
    }
   ],
   "source": [
    "scale_pos_weight = total_negative_examples / total_positive_examples\n",
    "scale_pos_weight"
   ]
  },
  {
   "cell_type": "code",
   "execution_count": 88,
   "metadata": {},
   "outputs": [
    {
     "data": {
      "image/png": "[encoded data removed]",
      "text/plain": [
       "<Figure size 432x288 with 1 Axes>"
      ]
     },
     "metadata": {
      "needs_background": "light"
     },
     "output_type": "display_data"
    },
    {
     "data": {
      "text/plain": [
       "0.8320143943135176"
      ]
     },
     "execution_count": 88,
     "metadata": {},
     "output_type": "execute_result"
    }
   ],
   "source": [
    "xg= XGBClassifier(learning_rate= 0.3, max_depth= 3, n_estimators =29,random_state=12345, scale_pos_weight=0.36)\n",
    "\n",
    "xg.fit(features_train,target_train)\n",
    "probabilities_valid_xgb = xg.predict_proba(features_valid)[:,1]\n",
    "auc_roc_xg = roc_auc_score(target_valid,probabilities_valid_xgb)\n",
    "\n",
    "fprligh_xg, tpr_ligh_xg, thresholds_ligh_xg = roc_curve(target_valid,probabilities_valid_xgb)\n",
    "\n",
    "plt.figure()\n",
    "plt.plot(fprligh_xg, tpr_ligh_xg)\n",
    "plt.plot([0, 1], [0, 1], linestyle='--')\n",
    "plt.xlim([0.0, 1.0])\n",
    "plt.ylim([0.0, 1.0])\n",
    "plt.xlabel('False Positive Rate')\n",
    "plt.ylabel('True Positive Rate')\n",
    "plt.title('ROC-кривая')\n",
    "plt.show()\n",
    "\n",
    "\n",
    "auc_roc_xg"
   ]
  },
  {
   "cell_type": "markdown",
   "metadata": {},
   "source": [
    " ##### `roc-auc =  0.83`\n"
   ]
  },
  {
   "cell_type": "markdown",
   "metadata": {},
   "source": [
    "#### Upsample"
   ]
  },
  {
   "cell_type": "code",
   "execution_count": 89,
   "metadata": {},
   "outputs": [],
   "source": [
    "def xgb_up_down(features,target):\n",
    "    estimator = XGBClassifier()\n",
    "    params = { \n",
    "            \"n_estimators\": st.randint(3, 40),\n",
    "            \"max_depth\": st.randint(3, 40),\n",
    "            \"learning_rate\": st.uniform(0.05, 0.4),\n",
    "            'objective': ['binary:logistic']}\n",
    "\n",
    "    clf = RandomizedSearchCV(estimator, params, cv=5,random_state=12345,\n",
    "                         n_jobs=1, n_iter=50,scoring='roc_auc') \n",
    "                              \n",
    "    clf.fit(features,target)  \n",
    "    return clf.best_params_"
   ]
  },
  {
   "cell_type": "code",
   "execution_count": 90,
   "metadata": {},
   "outputs": [
    {
     "data": {
      "text/plain": [
       "{'learning_rate': 0.43252399255190643,\n",
       " 'max_depth': 17,\n",
       " 'n_estimators': 30,\n",
       " 'objective': 'binary:logistic'}"
      ]
     },
     "execution_count": 90,
     "metadata": {},
     "output_type": "execute_result"
    }
   ],
   "source": [
    "xgb_up_down(features_upsampled,target_upsampled)"
   ]
  },
  {
   "cell_type": "code",
   "execution_count": 91,
   "metadata": {},
   "outputs": [
    {
     "data": {
      "image/png": "[encoded data removed]",
      "text/plain": [
       "<Figure size 432x288 with 1 Axes>"
      ]
     },
     "metadata": {
      "needs_background": "light"
     },
     "output_type": "display_data"
    },
    {
     "data": {
      "text/plain": [
       "0.8438322228608901"
      ]
     },
     "execution_count": 91,
     "metadata": {},
     "output_type": "execute_result"
    }
   ],
   "source": [
    "xg_up= XGBClassifier(learning_rate= 0.35, max_depth= 27, n_estimators =33,random_state=12345)\n",
    "\n",
    "xg_up.fit(features_upsampled,target_upsampled)\n",
    "probabilities_valid_xgb_up = xg_up.predict_proba(features_valid)[:,1]\n",
    "auc_roc_xg_up = roc_auc_score(target_valid,probabilities_valid_xgb_up)\n",
    "\n",
    "fpr_xg_up, tpr_xg_up, thresholds_xg_up = roc_curve(target_valid,probabilities_valid_xgb_up)\n",
    "\n",
    "plt.figure()\n",
    "plt.plot(fpr_xg_up, tpr_xg_up)\n",
    "plt.plot([0, 1], [0, 1], linestyle='--')\n",
    "plt.xlim([0.0, 1.0])\n",
    "plt.ylim([0.0, 1.0])\n",
    "plt.xlabel('False Positive Rate')\n",
    "plt.ylabel('True Positive Rate')\n",
    "plt.title('ROC-кривая')\n",
    "plt.show()\n",
    "\n",
    "\n",
    "auc_roc_xg_up"
   ]
  },
  {
   "cell_type": "markdown",
   "metadata": {},
   "source": [
    " ##### `roc-auc =  0.85`\n"
   ]
  },
  {
   "cell_type": "markdown",
   "metadata": {},
   "source": [
    "### Downsample"
   ]
  },
  {
   "cell_type": "code",
   "execution_count": 92,
   "metadata": {},
   "outputs": [
    {
     "data": {
      "text/plain": [
       "{'learning_rate': 0.24816590350298573,\n",
       " 'max_depth': 4,\n",
       " 'n_estimators': 28,\n",
       " 'objective': 'binary:logistic'}"
      ]
     },
     "execution_count": 92,
     "metadata": {},
     "output_type": "execute_result"
    }
   ],
   "source": [
    "xgb_up_down(features_downsampled, target_downsampled)"
   ]
  },
  {
   "cell_type": "code",
   "execution_count": 93,
   "metadata": {},
   "outputs": [
    {
     "data": {
      "image/png": "[encoded data removed]",
      "text/plain": [
       "<Figure size 432x288 with 1 Axes>"
      ]
     },
     "metadata": {
      "needs_background": "light"
     },
     "output_type": "display_data"
    },
    {
     "data": {
      "text/plain": [
       "0.8354308174318537"
      ]
     },
     "execution_count": 93,
     "metadata": {},
     "output_type": "execute_result"
    }
   ],
   "source": [
    "xg_down= XGBClassifier(learning_rate= 0.25, max_depth=4, n_estimators =28,random_state=12345)\n",
    "\n",
    "xg_down.fit(features_downsampled, target_downsampled)\n",
    "probabilities_valid_xg_down = xg_down.predict_proba(features_valid)[:,1]\n",
    "auc_roc_xg_down = roc_auc_score(target_valid,probabilities_valid_xg_down)\n",
    "\n",
    "fpr_xg_down, tpr_xg_down, thresholds_xg_down = roc_curve(target_valid,probabilities_valid_xg_down)\n",
    "\n",
    "plt.figure()\n",
    "plt.plot(fpr_xg_down, tpr_xg_down)\n",
    "plt.plot([0, 1], [0, 1], linestyle='--')\n",
    "plt.xlim([0.0, 1.0])\n",
    "plt.ylim([0.0, 1.0])\n",
    "plt.xlabel('False Positive Rate')\n",
    "plt.ylabel('True Positive Rate')\n",
    "plt.title('ROC-кривая')\n",
    "plt.show()\n",
    "\n",
    "\n",
    "auc_roc_xg_down"
   ]
  },
  {
   "cell_type": "markdown",
   "metadata": {},
   "source": [
    " #####  `roc-auc =  0.835`"
   ]
  },
  {
   "cell_type": "markdown",
   "metadata": {},
   "source": [
    "### Catboost"
   ]
  },
  {
   "cell_type": "code",
   "execution_count": 94,
   "metadata": {},
   "outputs": [
    {
     "data": {
      "text/html": [
       "<div>\n",
       "<style scoped>\n",
       "    .dataframe tbody tr th:only-of-type {\n",
       "        vertical-align: middle;\n",
       "    }\n",
       "\n",
       "    .dataframe tbody tr th {\n",
       "        vertical-align: top;\n",
       "    }\n",
       "\n",
       "    .dataframe thead th {\n",
       "        text-align: right;\n",
       "    }\n",
       "</style>\n",
       "<table border=\"1\" class=\"dataframe\">\n",
       "  <thead>\n",
       "    <tr style=\"text-align: right;\">\n",
       "      <th></th>\n",
       "      <th>MonthlyCharges</th>\n",
       "      <th>SeniorCitizen</th>\n",
       "      <th>contract_time</th>\n",
       "      <th>Type_One year</th>\n",
       "      <th>Type_Two year</th>\n",
       "      <th>InternetService_Fiber optic</th>\n",
       "      <th>InternetService_No</th>\n",
       "      <th>OnlineSecurity_Yes</th>\n",
       "      <th>OnlineBackup_Yes</th>\n",
       "      <th>DeviceProtection_Yes</th>\n",
       "      <th>TechSupport_Yes</th>\n",
       "      <th>StreamingTV_Yes</th>\n",
       "      <th>StreamingMovies_Yes</th>\n",
       "      <th>gender_Male</th>\n",
       "      <th>Partner_Yes</th>\n",
       "      <th>Dependents_Yes</th>\n",
       "      <th>MultipleLines_Yes</th>\n",
       "    </tr>\n",
       "  </thead>\n",
       "  <tbody>\n",
       "    <tr>\n",
       "      <th>618</th>\n",
       "      <td>0.757465</td>\n",
       "      <td>0</td>\n",
       "      <td>1.005272</td>\n",
       "      <td>0</td>\n",
       "      <td>0</td>\n",
       "      <td>1</td>\n",
       "      <td>0</td>\n",
       "      <td>1</td>\n",
       "      <td>1</td>\n",
       "      <td>0</td>\n",
       "      <td>1</td>\n",
       "      <td>0</td>\n",
       "      <td>0</td>\n",
       "      <td>0</td>\n",
       "      <td>0</td>\n",
       "      <td>0</td>\n",
       "      <td>1</td>\n",
       "    </tr>\n",
       "    <tr>\n",
       "      <th>6778</th>\n",
       "      <td>-1.496570</td>\n",
       "      <td>0</td>\n",
       "      <td>1.617418</td>\n",
       "      <td>0</td>\n",
       "      <td>1</td>\n",
       "      <td>0</td>\n",
       "      <td>1</td>\n",
       "      <td>0</td>\n",
       "      <td>0</td>\n",
       "      <td>0</td>\n",
       "      <td>0</td>\n",
       "      <td>0</td>\n",
       "      <td>0</td>\n",
       "      <td>0</td>\n",
       "      <td>0</td>\n",
       "      <td>1</td>\n",
       "      <td>0</td>\n",
       "    </tr>\n",
       "    <tr>\n",
       "      <th>1839</th>\n",
       "      <td>-1.312058</td>\n",
       "      <td>0</td>\n",
       "      <td>-1.170945</td>\n",
       "      <td>0</td>\n",
       "      <td>1</td>\n",
       "      <td>0</td>\n",
       "      <td>1</td>\n",
       "      <td>0</td>\n",
       "      <td>0</td>\n",
       "      <td>0</td>\n",
       "      <td>0</td>\n",
       "      <td>0</td>\n",
       "      <td>0</td>\n",
       "      <td>0</td>\n",
       "      <td>0</td>\n",
       "      <td>0</td>\n",
       "      <td>1</td>\n",
       "    </tr>\n",
       "    <tr>\n",
       "      <th>5291</th>\n",
       "      <td>0.720895</td>\n",
       "      <td>0</td>\n",
       "      <td>1.455617</td>\n",
       "      <td>1</td>\n",
       "      <td>0</td>\n",
       "      <td>1</td>\n",
       "      <td>0</td>\n",
       "      <td>0</td>\n",
       "      <td>1</td>\n",
       "      <td>1</td>\n",
       "      <td>0</td>\n",
       "      <td>0</td>\n",
       "      <td>0</td>\n",
       "      <td>0</td>\n",
       "      <td>1</td>\n",
       "      <td>0</td>\n",
       "      <td>1</td>\n",
       "    </tr>\n",
       "    <tr>\n",
       "      <th>3487</th>\n",
       "      <td>-1.484934</td>\n",
       "      <td>0</td>\n",
       "      <td>0.798977</td>\n",
       "      <td>0</td>\n",
       "      <td>1</td>\n",
       "      <td>0</td>\n",
       "      <td>1</td>\n",
       "      <td>0</td>\n",
       "      <td>0</td>\n",
       "      <td>0</td>\n",
       "      <td>0</td>\n",
       "      <td>0</td>\n",
       "      <td>0</td>\n",
       "      <td>0</td>\n",
       "      <td>1</td>\n",
       "      <td>1</td>\n",
       "      <td>0</td>\n",
       "    </tr>\n",
       "  </tbody>\n",
       "</table>\n",
       "</div>"
      ],
      "text/plain": [
       "      MonthlyCharges  SeniorCitizen  contract_time  Type_One year  \\\n",
       "618         0.757465              0       1.005272              0   \n",
       "6778       -1.496570              0       1.617418              0   \n",
       "1839       -1.312058              0      -1.170945              0   \n",
       "5291        0.720895              0       1.455617              1   \n",
       "3487       -1.484934              0       0.798977              0   \n",
       "\n",
       "      Type_Two year  InternetService_Fiber optic  InternetService_No  \\\n",
       "618               0                            1                   0   \n",
       "6778              1                            0                   1   \n",
       "1839              1                            0                   1   \n",
       "5291              0                            1                   0   \n",
       "3487              1                            0                   1   \n",
       "\n",
       "      OnlineSecurity_Yes  OnlineBackup_Yes  DeviceProtection_Yes  \\\n",
       "618                    1                 1                     0   \n",
       "6778                   0                 0                     0   \n",
       "1839                   0                 0                     0   \n",
       "5291                   0                 1                     1   \n",
       "3487                   0                 0                     0   \n",
       "\n",
       "      TechSupport_Yes  StreamingTV_Yes  StreamingMovies_Yes  gender_Male  \\\n",
       "618                 1                0                    0            0   \n",
       "6778                0                0                    0            0   \n",
       "1839                0                0                    0            0   \n",
       "5291                0                0                    0            0   \n",
       "3487                0                0                    0            0   \n",
       "\n",
       "      Partner_Yes  Dependents_Yes  MultipleLines_Yes  \n",
       "618             0               0                  1  \n",
       "6778            0               1                  0  \n",
       "1839            0               0                  1  \n",
       "5291            1               0                  1  \n",
       "3487            1               1                  0  "
      ]
     },
     "execution_count": 94,
     "metadata": {},
     "output_type": "execute_result"
    }
   ],
   "source": [
    "features_train.head()"
   ]
  },
  {
   "cell_type": "code",
   "execution_count": 95,
   "metadata": {},
   "outputs": [
    {
     "data": {
      "text/plain": [
       "Index(['MonthlyCharges', 'SeniorCitizen', 'contract_time', 'Type_One year',\n",
       "       'Type_Two year', 'InternetService_Fiber optic', 'InternetService_No',\n",
       "       'OnlineSecurity_Yes', 'OnlineBackup_Yes', 'DeviceProtection_Yes',\n",
       "       'TechSupport_Yes', 'StreamingTV_Yes', 'StreamingMovies_Yes',\n",
       "       'gender_Male', 'Partner_Yes', 'Dependents_Yes', 'MultipleLines_Yes'],\n",
       "      dtype='object')"
      ]
     },
     "execution_count": 95,
     "metadata": {},
     "output_type": "execute_result"
    }
   ],
   "source": [
    "features_train.columns"
   ]
  },
  {
   "cell_type": "code",
   "execution_count": 96,
   "metadata": {},
   "outputs": [],
   "source": [
    "cat_categorical = ['Type_One year', 'Type_Two year',\n",
    "       'InternetService_Fiber optic', 'InternetService_No',\n",
    "       'OnlineSecurity_Yes', 'OnlineBackup_Yes', 'DeviceProtection_Yes',\n",
    "       'TechSupport_Yes', 'StreamingTV_Yes', 'StreamingMovies_Yes',\n",
    "       'gender_Male', 'Partner_Yes', 'Dependents_Yes', 'MultipleLines_Yes']"
   ]
  },
  {
   "cell_type": "markdown",
   "metadata": {},
   "source": [
    "#### Balanced"
   ]
  },
  {
   "cell_type": "raw",
   "metadata": {},
   "source": [
    "cat = CatBoostClassifier()\n",
    "\n",
    "params = {'depth': [4, 6, 10],\n",
    "          'learning_rate' : [0.05, 0.1, 0.15],\n",
    "#          'l2_leaf_reg': [1,4,9]\n",
    "#          'iterations': [1200],\n",
    "#           'early_stopping_rounds':[1000],\n",
    "# \n",
    "          \n",
    "         }\n",
    "cat_model = RandomizedSearchCV(cat, params, cv=5,random_state=12345,\n",
    "                         n_jobs=1, n_iter=50,scoring='roc_auc') \n",
    "                              \n",
    "cat_model.fit(features_train,target_train,cat_features=cat_categorical, eval_set=[(features_valid,target_valid)],\n",
    "             verbose=100)  \n",
    "cat_model.best_params_"
   ]
  },
  {
   "cell_type": "code",
   "execution_count": 97,
   "metadata": {},
   "outputs": [
    {
     "name": "stdout",
     "output_type": "stream",
     "text": [
      "0:\tlearn: 0.6069687\ttest: 0.6148388\tbest: 0.6148388 (0)\ttotal: 77.6ms\tremaining: 1m 17s\n",
      "100:\tlearn: 0.2906578\ttest: 0.3685602\tbest: 0.3685602 (100)\ttotal: 368ms\tremaining: 3.28s\n",
      "200:\tlearn: 0.2338770\ttest: 0.3326677\tbest: 0.3325077 (186)\ttotal: 621ms\tremaining: 2.47s\n",
      "300:\tlearn: 0.2001305\ttest: 0.3175218\tbest: 0.3168779 (290)\ttotal: 874ms\tremaining: 2.03s\n",
      "400:\tlearn: 0.1760297\ttest: 0.3039828\tbest: 0.3037545 (395)\ttotal: 1.14s\tremaining: 1.7s\n",
      "500:\tlearn: 0.1559969\ttest: 0.3061393\tbest: 0.3015304 (433)\ttotal: 1.38s\tremaining: 1.37s\n",
      "600:\tlearn: 0.1395846\ttest: 0.3049760\tbest: 0.3015304 (433)\ttotal: 1.68s\tremaining: 1.11s\n",
      "700:\tlearn: 0.1279207\ttest: 0.3053334\tbest: 0.3015304 (433)\ttotal: 1.95s\tremaining: 830ms\n",
      "800:\tlearn: 0.1175551\ttest: 0.3079975\tbest: 0.3015304 (433)\ttotal: 2.19s\tremaining: 544ms\n",
      "900:\tlearn: 0.1075276\ttest: 0.3097501\tbest: 0.3015304 (433)\ttotal: 2.45s\tremaining: 269ms\n",
      "999:\tlearn: 0.0991487\ttest: 0.3163656\tbest: 0.3015304 (433)\ttotal: 2.72s\tremaining: 0us\n",
      "\n",
      "bestTest = 0.3015303606\n",
      "bestIteration = 433\n",
      "\n",
      "Shrink model to first 434 iterations.\n"
     ]
    },
    {
     "data": {
      "image/png": "[encoded data removed]",
      "text/plain": [
       "<Figure size 432x288 with 1 Axes>"
      ]
     },
     "metadata": {
      "needs_background": "light"
     },
     "output_type": "display_data"
    },
    {
     "data": {
      "text/plain": [
       "0.9188053043612017"
      ]
     },
     "execution_count": 97,
     "metadata": {},
     "output_type": "execute_result"
    }
   ],
   "source": [
    "cat_new = CatBoostClassifier(learning_rate= 0.15, max_depth= 4,random_state = 12345,l2_leaf_reg=1)\n",
    "\n",
    "cat_new.fit(features_train,target_train,cat_features=cat_categorical, eval_set=[(features_valid,target_valid)],\n",
    "             verbose=100)\n",
    "\n",
    "\n",
    "probabilities_valid_cat = cat_new.predict_proba(features_valid)[:,1]\n",
    "auc_roc_cat = roc_auc_score(target_valid,probabilities_valid_cat)\n",
    "\n",
    "fpr_cat, tpr_cat, thresholds_cat = roc_curve(target_valid,probabilities_valid_cat)\n",
    "\n",
    "plt.figure()\n",
    "plt.plot(fpr_cat, tpr_cat)\n",
    "plt.plot([0, 1], [0, 1], linestyle='--')\n",
    "plt.xlim([0.0, 1.0])\n",
    "plt.ylim([0.0, 1.0])\n",
    "plt.xlabel('False Positive Rate')\n",
    "plt.ylabel('True Positive Rate')\n",
    "plt.title('ROC-кривая')\n",
    "plt.show()\n",
    "\n",
    "\n",
    "auc_roc_cat"
   ]
  },
  {
   "cell_type": "markdown",
   "metadata": {},
   "source": [
    " #####  `roc-auc =  0.91`"
   ]
  },
  {
   "cell_type": "markdown",
   "metadata": {},
   "source": [
    "#### Upsample"
   ]
  },
  {
   "cell_type": "code",
   "execution_count": 98,
   "metadata": {},
   "outputs": [],
   "source": [
    "def cat_up_down(features,target):\n",
    "    cat = CatBoostClassifier()\n",
    "\n",
    "    params = {'depth': [4, 6, 10],\n",
    "          'learning_rate' : [0.05, 0.1, 0.15],\n",
    "        'l2_leaf_reg': [1,4,9]\n",
    "#          'iterations': [1200],\n",
    "#           'early_stopping_rounds':[1000],\n",
    "# \n",
    "          \n",
    "         }\n",
    "    cat_model = RandomizedSearchCV(cat, params, cv=5,random_state=12345,\n",
    "                         n_jobs=1, n_iter=50,scoring='roc_auc') \n",
    "                              \n",
    "    cat_model.fit(features,target,cat_features=cat_categorical, eval_set=[(features_valid,target_valid)],\n",
    "             verbose=100)  \n",
    "    return cat_model.best_params_"
   ]
  },
  {
   "cell_type": "raw",
   "metadata": {},
   "source": [
    "cat_up_down(features_upsampled,target_upsampled)"
   ]
  },
  {
   "cell_type": "code",
   "execution_count": 99,
   "metadata": {},
   "outputs": [
    {
     "name": "stdout",
     "output_type": "stream",
     "text": [
      "0:\tlearn: 0.6458819\ttest: 0.6526271\tbest: 0.6526271 (0)\ttotal: 10.3ms\tremaining: 10.3s\n",
      "100:\tlearn: 0.3217894\ttest: 0.4799474\tbest: 0.4799474 (100)\ttotal: 400ms\tremaining: 3.56s\n",
      "200:\tlearn: 0.2372333\ttest: 0.4299326\tbest: 0.4299326 (200)\ttotal: 829ms\tremaining: 3.29s\n",
      "300:\tlearn: 0.1832476\ttest: 0.4044436\tbest: 0.4042375 (295)\ttotal: 1.23s\tremaining: 2.86s\n",
      "400:\tlearn: 0.1489899\ttest: 0.3911714\tbest: 0.3903406 (387)\ttotal: 1.63s\tremaining: 2.44s\n",
      "500:\tlearn: 0.1255813\ttest: 0.3873347\tbest: 0.3873347 (500)\ttotal: 2.05s\tremaining: 2.04s\n",
      "600:\tlearn: 0.1062328\ttest: 0.3880536\tbest: 0.3835259 (560)\ttotal: 2.45s\tremaining: 1.63s\n",
      "700:\tlearn: 0.0907367\ttest: 0.3905218\tbest: 0.3835259 (560)\ttotal: 2.84s\tremaining: 1.21s\n",
      "800:\tlearn: 0.0788009\ttest: 0.3949717\tbest: 0.3835259 (560)\ttotal: 3.23s\tremaining: 804ms\n",
      "900:\tlearn: 0.0684727\ttest: 0.4008772\tbest: 0.3835259 (560)\ttotal: 3.63s\tremaining: 398ms\n",
      "999:\tlearn: 0.0604678\ttest: 0.4078417\tbest: 0.3835259 (560)\ttotal: 4.02s\tremaining: 0us\n",
      "\n",
      "bestTest = 0.3835259314\n",
      "bestIteration = 560\n",
      "\n",
      "Shrink model to first 561 iterations.\n"
     ]
    },
    {
     "data": {
      "image/png": "[encoded data removed]",
      "text/plain": [
       "<Figure size 432x288 with 1 Axes>"
      ]
     },
     "metadata": {
      "needs_background": "light"
     },
     "output_type": "display_data"
    },
    {
     "data": {
      "text/plain": [
       "0.8966552246176763"
      ]
     },
     "execution_count": 99,
     "metadata": {},
     "output_type": "execute_result"
    }
   ],
   "source": [
    "cat_up = CatBoostClassifier(learning_rate= 0.1, max_depth= 6,random_state = 12345,l2_leaf_reg=1)\n",
    "\n",
    "cat_up.fit(features_upsampled,target_upsampled,cat_features=cat_categorical, eval_set=[(features_valid,target_valid)],\n",
    "             verbose=100)\n",
    "\n",
    "\n",
    "probabilities_valid_cat_up = cat_up.predict_proba(features_valid)[:,1]\n",
    "auc_roc_cat_up = roc_auc_score(target_valid,probabilities_valid_cat_up)\n",
    "\n",
    "fpr_cat_up, tpr_cat_up, thresholds_cat_up = roc_curve(target_valid,probabilities_valid_cat_up)\n",
    "\n",
    "plt.figure()\n",
    "plt.plot(fpr_cat_up, tpr_cat_up)\n",
    "plt.plot([0, 1], [0, 1], linestyle='--')\n",
    "plt.xlim([0.0, 1.0])\n",
    "plt.ylim([0.0, 1.0])\n",
    "plt.xlabel('False Positive Rate')\n",
    "plt.ylabel('True Positive Rate')\n",
    "plt.title('ROC-кривая')\n",
    "plt.show()\n",
    "\n",
    "\n",
    "auc_roc_cat_up"
   ]
  },
  {
   "cell_type": "markdown",
   "metadata": {},
   "source": [
    " #####  `roc-auc =  0.89`"
   ]
  },
  {
   "cell_type": "markdown",
   "metadata": {},
   "source": [
    "#### Downsample"
   ]
  },
  {
   "cell_type": "raw",
   "metadata": {},
   "source": [
    "cat_up_down(features_downsampled, target_downsampled)"
   ]
  },
  {
   "cell_type": "code",
   "execution_count": 100,
   "metadata": {},
   "outputs": [
    {
     "name": "stdout",
     "output_type": "stream",
     "text": [
      "0:\tlearn: 0.6295568\ttest: 0.6379444\tbest: 0.6379444 (0)\ttotal: 4.4ms\tremaining: 4.39s\n",
      "100:\tlearn: 0.3321228\ttest: 0.4944468\tbest: 0.4944468 (100)\ttotal: 378ms\tremaining: 3.36s\n",
      "200:\tlearn: 0.2558792\ttest: 0.4717186\tbest: 0.4714051 (199)\ttotal: 529ms\tremaining: 2.1s\n",
      "300:\tlearn: 0.2110628\ttest: 0.4682030\tbest: 0.4662224 (221)\ttotal: 733ms\tremaining: 1.7s\n",
      "400:\tlearn: 0.1761214\ttest: 0.4770653\tbest: 0.4662224 (221)\ttotal: 997ms\tremaining: 1.49s\n",
      "500:\tlearn: 0.1476750\ttest: 0.4782144\tbest: 0.4662224 (221)\ttotal: 1.28s\tremaining: 1.28s\n",
      "600:\tlearn: 0.1267406\ttest: 0.4888137\tbest: 0.4662224 (221)\ttotal: 1.43s\tremaining: 953ms\n",
      "700:\tlearn: 0.1099449\ttest: 0.4966869\tbest: 0.4662224 (221)\ttotal: 1.61s\tremaining: 688ms\n",
      "800:\tlearn: 0.0972058\ttest: 0.5035860\tbest: 0.4662224 (221)\ttotal: 1.76s\tremaining: 439ms\n",
      "900:\tlearn: 0.0856889\ttest: 0.5139989\tbest: 0.4662224 (221)\ttotal: 1.94s\tremaining: 213ms\n",
      "999:\tlearn: 0.0769073\ttest: 0.5226974\tbest: 0.4662224 (221)\ttotal: 2.09s\tremaining: 0us\n",
      "\n",
      "bestTest = 0.4662224119\n",
      "bestIteration = 221\n",
      "\n",
      "Shrink model to first 222 iterations.\n"
     ]
    },
    {
     "data": {
      "image/png": "[encoded data removed]",
      "text/plain": [
       "<Figure size 432x288 with 1 Axes>"
      ]
     },
     "metadata": {
      "needs_background": "light"
     },
     "output_type": "display_data"
    },
    {
     "data": {
      "text/plain": [
       "0.8716614988544458"
      ]
     },
     "execution_count": 100,
     "metadata": {},
     "output_type": "execute_result"
    }
   ],
   "source": [
    "cat_down = CatBoostClassifier(learning_rate= 0.15, max_depth= 4,random_state = 12345,l2_leaf_reg=1)\n",
    "\n",
    "cat_down.fit(features_downsampled, target_downsampled,cat_features=cat_categorical, eval_set=[(features_valid,target_valid)],\n",
    "             verbose=100)\n",
    "\n",
    "\n",
    "probabilities_valid_cat_down = cat_down.predict_proba(features_valid)[:,1]\n",
    "auc_roc_cat_down = roc_auc_score(target_valid,probabilities_valid_cat_down)\n",
    "\n",
    "fpr_cat_down, tpr_cat_down, thresholds_cat_down = roc_curve(target_valid,probabilities_valid_cat_down)\n",
    "\n",
    "plt.figure()\n",
    "plt.plot(fpr_cat_down, tpr_cat_down)\n",
    "plt.plot([0, 1], [0, 1], linestyle='--')\n",
    "plt.xlim([0.0, 1.0])\n",
    "plt.ylim([0.0, 1.0])\n",
    "plt.xlabel('False Positive Rate')\n",
    "plt.ylabel('True Positive Rate')\n",
    "plt.title('ROC-кривая')\n",
    "plt.show()\n",
    "\n",
    "\n",
    "auc_roc_cat_down"
   ]
  },
  {
   "cell_type": "markdown",
   "metadata": {},
   "source": [
    " ##### Посчитаем `roc-auc =  0.86'"
   ]
  },
  {
   "cell_type": "markdown",
   "metadata": {},
   "source": [
    "<a id=\"3\"></a>\n",
    "\n",
    "### Testing models"
   ]
  },
  {
   "cell_type": "markdown",
   "metadata": {},
   "source": [
    "Let's using a full sample for training: train+valid."
   ]
  },
  {
   "cell_type": "code",
   "execution_count": 101,
   "metadata": {},
   "outputs": [],
   "source": [
    "features_all = pd.concat([features_train,features_valid])\n",
    "target_all = pd.concat([target_train,target_valid])"
   ]
  },
  {
   "cell_type": "markdown",
   "metadata": {},
   "source": [
    "Let's consider the best variant for each model."
   ]
  },
  {
   "cell_type": "markdown",
   "metadata": {},
   "source": [
    "#### LogicalRegression"
   ]
  },
  {
   "cell_type": "code",
   "execution_count": 102,
   "metadata": {},
   "outputs": [
    {
     "data": {
      "image/png": "[encoded data removed]",
      "text/plain": [
       "<Figure size 432x288 with 1 Axes>"
      ]
     },
     "metadata": {
      "needs_background": "light"
     },
     "output_type": "display_data"
    },
    {
     "data": {
      "text/plain": [
       "0.8410085303686248"
      ]
     },
     "execution_count": 102,
     "metadata": {},
     "output_type": "execute_result"
    }
   ],
   "source": [
    "model_log_balance_test = LogisticRegression(random_state=12345, solver='liblinear', class_weight ='balanced')\n",
    "\n",
    "model_log_balance_test.fit(features_all, target_all)\n",
    "probabilities_test = model_log_balance_test.predict_proba(features_test)[:,1]\n",
    "auc_roc_log_test = roc_auc_score(target_test,probabilities_test)\n",
    "\n",
    "fpr_log_test, tpr_log_test, thresholds_log_test = roc_curve(target_test, probabilities_test)\n",
    "\n",
    "plt.figure()\n",
    "plt.plot(fpr_log_test, tpr_log_test)\n",
    "plt.plot([0, 1], [0, 1], linestyle='--')\n",
    "plt.xlim([0.0, 1.0])\n",
    "plt.ylim([0.0, 1.0])\n",
    "plt.xlabel('False Positive Rate')\n",
    "plt.ylabel('True Positive Rate')\n",
    "plt.title('ROC-кривая')\n",
    "plt.show()\n",
    "auc_roc_log_test"
   ]
  },
  {
   "cell_type": "markdown",
   "metadata": {},
   "source": [
    " #####  `roc-auc =  0.84`"
   ]
  },
  {
   "cell_type": "markdown",
   "metadata": {},
   "source": [
    "### DecisionTree"
   ]
  },
  {
   "cell_type": "code",
   "execution_count": 103,
   "metadata": {},
   "outputs": [],
   "source": [
    "features_downsampled_all, target_downsampled_all = downsampl(features_all, target_all,0.3)"
   ]
  },
  {
   "cell_type": "code",
   "execution_count": 104,
   "metadata": {},
   "outputs": [
    {
     "data": {
      "image/png": "[encoded data removed]",
      "text/plain": [
       "<Figure size 432x288 with 1 Axes>"
      ]
     },
     "metadata": {
      "needs_background": "light"
     },
     "output_type": "display_data"
    },
    {
     "data": {
      "text/plain": [
       "0.8334234188077978"
      ]
     },
     "execution_count": 104,
     "metadata": {},
     "output_type": "execute_result"
    }
   ],
   "source": [
    "tree_down_test = DecisionTreeClassifier(random_state=12345, max_depth=45,\n",
    "                                min_samples_leaf=3, max_features=0.8, min_samples_split=0.1)\n",
    "tree_down_test.fit(features_downsampled_all, target_downsampled_all)\n",
    "probabilities_test_dec = tree_down_test.predict_proba(features_test)[:,1]\n",
    "auc_roc_dec_test = roc_auc_score(target_test,probabilities_test_dec)\n",
    "\n",
    "fpr_dec_test, tpr_dec_test, thresholds_test = roc_curve(target_test, probabilities_test_dec)\n",
    "\n",
    "plt.figure()\n",
    "plt.plot(fpr_dec_test, tpr_dec_test)\n",
    "plt.plot([0, 1], [0, 1], linestyle='--')\n",
    "plt.xlim([0.0, 1.0])\n",
    "plt.ylim([0.0, 1.0])\n",
    "plt.xlabel('False Positive Rate')\n",
    "plt.ylabel('True Positive Rate')\n",
    "plt.title('ROC-кривая')\n",
    "plt.show()\n",
    "\n",
    "\n",
    "auc_roc_dec_test"
   ]
  },
  {
   "cell_type": "markdown",
   "metadata": {},
   "source": [
    " ##### `roc-auc =  0.83`"
   ]
  },
  {
   "cell_type": "markdown",
   "metadata": {},
   "source": [
    "### RandomForest"
   ]
  },
  {
   "cell_type": "code",
   "execution_count": 105,
   "metadata": {},
   "outputs": [
    {
     "data": {
      "image/png": "[encoded data removed]",
      "text/plain": [
       "<Figure size 432x288 with 1 Axes>"
      ]
     },
     "metadata": {
      "needs_background": "light"
     },
     "output_type": "display_data"
    },
    {
     "data": {
      "text/plain": [
       "0.8542190742116453"
      ]
     },
     "execution_count": 105,
     "metadata": {},
     "output_type": "execute_result"
    }
   ],
   "source": [
    "forest_test = RandomForestClassifier(class_weight = 'balanced',random_state=12345,n_estimators=110, max_depth=8 )   \n",
    "forest_test.fit(features_all, target_all)\n",
    "\n",
    "probabilities_test_for = forest_test.predict_proba(features_test)[:,1]\n",
    "auc_roc_for_test = roc_auc_score(target_test,probabilities_test_for)\n",
    "\n",
    "fpr_for_test, tpr_for_test, thresholds_for_test = roc_curve(target_test, probabilities_test_for)\n",
    "\n",
    "plt.figure()\n",
    "plt.plot(fpr_for_test, tpr_for_test)\n",
    "plt.plot([0, 1], [0, 1], linestyle='--')\n",
    "plt.xlim([0.0, 1.0])\n",
    "plt.ylim([0.0, 1.0])\n",
    "plt.xlabel('False Positive Rate')\n",
    "plt.ylabel('True Positive Rate')\n",
    "plt.title('ROC-кривая')\n",
    "plt.show()\n",
    "\n",
    "\n",
    "auc_roc_for_test"
   ]
  },
  {
   "cell_type": "markdown",
   "metadata": {},
   "source": [
    " #### `roc-auc =  0.86`"
   ]
  },
  {
   "cell_type": "markdown",
   "metadata": {},
   "source": [
    "### LightGbm"
   ]
  },
  {
   "cell_type": "code",
   "execution_count": 106,
   "metadata": {},
   "outputs": [],
   "source": [
    "features_upsampled_all, target_upsampled_all = upsamp(features_all, target_all,3)"
   ]
  },
  {
   "cell_type": "code",
   "execution_count": 107,
   "metadata": {},
   "outputs": [
    {
     "data": {
      "text/plain": [
       "0    4470\n",
       "1    4144\n",
       "Name: target, dtype: int64"
      ]
     },
     "execution_count": 107,
     "metadata": {},
     "output_type": "execute_result"
    }
   ],
   "source": [
    "target_upsampled_all.value_counts()"
   ]
  },
  {
   "cell_type": "code",
   "execution_count": 108,
   "metadata": {},
   "outputs": [
    {
     "name": "stdout",
     "output_type": "stream",
     "text": [
      "[1]\tvalid_0's binary_logloss: 0.692737\n",
      "[2]\tvalid_0's binary_logloss: 0.675993\n",
      "[3]\tvalid_0's binary_logloss: 0.660758\n",
      "[4]\tvalid_0's binary_logloss: 0.647286\n",
      "[5]\tvalid_0's binary_logloss: 0.63494\n",
      "[6]\tvalid_0's binary_logloss: 0.624757\n",
      "[7]\tvalid_0's binary_logloss: 0.613517\n",
      "[8]\tvalid_0's binary_logloss: 0.603238\n",
      "[9]\tvalid_0's binary_logloss: 0.594738\n",
      "[10]\tvalid_0's binary_logloss: 0.587442\n",
      "[11]\tvalid_0's binary_logloss: 0.579629\n",
      "[12]\tvalid_0's binary_logloss: 0.572233\n",
      "[13]\tvalid_0's binary_logloss: 0.565544\n",
      "[14]\tvalid_0's binary_logloss: 0.559201\n",
      "[15]\tvalid_0's binary_logloss: 0.552972\n",
      "[16]\tvalid_0's binary_logloss: 0.547037\n",
      "[17]\tvalid_0's binary_logloss: 0.541939\n",
      "[18]\tvalid_0's binary_logloss: 0.536863\n",
      "[19]\tvalid_0's binary_logloss: 0.532752\n",
      "[20]\tvalid_0's binary_logloss: 0.528261\n",
      "[21]\tvalid_0's binary_logloss: 0.524159\n",
      "[22]\tvalid_0's binary_logloss: 0.520849\n",
      "[23]\tvalid_0's binary_logloss: 0.517071\n",
      "[24]\tvalid_0's binary_logloss: 0.513953\n",
      "[25]\tvalid_0's binary_logloss: 0.511262\n",
      "[26]\tvalid_0's binary_logloss: 0.508447\n",
      "[27]\tvalid_0's binary_logloss: 0.505656\n",
      "[28]\tvalid_0's binary_logloss: 0.503153\n",
      "[29]\tvalid_0's binary_logloss: 0.500401\n",
      "[30]\tvalid_0's binary_logloss: 0.497217\n",
      "[31]\tvalid_0's binary_logloss: 0.494958\n",
      "[32]\tvalid_0's binary_logloss: 0.492747\n",
      "[33]\tvalid_0's binary_logloss: 0.490843\n",
      "[34]\tvalid_0's binary_logloss: 0.489026\n",
      "[35]\tvalid_0's binary_logloss: 0.487465\n",
      "[36]\tvalid_0's binary_logloss: 0.486006\n",
      "[37]\tvalid_0's binary_logloss: 0.484893\n",
      "[38]\tvalid_0's binary_logloss: 0.483188\n",
      "[39]\tvalid_0's binary_logloss: 0.480551\n",
      "[40]\tvalid_0's binary_logloss: 0.478648\n",
      "[41]\tvalid_0's binary_logloss: 0.477276\n",
      "[42]\tvalid_0's binary_logloss: 0.47605\n",
      "[43]\tvalid_0's binary_logloss: 0.474755\n",
      "[44]\tvalid_0's binary_logloss: 0.473748\n",
      "[45]\tvalid_0's binary_logloss: 0.471279\n",
      "[46]\tvalid_0's binary_logloss: 0.470131\n",
      "[47]\tvalid_0's binary_logloss: 0.468888\n",
      "[48]\tvalid_0's binary_logloss: 0.468439\n",
      "[49]\tvalid_0's binary_logloss: 0.466826\n",
      "[50]\tvalid_0's binary_logloss: 0.466191\n",
      "[51]\tvalid_0's binary_logloss: 0.464674\n",
      "[52]\tvalid_0's binary_logloss: 0.463869\n",
      "[53]\tvalid_0's binary_logloss: 0.462482\n",
      "[54]\tvalid_0's binary_logloss: 0.461419\n",
      "[55]\tvalid_0's binary_logloss: 0.46096\n",
      "[56]\tvalid_0's binary_logloss: 0.459895\n",
      "[57]\tvalid_0's binary_logloss: 0.45858\n",
      "[58]\tvalid_0's binary_logloss: 0.457534\n",
      "[59]\tvalid_0's binary_logloss: 0.457139\n",
      "[60]\tvalid_0's binary_logloss: 0.456132\n",
      "[61]\tvalid_0's binary_logloss: 0.455149\n",
      "[62]\tvalid_0's binary_logloss: 0.454695\n",
      "[63]\tvalid_0's binary_logloss: 0.454284\n",
      "[64]\tvalid_0's binary_logloss: 0.453925\n",
      "[65]\tvalid_0's binary_logloss: 0.453748\n",
      "[66]\tvalid_0's binary_logloss: 0.452481\n",
      "[67]\tvalid_0's binary_logloss: 0.451801\n",
      "[68]\tvalid_0's binary_logloss: 0.4507\n",
      "[69]\tvalid_0's binary_logloss: 0.449278\n",
      "[70]\tvalid_0's binary_logloss: 0.448354\n",
      "[71]\tvalid_0's binary_logloss: 0.447702\n",
      "[72]\tvalid_0's binary_logloss: 0.447539\n",
      "[73]\tvalid_0's binary_logloss: 0.446985\n",
      "[74]\tvalid_0's binary_logloss: 0.446537\n",
      "[75]\tvalid_0's binary_logloss: 0.445705\n",
      "[76]\tvalid_0's binary_logloss: 0.444668\n",
      "[77]\tvalid_0's binary_logloss: 0.444047\n",
      "[78]\tvalid_0's binary_logloss: 0.442437\n",
      "[79]\tvalid_0's binary_logloss: 0.442352\n",
      "[80]\tvalid_0's binary_logloss: 0.441385\n",
      "[81]\tvalid_0's binary_logloss: 0.440977\n",
      "[82]\tvalid_0's binary_logloss: 0.440727\n",
      "[83]\tvalid_0's binary_logloss: 0.439615\n",
      "[84]\tvalid_0's binary_logloss: 0.4393\n",
      "[85]\tvalid_0's binary_logloss: 0.438889\n",
      "[86]\tvalid_0's binary_logloss: 0.437654\n",
      "[87]\tvalid_0's binary_logloss: 0.437198\n",
      "[88]\tvalid_0's binary_logloss: 0.436542\n",
      "[89]\tvalid_0's binary_logloss: 0.436507\n",
      "[90]\tvalid_0's binary_logloss: 0.436455\n",
      "[91]\tvalid_0's binary_logloss: 0.435762\n",
      "[92]\tvalid_0's binary_logloss: 0.435076\n",
      "[93]\tvalid_0's binary_logloss: 0.434056\n",
      "[94]\tvalid_0's binary_logloss: 0.433631\n",
      "[95]\tvalid_0's binary_logloss: 0.432827\n",
      "[96]\tvalid_0's binary_logloss: 0.431314\n",
      "[97]\tvalid_0's binary_logloss: 0.431089\n",
      "[98]\tvalid_0's binary_logloss: 0.431092\n",
      "[99]\tvalid_0's binary_logloss: 0.430352\n",
      "[100]\tvalid_0's binary_logloss: 0.429289\n"
     ]
    },
    {
     "data": {
      "image/png": "[encoded data removed]",
      "text/plain": [
       "<Figure size 432x288 with 1 Axes>"
      ]
     },
     "metadata": {
      "needs_background": "light"
     },
     "output_type": "display_data"
    },
    {
     "name": "stdout",
     "output_type": "stream",
     "text": [
      "CPU times: user 629 ms, sys: 27.8 ms, total: 656 ms\n",
      "Wall time: 287 ms\n"
     ]
    },
    {
     "data": {
      "text/plain": [
       "0.889097522862925"
      ]
     },
     "execution_count": 108,
     "metadata": {},
     "output_type": "execute_result"
    }
   ],
   "source": [
    "%%time\n",
    "lgbm_test = lgb.LGBMClassifier(subsample= 0.9,num_leaves= 12,n_estimators=100,\n",
    "                              learning_rate=0.05,colsample_bytree=0.9,max_depth= 60,boosting_type='gbdt')\n",
    "\n",
    "\n",
    "\n",
    "lgbm_test.fit(X=features_upsampled_all, y=target_upsampled_all,\n",
    "        eval_set=[(features_test,target_test)])\n",
    "\n",
    "probabilities_lgb_test = lgbm_test.predict_proba(features_test)[:,1]\n",
    "auc_roc_lgb_test = roc_auc_score(target_test,probabilities_lgb_test)\n",
    "\n",
    "fpr_lgb_test, tpr_lgb_test, thresholds_lgb_test = roc_curve(target_test, probabilities_lgb_test)\n",
    "\n",
    "plt.figure()\n",
    "plt.plot(fpr_lgb_test, tpr_lgb_test)\n",
    "plt.plot([0, 1], [0, 1], linestyle='--')\n",
    "plt.xlim([0.0, 1.0])\n",
    "plt.ylim([0.0, 1.0])\n",
    "plt.xlabel('False Positive Rate')\n",
    "plt.ylabel('True Positive Rate')\n",
    "plt.title('ROC-кривая')\n",
    "plt.show()\n",
    "\n",
    "\n",
    "auc_roc_lgb_test"
   ]
  },
  {
   "cell_type": "markdown",
   "metadata": {},
   "source": [
    " #####  `roc-auc =  0.89`"
   ]
  },
  {
   "cell_type": "markdown",
   "metadata": {},
   "source": [
    "### Xgboost"
   ]
  },
  {
   "cell_type": "code",
   "execution_count": 109,
   "metadata": {},
   "outputs": [
    {
     "data": {
      "image/png": "[encoded data removed]",
      "text/plain": [
       "<Figure size 432x288 with 1 Axes>"
      ]
     },
     "metadata": {
      "needs_background": "light"
     },
     "output_type": "display_data"
    },
    {
     "data": {
      "text/plain": [
       "0.8775584701693264"
      ]
     },
     "execution_count": 109,
     "metadata": {},
     "output_type": "execute_result"
    }
   ],
   "source": [
    "xg_test= XGBClassifier(learning_rate= 0.35, max_depth= 27, n_estimators =33,random_state=12345)\n",
    "\n",
    "xg_test.fit(features_upsampled_all, target_upsampled_all)\n",
    "probabilities_xg_test = xg_test.predict_proba(features_test)[:,1]\n",
    "auc_roc_xg_test = roc_auc_score(target_test,probabilities_xg_test)\n",
    "\n",
    "fpr_xg_test, tpr_xg_test, thresholds_xg_test = roc_curve(target_test,probabilities_xg_test)\n",
    "\n",
    "plt.figure()\n",
    "plt.plot(fpr_xg_test, tpr_xg_test)\n",
    "plt.plot([0, 1], [0, 1], linestyle='--')\n",
    "plt.xlim([0.0, 1.0])\n",
    "plt.ylim([0.0, 1.0])\n",
    "plt.xlabel('False Positive Rate')\n",
    "plt.ylabel('True Positive Rate')\n",
    "plt.title('ROC-кривая')\n",
    "plt.show()\n",
    "\n",
    "\n",
    "auc_roc_xg_test"
   ]
  },
  {
   "cell_type": "markdown",
   "metadata": {},
   "source": [
    " #####  `roc-auc =  0.873`"
   ]
  },
  {
   "cell_type": "markdown",
   "metadata": {},
   "source": [
    "### Catboost"
   ]
  },
  {
   "cell_type": "code",
   "execution_count": 110,
   "metadata": {},
   "outputs": [
    {
     "name": "stdout",
     "output_type": "stream",
     "text": [
      "0:\tlearn: 0.6146890\ttest: 0.6152571\tbest: 0.6152571 (0)\ttotal: 3.89ms\tremaining: 3.89s\n",
      "100:\tlearn: 0.3062818\ttest: 0.3503859\tbest: 0.3503859 (100)\ttotal: 303ms\tremaining: 2.7s\n",
      "200:\tlearn: 0.2461043\ttest: 0.3038200\tbest: 0.3038200 (200)\ttotal: 599ms\tremaining: 2.38s\n",
      "300:\tlearn: 0.2122941\ttest: 0.2857084\tbest: 0.2841526 (292)\ttotal: 921ms\tremaining: 2.14s\n",
      "400:\tlearn: 0.1901371\ttest: 0.2773121\tbest: 0.2766974 (393)\ttotal: 1.21s\tremaining: 1.81s\n",
      "500:\tlearn: 0.1732068\ttest: 0.2767857\tbest: 0.2761828 (496)\ttotal: 1.5s\tremaining: 1.5s\n",
      "600:\tlearn: 0.1572407\ttest: 0.2760914\tbest: 0.2758546 (521)\ttotal: 1.8s\tremaining: 1.2s\n",
      "700:\tlearn: 0.1447185\ttest: 0.2724917\tbest: 0.2722406 (698)\ttotal: 2.09s\tremaining: 893ms\n",
      "800:\tlearn: 0.1348700\ttest: 0.2750897\tbest: 0.2714948 (711)\ttotal: 2.38s\tremaining: 592ms\n",
      "900:\tlearn: 0.1252150\ttest: 0.2786010\tbest: 0.2714948 (711)\ttotal: 2.67s\tremaining: 294ms\n",
      "999:\tlearn: 0.1166138\ttest: 0.2815128\tbest: 0.2714948 (711)\ttotal: 2.98s\tremaining: 0us\n",
      "\n",
      "bestTest = 0.2714947929\n",
      "bestIteration = 711\n",
      "\n",
      "Shrink model to first 712 iterations.\n"
     ]
    },
    {
     "data": {
      "image/png": "[encoded data removed]",
      "text/plain": [
       "<Figure size 432x288 with 1 Axes>"
      ]
     },
     "metadata": {
      "needs_background": "light"
     },
     "output_type": "display_data"
    },
    {
     "data": {
      "text/plain": [
       "0.9361938673566104"
      ]
     },
     "execution_count": 110,
     "metadata": {},
     "output_type": "execute_result"
    }
   ],
   "source": [
    "cat_new_test = CatBoostClassifier(learning_rate= 0.15, max_depth= 4,random_state = 12345,l2_leaf_reg=1)\n",
    "\n",
    "cat_new_test.fit(features_all, target_all,cat_features=cat_categorical, eval_set=[(features_test,target_test)],\n",
    "             verbose=100)\n",
    "\n",
    "\n",
    "probabilities_cat_test = cat_new_test.predict_proba(features_test)[:,1]\n",
    "auc_roc_catnew_test = roc_auc_score(target_test,probabilities_cat_test)\n",
    "\n",
    "fpr_cat_new_test, tpr_cat_new_test, thresholds_cat_new_test = roc_curve(target_test,probabilities_cat_test)\n",
    "\n",
    "plt.figure()\n",
    "plt.plot(fpr_cat_new_test, tpr_cat_new_test)\n",
    "plt.plot([0, 1], [0, 1], linestyle='--')\n",
    "plt.xlim([0.0, 1.0])\n",
    "plt.ylim([0.0, 1.0])\n",
    "plt.xlabel('False Positive Rate')\n",
    "plt.ylabel('True Positive Rate')\n",
    "plt.title('ROC-кривая')\n",
    "plt.show()\n",
    "\n",
    "\n",
    "auc_roc_catnew_test"
   ]
  },
  {
   "cell_type": "markdown",
   "metadata": {},
   "source": [
    " #####  `roc-auc =  0.94`\n"
   ]
  },
  {
   "cell_type": "code",
   "execution_count": 111,
   "metadata": {},
   "outputs": [],
   "source": [
    "name = ['LogReg','DecTree','Forest','Lightgbm','XgBoost','Catboost']\n",
    "\n",
    "score = [0.84,0.83,0.85,0.89,0.88,0.94]"
   ]
  },
  {
   "cell_type": "code",
   "execution_count": 112,
   "metadata": {},
   "outputs": [],
   "source": [
    "data=pd.DataFrame({'Roc_Auc':score, 'Models' : name})\n"
   ]
  },
  {
   "cell_type": "code",
   "execution_count": 113,
   "metadata": {},
   "outputs": [],
   "source": [
    "data = data.sort_values(by='Roc_Auc')"
   ]
  },
  {
   "cell_type": "code",
   "execution_count": 114,
   "metadata": {},
   "outputs": [
    {
     "data": {
      "text/html": [
       "<div>\n",
       "<style scoped>\n",
       "    .dataframe tbody tr th:only-of-type {\n",
       "        vertical-align: middle;\n",
       "    }\n",
       "\n",
       "    .dataframe tbody tr th {\n",
       "        vertical-align: top;\n",
       "    }\n",
       "\n",
       "    .dataframe thead th {\n",
       "        text-align: right;\n",
       "    }\n",
       "</style>\n",
       "<table border=\"1\" class=\"dataframe\">\n",
       "  <thead>\n",
       "    <tr style=\"text-align: right;\">\n",
       "      <th></th>\n",
       "      <th>Roc_Auc</th>\n",
       "      <th>Models</th>\n",
       "    </tr>\n",
       "  </thead>\n",
       "  <tbody>\n",
       "    <tr>\n",
       "      <th>1</th>\n",
       "      <td>0.83</td>\n",
       "      <td>DecTree</td>\n",
       "    </tr>\n",
       "    <tr>\n",
       "      <th>0</th>\n",
       "      <td>0.84</td>\n",
       "      <td>LogReg</td>\n",
       "    </tr>\n",
       "    <tr>\n",
       "      <th>2</th>\n",
       "      <td>0.85</td>\n",
       "      <td>Forest</td>\n",
       "    </tr>\n",
       "    <tr>\n",
       "      <th>4</th>\n",
       "      <td>0.88</td>\n",
       "      <td>XgBoost</td>\n",
       "    </tr>\n",
       "    <tr>\n",
       "      <th>3</th>\n",
       "      <td>0.89</td>\n",
       "      <td>Lightgbm</td>\n",
       "    </tr>\n",
       "    <tr>\n",
       "      <th>5</th>\n",
       "      <td>0.94</td>\n",
       "      <td>Catboost</td>\n",
       "    </tr>\n",
       "  </tbody>\n",
       "</table>\n",
       "</div>"
      ],
      "text/plain": [
       "   Roc_Auc    Models\n",
       "1     0.83   DecTree\n",
       "0     0.84    LogReg\n",
       "2     0.85    Forest\n",
       "4     0.88   XgBoost\n",
       "3     0.89  Lightgbm\n",
       "5     0.94  Catboost"
      ]
     },
     "execution_count": 114,
     "metadata": {},
     "output_type": "execute_result"
    }
   ],
   "source": [
    "data"
   ]
  },
  {
   "cell_type": "code",
   "execution_count": 120,
   "metadata": {},
   "outputs": [
    {
     "data": {
      "application/vnd.plotly.v1+json": {
       "config": {
        "plotlyServerURL": "https://plot.ly"
       },
       "data": [
        {
         "alignmentgroup": "True",
         "hovertemplate": "Models=%{x}<br>Roc_Auc=%{marker.color}<extra></extra>",
         "legendgroup": "",
         "marker": {
          "color": [
           0.83,
           0.84,
           0.85,
           0.88,
           0.89,
           0.94
          ],
          "coloraxis": "coloraxis"
         },
         "name": "",
         "offsetgroup": "",
         "orientation": "v",
         "showlegend": false,
         "textposition": "auto",
         "type": "bar",
         "x": [
          "DecTree",
          "LogReg",
          "Forest",
          "XgBoost",
          "Lightgbm",
          "Catboost"
         ],
         "xaxis": "x",
         "y": [
          0.83,
          0.84,
          0.85,
          0.88,
          0.89,
          0.94
         ],
         "yaxis": "y"
        }
       ],
       "layout": {
        "barmode": "relative",
        "coloraxis": {
         "colorbar": {
          "title": {
           "text": "Roc_Auc"
          }
         },
         "colorscale": [
          [
           0,
           "#0d0887"
          ],
          [
           0.1111111111111111,
           "#46039f"
          ],
          [
           0.2222222222222222,
           "#7201a8"
          ],
          [
           0.3333333333333333,
           "#9c179e"
          ],
          [
           0.4444444444444444,
           "#bd3786"
          ],
          [
           0.5555555555555556,
           "#d8576b"
          ],
          [
           0.6666666666666666,
           "#ed7953"
          ],
          [
           0.7777777777777778,
           "#fb9f3a"
          ],
          [
           0.8888888888888888,
           "#fdca26"
          ],
          [
           1,
           "#f0f921"
          ]
         ]
        },
        "legend": {
         "tracegroupgap": 0
        },
        "template": {
         "data": {
          "bar": [
           {
            "error_x": {
             "color": "#2a3f5f"
            },
            "error_y": {
             "color": "#2a3f5f"
            },
            "marker": {
             "line": {
              "color": "#E5ECF6",
              "width": 0.5
             }
            },
            "type": "bar"
           }
          ],
          "barpolar": [
           {
            "marker": {
             "line": {
              "color": "#E5ECF6",
              "width": 0.5
             }
            },
            "type": "barpolar"
           }
          ],
          "carpet": [
           {
            "aaxis": {
             "endlinecolor": "#2a3f5f",
             "gridcolor": "white",
             "linecolor": "white",
             "minorgridcolor": "white",
             "startlinecolor": "#2a3f5f"
            },
            "baxis": {
             "endlinecolor": "#2a3f5f",
             "gridcolor": "white",
             "linecolor": "white",
             "minorgridcolor": "white",
             "startlinecolor": "#2a3f5f"
            },
            "type": "carpet"
           }
          ],
          "choropleth": [
           {
            "colorbar": {
             "outlinewidth": 0,
             "ticks": ""
            },
            "type": "choropleth"
           }
          ],
          "contour": [
           {
            "colorbar": {
             "outlinewidth": 0,
             "ticks": ""
            },
            "colorscale": [
             [
              0,
              "#0d0887"
             ],
             [
              0.1111111111111111,
              "#46039f"
             ],
             [
              0.2222222222222222,
              "#7201a8"
             ],
             [
              0.3333333333333333,
              "#9c179e"
             ],
             [
              0.4444444444444444,
              "#bd3786"
             ],
             [
              0.5555555555555556,
              "#d8576b"
             ],
             [
              0.6666666666666666,
              "#ed7953"
             ],
             [
              0.7777777777777778,
              "#fb9f3a"
             ],
             [
              0.8888888888888888,
              "#fdca26"
             ],
             [
              1,
              "#f0f921"
             ]
            ],
            "type": "contour"
           }
          ],
          "contourcarpet": [
           {
            "colorbar": {
             "outlinewidth": 0,
             "ticks": ""
            },
            "type": "contourcarpet"
           }
          ],
          "heatmap": [
           {
            "colorbar": {
             "outlinewidth": 0,
             "ticks": ""
            },
            "colorscale": [
             [
              0,
              "#0d0887"
             ],
             [
              0.1111111111111111,
              "#46039f"
             ],
             [
              0.2222222222222222,
              "#7201a8"
             ],
             [
              0.3333333333333333,
              "#9c179e"
             ],
             [
              0.4444444444444444,
              "#bd3786"
             ],
             [
              0.5555555555555556,
              "#d8576b"
             ],
             [
              0.6666666666666666,
              "#ed7953"
             ],
             [
              0.7777777777777778,
              "#fb9f3a"
             ],
             [
              0.8888888888888888,
              "#fdca26"
             ],
             [
              1,
              "#f0f921"
             ]
            ],
            "type": "heatmap"
           }
          ],
          "heatmapgl": [
           {
            "colorbar": {
             "outlinewidth": 0,
             "ticks": ""
            },
            "colorscale": [
             [
              0,
              "#0d0887"
             ],
             [
              0.1111111111111111,
              "#46039f"
             ],
             [
              0.2222222222222222,
              "#7201a8"
             ],
             [
              0.3333333333333333,
              "#9c179e"
             ],
             [
              0.4444444444444444,
              "#bd3786"
             ],
             [
              0.5555555555555556,
              "#d8576b"
             ],
             [
              0.6666666666666666,
              "#ed7953"
             ],
             [
              0.7777777777777778,
              "#fb9f3a"
             ],
             [
              0.8888888888888888,
              "#fdca26"
             ],
             [
              1,
              "#f0f921"
             ]
            ],
            "type": "heatmapgl"
           }
          ],
          "histogram": [
           {
            "marker": {
             "colorbar": {
              "outlinewidth": 0,
              "ticks": ""
             }
            },
            "type": "histogram"
           }
          ],
          "histogram2d": [
           {
            "colorbar": {
             "outlinewidth": 0,
             "ticks": ""
            },
            "colorscale": [
             [
              0,
              "#0d0887"
             ],
             [
              0.1111111111111111,
              "#46039f"
             ],
             [
              0.2222222222222222,
              "#7201a8"
             ],
             [
              0.3333333333333333,
              "#9c179e"
             ],
             [
              0.4444444444444444,
              "#bd3786"
             ],
             [
              0.5555555555555556,
              "#d8576b"
             ],
             [
              0.6666666666666666,
              "#ed7953"
             ],
             [
              0.7777777777777778,
              "#fb9f3a"
             ],
             [
              0.8888888888888888,
              "#fdca26"
             ],
             [
              1,
              "#f0f921"
             ]
            ],
            "type": "histogram2d"
           }
          ],
          "histogram2dcontour": [
           {
            "colorbar": {
             "outlinewidth": 0,
             "ticks": ""
            },
            "colorscale": [
             [
              0,
              "#0d0887"
             ],
             [
              0.1111111111111111,
              "#46039f"
             ],
             [
              0.2222222222222222,
              "#7201a8"
             ],
             [
              0.3333333333333333,
              "#9c179e"
             ],
             [
              0.4444444444444444,
              "#bd3786"
             ],
             [
              0.5555555555555556,
              "#d8576b"
             ],
             [
              0.6666666666666666,
              "#ed7953"
             ],
             [
              0.7777777777777778,
              "#fb9f3a"
             ],
             [
              0.8888888888888888,
              "#fdca26"
             ],
             [
              1,
              "#f0f921"
             ]
            ],
            "type": "histogram2dcontour"
           }
          ],
          "mesh3d": [
           {
            "colorbar": {
             "outlinewidth": 0,
             "ticks": ""
            },
            "type": "mesh3d"
           }
          ],
          "parcoords": [
           {
            "line": {
             "colorbar": {
              "outlinewidth": 0,
              "ticks": ""
             }
            },
            "type": "parcoords"
           }
          ],
          "pie": [
           {
            "automargin": true,
            "type": "pie"
           }
          ],
          "scatter": [
           {
            "marker": {
             "colorbar": {
              "outlinewidth": 0,
              "ticks": ""
             }
            },
            "type": "scatter"
           }
          ],
          "scatter3d": [
           {
            "line": {
             "colorbar": {
              "outlinewidth": 0,
              "ticks": ""
             }
            },
            "marker": {
             "colorbar": {
              "outlinewidth": 0,
              "ticks": ""
             }
            },
            "type": "scatter3d"
           }
          ],
          "scattercarpet": [
           {
            "marker": {
             "colorbar": {
              "outlinewidth": 0,
              "ticks": ""
             }
            },
            "type": "scattercarpet"
           }
          ],
          "scattergeo": [
           {
            "marker": {
             "colorbar": {
              "outlinewidth": 0,
              "ticks": ""
             }
            },
            "type": "scattergeo"
           }
          ],
          "scattergl": [
           {
            "marker": {
             "colorbar": {
              "outlinewidth": 0,
              "ticks": ""
             }
            },
            "type": "scattergl"
           }
          ],
          "scattermapbox": [
           {
            "marker": {
             "colorbar": {
              "outlinewidth": 0,
              "ticks": ""
             }
            },
            "type": "scattermapbox"
           }
          ],
          "scatterpolar": [
           {
            "marker": {
             "colorbar": {
              "outlinewidth": 0,
              "ticks": ""
             }
            },
            "type": "scatterpolar"
           }
          ],
          "scatterpolargl": [
           {
            "marker": {
             "colorbar": {
              "outlinewidth": 0,
              "ticks": ""
             }
            },
            "type": "scatterpolargl"
           }
          ],
          "scatterternary": [
           {
            "marker": {
             "colorbar": {
              "outlinewidth": 0,
              "ticks": ""
             }
            },
            "type": "scatterternary"
           }
          ],
          "surface": [
           {
            "colorbar": {
             "outlinewidth": 0,
             "ticks": ""
            },
            "colorscale": [
             [
              0,
              "#0d0887"
             ],
             [
              0.1111111111111111,
              "#46039f"
             ],
             [
              0.2222222222222222,
              "#7201a8"
             ],
             [
              0.3333333333333333,
              "#9c179e"
             ],
             [
              0.4444444444444444,
              "#bd3786"
             ],
             [
              0.5555555555555556,
              "#d8576b"
             ],
             [
              0.6666666666666666,
              "#ed7953"
             ],
             [
              0.7777777777777778,
              "#fb9f3a"
             ],
             [
              0.8888888888888888,
              "#fdca26"
             ],
             [
              1,
              "#f0f921"
             ]
            ],
            "type": "surface"
           }
          ],
          "table": [
           {
            "cells": {
             "fill": {
              "color": "#EBF0F8"
             },
             "line": {
              "color": "white"
             }
            },
            "header": {
             "fill": {
              "color": "#C8D4E3"
             },
             "line": {
              "color": "white"
             }
            },
            "type": "table"
           }
          ]
         },
         "layout": {
          "annotationdefaults": {
           "arrowcolor": "#2a3f5f",
           "arrowhead": 0,
           "arrowwidth": 1
          },
          "autotypenumbers": "strict",
          "coloraxis": {
           "colorbar": {
            "outlinewidth": 0,
            "ticks": ""
           }
          },
          "colorscale": {
           "diverging": [
            [
             0,
             "#8e0152"
            ],
            [
             0.1,
             "#c51b7d"
            ],
            [
             0.2,
             "#de77ae"
            ],
            [
             0.3,
             "#f1b6da"
            ],
            [
             0.4,
             "#fde0ef"
            ],
            [
             0.5,
             "#f7f7f7"
            ],
            [
             0.6,
             "#e6f5d0"
            ],
            [
             0.7,
             "#b8e186"
            ],
            [
             0.8,
             "#7fbc41"
            ],
            [
             0.9,
             "#4d9221"
            ],
            [
             1,
             "#276419"
            ]
           ],
           "sequential": [
            [
             0,
             "#0d0887"
            ],
            [
             0.1111111111111111,
             "#46039f"
            ],
            [
             0.2222222222222222,
             "#7201a8"
            ],
            [
             0.3333333333333333,
             "#9c179e"
            ],
            [
             0.4444444444444444,
             "#bd3786"
            ],
            [
             0.5555555555555556,
             "#d8576b"
            ],
            [
             0.6666666666666666,
             "#ed7953"
            ],
            [
             0.7777777777777778,
             "#fb9f3a"
            ],
            [
             0.8888888888888888,
             "#fdca26"
            ],
            [
             1,
             "#f0f921"
            ]
           ],
           "sequentialminus": [
            [
             0,
             "#0d0887"
            ],
            [
             0.1111111111111111,
             "#46039f"
            ],
            [
             0.2222222222222222,
             "#7201a8"
            ],
            [
             0.3333333333333333,
             "#9c179e"
            ],
            [
             0.4444444444444444,
             "#bd3786"
            ],
            [
             0.5555555555555556,
             "#d8576b"
            ],
            [
             0.6666666666666666,
             "#ed7953"
            ],
            [
             0.7777777777777778,
             "#fb9f3a"
            ],
            [
             0.8888888888888888,
             "#fdca26"
            ],
            [
             1,
             "#f0f921"
            ]
           ]
          },
          "colorway": [
           "#636efa",
           "#EF553B",
           "#00cc96",
           "#ab63fa",
           "#FFA15A",
           "#19d3f3",
           "#FF6692",
           "#B6E880",
           "#FF97FF",
           "#FECB52"
          ],
          "font": {
           "color": "#2a3f5f"
          },
          "geo": {
           "bgcolor": "white",
           "lakecolor": "white",
           "landcolor": "#E5ECF6",
           "showlakes": true,
           "showland": true,
           "subunitcolor": "white"
          },
          "hoverlabel": {
           "align": "left"
          },
          "hovermode": "closest",
          "mapbox": {
           "style": "light"
          },
          "paper_bgcolor": "white",
          "plot_bgcolor": "#E5ECF6",
          "polar": {
           "angularaxis": {
            "gridcolor": "white",
            "linecolor": "white",
            "ticks": ""
           },
           "bgcolor": "#E5ECF6",
           "radialaxis": {
            "gridcolor": "white",
            "linecolor": "white",
            "ticks": ""
           }
          },
          "scene": {
           "xaxis": {
            "backgroundcolor": "#E5ECF6",
            "gridcolor": "white",
            "gridwidth": 2,
            "linecolor": "white",
            "showbackground": true,
            "ticks": "",
            "zerolinecolor": "white"
           },
           "yaxis": {
            "backgroundcolor": "#E5ECF6",
            "gridcolor": "white",
            "gridwidth": 2,
            "linecolor": "white",
            "showbackground": true,
            "ticks": "",
            "zerolinecolor": "white"
           },
           "zaxis": {
            "backgroundcolor": "#E5ECF6",
            "gridcolor": "white",
            "gridwidth": 2,
            "linecolor": "white",
            "showbackground": true,
            "ticks": "",
            "zerolinecolor": "white"
           }
          },
          "shapedefaults": {
           "line": {
            "color": "#2a3f5f"
           }
          },
          "ternary": {
           "aaxis": {
            "gridcolor": "white",
            "linecolor": "white",
            "ticks": ""
           },
           "baxis": {
            "gridcolor": "white",
            "linecolor": "white",
            "ticks": ""
           },
           "bgcolor": "#E5ECF6",
           "caxis": {
            "gridcolor": "white",
            "linecolor": "white",
            "ticks": ""
           }
          },
          "title": {
           "x": 0.05
          },
          "xaxis": {
           "automargin": true,
           "gridcolor": "white",
           "linecolor": "white",
           "ticks": "",
           "title": {
            "standoff": 15
           },
           "zerolinecolor": "white",
           "zerolinewidth": 2
          },
          "yaxis": {
           "automargin": true,
           "gridcolor": "white",
           "linecolor": "white",
           "ticks": "",
           "title": {
            "standoff": 15
           },
           "zerolinecolor": "white",
           "zerolinewidth": 2
          }
         }
        },
        "title": {
         "text": "Models Scores"
        },
        "xaxis": {
         "anchor": "y",
         "domain": [
          0,
          1
         ],
         "title": {
          "text": "Models"
         }
        },
        "yaxis": {
         "anchor": "x",
         "domain": [
          0,
          1
         ],
         "title": {
          "text": "Roc_Auc"
         }
        }
       }
      },
      "text/html": [
       "<div>                            <div id=\"2099837c-2cec-4586-b267-8196c9374ff3\" class=\"plotly-graph-div\" style=\"height:525px; width:100%;\"></div>            <script type=\"text/javascript\">                require([\"plotly\"], function(Plotly) {                    window.PLOTLYENV=window.PLOTLYENV || {};                                    if (document.getElementById(\"2099837c-2cec-4586-b267-8196c9374ff3\")) {                    Plotly.newPlot(                        \"2099837c-2cec-4586-b267-8196c9374ff3\",                        [{\"alignmentgroup\": \"True\", \"hovertemplate\": \"Models=%{x}<br>Roc_Auc=%{marker.color}<extra></extra>\", \"legendgroup\": \"\", \"marker\": {\"color\": [0.83, 0.84, 0.85, 0.88, 0.89, 0.94], \"coloraxis\": \"coloraxis\"}, \"name\": \"\", \"offsetgroup\": \"\", \"orientation\": \"v\", \"showlegend\": false, \"textposition\": \"auto\", \"type\": \"bar\", \"x\": [\"DecTree\", \"LogReg\", \"Forest\", \"XgBoost\", \"Lightgbm\", \"Catboost\"], \"xaxis\": \"x\", \"y\": [0.83, 0.84, 0.85, 0.88, 0.89, 0.94], \"yaxis\": \"y\"}],                        {\"barmode\": \"relative\", \"coloraxis\": {\"colorbar\": {\"title\": {\"text\": \"Roc_Auc\"}}, \"colorscale\": [[0.0, \"#0d0887\"], [0.1111111111111111, \"#46039f\"], [0.2222222222222222, \"#7201a8\"], [0.3333333333333333, \"#9c179e\"], [0.4444444444444444, \"#bd3786\"], [0.5555555555555556, \"#d8576b\"], [0.6666666666666666, \"#ed7953\"], [0.7777777777777778, \"#fb9f3a\"], [0.8888888888888888, \"#fdca26\"], [1.0, \"#f0f921\"]]}, \"legend\": {\"tracegroupgap\": 0}, \"template\": {\"data\": {\"bar\": [{\"error_x\": {\"color\": \"#2a3f5f\"}, \"error_y\": {\"color\": \"#2a3f5f\"}, \"marker\": {\"line\": {\"color\": \"#E5ECF6\", \"width\": 0.5}}, \"type\": \"bar\"}], \"barpolar\": [{\"marker\": {\"line\": {\"color\": \"#E5ECF6\", \"width\": 0.5}}, \"type\": \"barpolar\"}], \"carpet\": [{\"aaxis\": {\"endlinecolor\": \"#2a3f5f\", \"gridcolor\": \"white\", \"linecolor\": \"white\", \"minorgridcolor\": \"white\", \"startlinecolor\": \"#2a3f5f\"}, \"baxis\": {\"endlinecolor\": \"#2a3f5f\", \"gridcolor\": \"white\", \"linecolor\": \"white\", \"minorgridcolor\": \"white\", \"startlinecolor\": \"#2a3f5f\"}, \"type\": \"carpet\"}], \"choropleth\": [{\"colorbar\": {\"outlinewidth\": 0, \"ticks\": \"\"}, \"type\": \"choropleth\"}], \"contour\": [{\"colorbar\": {\"outlinewidth\": 0, \"ticks\": \"\"}, \"colorscale\": [[0.0, \"#0d0887\"], [0.1111111111111111, \"#46039f\"], [0.2222222222222222, \"#7201a8\"], [0.3333333333333333, \"#9c179e\"], [0.4444444444444444, \"#bd3786\"], [0.5555555555555556, \"#d8576b\"], [0.6666666666666666, \"#ed7953\"], [0.7777777777777778, \"#fb9f3a\"], [0.8888888888888888, \"#fdca26\"], [1.0, \"#f0f921\"]], \"type\": \"contour\"}], \"contourcarpet\": [{\"colorbar\": {\"outlinewidth\": 0, \"ticks\": \"\"}, \"type\": \"contourcarpet\"}], \"heatmap\": [{\"colorbar\": {\"outlinewidth\": 0, \"ticks\": \"\"}, \"colorscale\": [[0.0, \"#0d0887\"], [0.1111111111111111, \"#46039f\"], [0.2222222222222222, \"#7201a8\"], [0.3333333333333333, \"#9c179e\"], [0.4444444444444444, \"#bd3786\"], [0.5555555555555556, \"#d8576b\"], [0.6666666666666666, \"#ed7953\"], [0.7777777777777778, \"#fb9f3a\"], [0.8888888888888888, \"#fdca26\"], [1.0, \"#f0f921\"]], \"type\": \"heatmap\"}], \"heatmapgl\": [{\"colorbar\": {\"outlinewidth\": 0, \"ticks\": \"\"}, \"colorscale\": [[0.0, \"#0d0887\"], [0.1111111111111111, \"#46039f\"], [0.2222222222222222, \"#7201a8\"], [0.3333333333333333, \"#9c179e\"], [0.4444444444444444, \"#bd3786\"], [0.5555555555555556, \"#d8576b\"], [0.6666666666666666, \"#ed7953\"], [0.7777777777777778, \"#fb9f3a\"], [0.8888888888888888, \"#fdca26\"], [1.0, \"#f0f921\"]], \"type\": \"heatmapgl\"}], \"histogram\": [{\"marker\": {\"colorbar\": {\"outlinewidth\": 0, \"ticks\": \"\"}}, \"type\": \"histogram\"}], \"histogram2d\": [{\"colorbar\": {\"outlinewidth\": 0, \"ticks\": \"\"}, \"colorscale\": [[0.0, \"#0d0887\"], [0.1111111111111111, \"#46039f\"], [0.2222222222222222, \"#7201a8\"], [0.3333333333333333, \"#9c179e\"], [0.4444444444444444, \"#bd3786\"], [0.5555555555555556, \"#d8576b\"], [0.6666666666666666, \"#ed7953\"], [0.7777777777777778, \"#fb9f3a\"], [0.8888888888888888, \"#fdca26\"], [1.0, \"#f0f921\"]], \"type\": \"histogram2d\"}], \"histogram2dcontour\": [{\"colorbar\": {\"outlinewidth\": 0, \"ticks\": \"\"}, \"colorscale\": [[0.0, \"#0d0887\"], [0.1111111111111111, \"#46039f\"], [0.2222222222222222, \"#7201a8\"], [0.3333333333333333, \"#9c179e\"], [0.4444444444444444, \"#bd3786\"], [0.5555555555555556, \"#d8576b\"], [0.6666666666666666, \"#ed7953\"], [0.7777777777777778, \"#fb9f3a\"], [0.8888888888888888, \"#fdca26\"], [1.0, \"#f0f921\"]], \"type\": \"histogram2dcontour\"}], \"mesh3d\": [{\"colorbar\": {\"outlinewidth\": 0, \"ticks\": \"\"}, \"type\": \"mesh3d\"}], \"parcoords\": [{\"line\": {\"colorbar\": {\"outlinewidth\": 0, \"ticks\": \"\"}}, \"type\": \"parcoords\"}], \"pie\": [{\"automargin\": true, \"type\": \"pie\"}], \"scatter\": [{\"marker\": {\"colorbar\": {\"outlinewidth\": 0, \"ticks\": \"\"}}, \"type\": \"scatter\"}], \"scatter3d\": [{\"line\": {\"colorbar\": {\"outlinewidth\": 0, \"ticks\": \"\"}}, \"marker\": {\"colorbar\": {\"outlinewidth\": 0, \"ticks\": \"\"}}, \"type\": \"scatter3d\"}], \"scattercarpet\": [{\"marker\": {\"colorbar\": {\"outlinewidth\": 0, \"ticks\": \"\"}}, \"type\": \"scattercarpet\"}], \"scattergeo\": [{\"marker\": {\"colorbar\": {\"outlinewidth\": 0, \"ticks\": \"\"}}, \"type\": \"scattergeo\"}], \"scattergl\": [{\"marker\": {\"colorbar\": {\"outlinewidth\": 0, \"ticks\": \"\"}}, \"type\": \"scattergl\"}], \"scattermapbox\": [{\"marker\": {\"colorbar\": {\"outlinewidth\": 0, \"ticks\": \"\"}}, \"type\": \"scattermapbox\"}], \"scatterpolar\": [{\"marker\": {\"colorbar\": {\"outlinewidth\": 0, \"ticks\": \"\"}}, \"type\": \"scatterpolar\"}], \"scatterpolargl\": [{\"marker\": {\"colorbar\": {\"outlinewidth\": 0, \"ticks\": \"\"}}, \"type\": \"scatterpolargl\"}], \"scatterternary\": [{\"marker\": {\"colorbar\": {\"outlinewidth\": 0, \"ticks\": \"\"}}, \"type\": \"scatterternary\"}], \"surface\": [{\"colorbar\": {\"outlinewidth\": 0, \"ticks\": \"\"}, \"colorscale\": [[0.0, \"#0d0887\"], [0.1111111111111111, \"#46039f\"], [0.2222222222222222, \"#7201a8\"], [0.3333333333333333, \"#9c179e\"], [0.4444444444444444, \"#bd3786\"], [0.5555555555555556, \"#d8576b\"], [0.6666666666666666, \"#ed7953\"], [0.7777777777777778, \"#fb9f3a\"], [0.8888888888888888, \"#fdca26\"], [1.0, \"#f0f921\"]], \"type\": \"surface\"}], \"table\": [{\"cells\": {\"fill\": {\"color\": \"#EBF0F8\"}, \"line\": {\"color\": \"white\"}}, \"header\": {\"fill\": {\"color\": \"#C8D4E3\"}, \"line\": {\"color\": \"white\"}}, \"type\": \"table\"}]}, \"layout\": {\"annotationdefaults\": {\"arrowcolor\": \"#2a3f5f\", \"arrowhead\": 0, \"arrowwidth\": 1}, \"autotypenumbers\": \"strict\", \"coloraxis\": {\"colorbar\": {\"outlinewidth\": 0, \"ticks\": \"\"}}, \"colorscale\": {\"diverging\": [[0, \"#8e0152\"], [0.1, \"#c51b7d\"], [0.2, \"#de77ae\"], [0.3, \"#f1b6da\"], [0.4, \"#fde0ef\"], [0.5, \"#f7f7f7\"], [0.6, \"#e6f5d0\"], [0.7, \"#b8e186\"], [0.8, \"#7fbc41\"], [0.9, \"#4d9221\"], [1, \"#276419\"]], \"sequential\": [[0.0, \"#0d0887\"], [0.1111111111111111, \"#46039f\"], [0.2222222222222222, \"#7201a8\"], [0.3333333333333333, \"#9c179e\"], [0.4444444444444444, \"#bd3786\"], [0.5555555555555556, \"#d8576b\"], [0.6666666666666666, \"#ed7953\"], [0.7777777777777778, \"#fb9f3a\"], [0.8888888888888888, \"#fdca26\"], [1.0, \"#f0f921\"]], \"sequentialminus\": [[0.0, \"#0d0887\"], [0.1111111111111111, \"#46039f\"], [0.2222222222222222, \"#7201a8\"], [0.3333333333333333, \"#9c179e\"], [0.4444444444444444, \"#bd3786\"], [0.5555555555555556, \"#d8576b\"], [0.6666666666666666, \"#ed7953\"], [0.7777777777777778, \"#fb9f3a\"], [0.8888888888888888, \"#fdca26\"], [1.0, \"#f0f921\"]]}, \"colorway\": [\"#636efa\", \"#EF553B\", \"#00cc96\", \"#ab63fa\", \"#FFA15A\", \"#19d3f3\", \"#FF6692\", \"#B6E880\", \"#FF97FF\", \"#FECB52\"], \"font\": {\"color\": \"#2a3f5f\"}, \"geo\": {\"bgcolor\": \"white\", \"lakecolor\": \"white\", \"landcolor\": \"#E5ECF6\", \"showlakes\": true, \"showland\": true, \"subunitcolor\": \"white\"}, \"hoverlabel\": {\"align\": \"left\"}, \"hovermode\": \"closest\", \"mapbox\": {\"style\": \"light\"}, \"paper_bgcolor\": \"white\", \"plot_bgcolor\": \"#E5ECF6\", \"polar\": {\"angularaxis\": {\"gridcolor\": \"white\", \"linecolor\": \"white\", \"ticks\": \"\"}, \"bgcolor\": \"#E5ECF6\", \"radialaxis\": {\"gridcolor\": \"white\", \"linecolor\": \"white\", \"ticks\": \"\"}}, \"scene\": {\"xaxis\": {\"backgroundcolor\": \"#E5ECF6\", \"gridcolor\": \"white\", \"gridwidth\": 2, \"linecolor\": \"white\", \"showbackground\": true, \"ticks\": \"\", \"zerolinecolor\": \"white\"}, \"yaxis\": {\"backgroundcolor\": \"#E5ECF6\", \"gridcolor\": \"white\", \"gridwidth\": 2, \"linecolor\": \"white\", \"showbackground\": true, \"ticks\": \"\", \"zerolinecolor\": \"white\"}, \"zaxis\": {\"backgroundcolor\": \"#E5ECF6\", \"gridcolor\": \"white\", \"gridwidth\": 2, \"linecolor\": \"white\", \"showbackground\": true, \"ticks\": \"\", \"zerolinecolor\": \"white\"}}, \"shapedefaults\": {\"line\": {\"color\": \"#2a3f5f\"}}, \"ternary\": {\"aaxis\": {\"gridcolor\": \"white\", \"linecolor\": \"white\", \"ticks\": \"\"}, \"baxis\": {\"gridcolor\": \"white\", \"linecolor\": \"white\", \"ticks\": \"\"}, \"bgcolor\": \"#E5ECF6\", \"caxis\": {\"gridcolor\": \"white\", \"linecolor\": \"white\", \"ticks\": \"\"}}, \"title\": {\"x\": 0.05}, \"xaxis\": {\"automargin\": true, \"gridcolor\": \"white\", \"linecolor\": \"white\", \"ticks\": \"\", \"title\": {\"standoff\": 15}, \"zerolinecolor\": \"white\", \"zerolinewidth\": 2}, \"yaxis\": {\"automargin\": true, \"gridcolor\": \"white\", \"linecolor\": \"white\", \"ticks\": \"\", \"title\": {\"standoff\": 15}, \"zerolinecolor\": \"white\", \"zerolinewidth\": 2}}}, \"title\": {\"text\": \"Models Scores\"}, \"xaxis\": {\"anchor\": \"y\", \"domain\": [0.0, 1.0], \"title\": {\"text\": \"Models\"}}, \"yaxis\": {\"anchor\": \"x\", \"domain\": [0.0, 1.0], \"title\": {\"text\": \"Roc_Auc\"}}},                        {\"responsive\": true}                    ).then(function(){\n",
       "                            \n",
       "var gd = document.getElementById('2099837c-2cec-4586-b267-8196c9374ff3');\n",
       "var x = new MutationObserver(function (mutations, observer) {{\n",
       "        var display = window.getComputedStyle(gd).display;\n",
       "        if (!display || display === 'none') {{\n",
       "            console.log([gd, 'removed!']);\n",
       "            Plotly.purge(gd);\n",
       "            observer.disconnect();\n",
       "        }}\n",
       "}});\n",
       "\n",
       "// Listen for the removal of the full notebook cells\n",
       "var notebookContainer = gd.closest('#notebook-container');\n",
       "if (notebookContainer) {{\n",
       "    x.observe(notebookContainer, {childList: true});\n",
       "}}\n",
       "\n",
       "// Listen for the clearing of the current output cell\n",
       "var outputEl = gd.closest('.output');\n",
       "if (outputEl) {{\n",
       "    x.observe(outputEl, {childList: true});\n",
       "}}\n",
       "\n",
       "                        })                };                });            </script>        </div>"
      ]
     },
     "metadata": {},
     "output_type": "display_data"
    }
   ],
   "source": [
    "fig = px.bar(data, y='Roc_Auc',x = 'Models',color=\"Roc_Auc\", title=\"Models Scores\",)\n",
    "fig.show()"
   ]
  },
  {
   "cell_type": "code",
   "execution_count": 124,
   "metadata": {},
   "outputs": [
    {
     "ename": "NameError",
     "evalue": "name 'newplot' is not defined",
     "output_type": "error",
     "traceback": [
      "\u001b[0;31m---------------------------------------------------------------------------\u001b[0m",
      "\u001b[0;31mNameError\u001b[0m                                 Traceback (most recent call last)",
      "\u001b[0;32m<ipython-input-124-35fe08be25bc>\u001b[0m in \u001b[0;36m<module>\u001b[0;34m\u001b[0m\n\u001b[1;32m      1\u001b[0m \u001b[0;32mfrom\u001b[0m \u001b[0mIPython\u001b[0m\u001b[0;34m.\u001b[0m\u001b[0mdisplay\u001b[0m \u001b[0;32mimport\u001b[0m \u001b[0mImage\u001b[0m\u001b[0;34m\u001b[0m\u001b[0;34m\u001b[0m\u001b[0m\n\u001b[0;32m----> 2\u001b[0;31m \u001b[0mnewplot\u001b[0m\u001b[0;34m(\u001b[0m\u001b[0;34m'img/picture.png'\u001b[0m\u001b[0;34m)\u001b[0m\u001b[0;34m\u001b[0m\u001b[0;34m\u001b[0m\u001b[0m\n\u001b[0m",
      "\u001b[0;31mNameError\u001b[0m: name 'newplot' is not defined"
     ]
    }
   ],
   "source": [
    "from IPython.display import Image\n",
    "newplot('img/picture.png')"
   ]
  },
  {
   "cell_type": "code",
   "execution_count": 116,
   "metadata": {},
   "outputs": [
    {
     "data": {
      "text/plain": [
       "array([14.228768  ,  0.86673972, 67.83100509,  1.6110731 ,  4.08896321,\n",
       "        2.81279631,  0.90261872,  0.74454587,  0.56993534,  0.55685315,\n",
       "        0.97638843,  0.84499901,  0.85429382,  0.75724326,  0.81859508,\n",
       "        0.91434819,  0.62083369])"
      ]
     },
     "execution_count": 116,
     "metadata": {},
     "output_type": "execute_result"
    }
   ],
   "source": [
    "importances = cat_new_test.feature_importances_\n",
    "importances"
   ]
  },
  {
   "cell_type": "code",
   "execution_count": 117,
   "metadata": {},
   "outputs": [
    {
     "data": {
      "image/png": "[encoded data removed]",
      "text/plain": [
       "<Figure size 432x288 with 1 Axes>"
      ]
     },
     "metadata": {
      "needs_background": "light"
     },
     "output_type": "display_data"
    }
   ],
   "source": [
    "importances = cat_new_test.feature_importances_\n",
    "indices = np.argsort(importances)\n",
    "features=features_all.columns\n",
    "plt.title('Feature Importances')\n",
    "plt.barh(range(len(indices)), importances[indices], color='b', align='center')\n",
    "plt.yticks(range(len(indices)), [features[i] for i in indices])\n",
    "plt.xlabel('Relative Importance')\n",
    "plt.show()"
   ]
  },
  {
   "attachments": {
    "image.png": {
     "image/png": "[encoded data removed]"
    }
   },
   "cell_type": "markdown",
   "metadata": {},
   "source": [
    "![image.png](attachment:image.png)"
   ]
  },
  {
   "cell_type": "markdown",
   "metadata": {},
   "source": [
    "According to the graph, the most influential features are 'contract_time', 'Monthly Charges', 'Type One year', 'Type_Two year' и 'Internet Service Fiber optic'."
   ]
  },
  {
   "cell_type": "markdown",
   "metadata": {},
   "source": [
    "<a id=\"4\"></a>\n",
    "\n",
    "### Conclusion\n"
   ]
  },
  {
   "cell_type": "markdown",
   "metadata": {},
   "source": [
    "#### According to the graph, CatBoost model reached the most 'roc_auc' = 0.94.\n",
    "'LogReg' and 'Decree' display the smallest values 'roc_auc' = 0.83 and 'roc_auc' = 0.83.In addition, customer churn is the most  influenced  by 5 features: 'contract_time', 'Monthly Charges', 'Type One year', 'Type_Two year' и 'Internet Service Fiber optic'. According to this,highly recommend the business to focus on them."
   ]
  },
  {
   "cell_type": "code",
   "execution_count": null,
   "metadata": {},
   "outputs": [],
   "source": []
  }
 ],
 "metadata": {
  "kernelspec": {
   "display_name": "Python 3",
   "language": "python",
   "name": "python3"
  },
  "language_info": {
   "codemirror_mode": {
    "name": "ipython",
    "version": 3
   },
   "file_extension": ".py",
   "mimetype": "text/x-python",
   "name": "python",
   "nbconvert_exporter": "python",
   "pygments_lexer": "ipython3",
   "version": "3.8.8"
  },
  "toc": {
   "base_numbering": 1,
   "nav_menu": {},
   "number_sections": true,
   "sideBar": true,
   "skip_h1_title": true,
   "title_cell": "Table of Contents",
   "title_sidebar": "Contents",
   "toc_cell": false,
   "toc_position": {},
   "toc_section_display": true,
   "toc_window_display": true
  }
 },
 "nbformat": 4,
 "nbformat_minor": 4
}
